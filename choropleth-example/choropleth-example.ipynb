{
 "cells": [
  {
   "cell_type": "code",
   "execution_count": 38,
   "metadata": {},
   "outputs": [
    {
     "data": {
      "text/plain": [
       "ThemeRegistry.enable('opaque')"
      ]
     },
     "execution_count": 38,
     "metadata": {},
     "output_type": "execute_result"
    }
   ],
   "source": [
    "import pandas as pd\n",
    "import altair as alt\n",
    "alt.themes.enable('opaque')"
   ]
  },
  {
   "cell_type": "markdown",
   "metadata": {},
   "source": [
    "## Data prep"
   ]
  },
  {
   "cell_type": "code",
   "execution_count": 26,
   "metadata": {},
   "outputs": [
    {
     "data": {
      "text/html": [
       "<div>\n",
       "<style scoped>\n",
       "    .dataframe tbody tr th:only-of-type {\n",
       "        vertical-align: middle;\n",
       "    }\n",
       "\n",
       "    .dataframe tbody tr th {\n",
       "        vertical-align: top;\n",
       "    }\n",
       "\n",
       "    .dataframe thead th {\n",
       "        text-align: right;\n",
       "    }\n",
       "</style>\n",
       "<table border=\"1\" class=\"dataframe\">\n",
       "  <thead>\n",
       "    <tr style=\"text-align: right;\">\n",
       "      <th></th>\n",
       "      <th>County</th>\n",
       "      <th>year</th>\n",
       "      <th>residential_taxes</th>\n",
       "      <th>residential_taxes_per_capita</th>\n",
       "    </tr>\n",
       "  </thead>\n",
       "  <tbody>\n",
       "    <tr>\n",
       "      <td>0</td>\n",
       "      <td>Beaverhead</td>\n",
       "      <td>2018</td>\n",
       "      <td>6.476967e+06</td>\n",
       "      <td>688.745913</td>\n",
       "    </tr>\n",
       "    <tr>\n",
       "      <td>1</td>\n",
       "      <td>Big Horn</td>\n",
       "      <td>2018</td>\n",
       "      <td>2.505368e+06</td>\n",
       "      <td>187.836846</td>\n",
       "    </tr>\n",
       "    <tr>\n",
       "      <td>2</td>\n",
       "      <td>Blaine</td>\n",
       "      <td>2018</td>\n",
       "      <td>2.045030e+06</td>\n",
       "      <td>300.430428</td>\n",
       "    </tr>\n",
       "    <tr>\n",
       "      <td>3</td>\n",
       "      <td>Broadwater</td>\n",
       "      <td>2018</td>\n",
       "      <td>3.554921e+06</td>\n",
       "      <td>584.210534</td>\n",
       "    </tr>\n",
       "    <tr>\n",
       "      <td>4</td>\n",
       "      <td>Carbon</td>\n",
       "      <td>2018</td>\n",
       "      <td>1.040566e+07</td>\n",
       "      <td>971.220958</td>\n",
       "    </tr>\n",
       "  </tbody>\n",
       "</table>\n",
       "</div>"
      ],
      "text/plain": [
       "       County  year  residential_taxes  residential_taxes_per_capita\n",
       "0  Beaverhead  2018       6.476967e+06                    688.745913\n",
       "1    Big Horn  2018       2.505368e+06                    187.836846\n",
       "2      Blaine  2018       2.045030e+06                    300.430428\n",
       "3  Broadwater  2018       3.554921e+06                    584.210534\n",
       "4      Carbon  2018       1.040566e+07                    971.220958"
      ]
     },
     "execution_count": 26,
     "metadata": {},
     "output_type": "execute_result"
    }
   ],
   "source": [
    "# Data import & preview\n",
    "data = pd.read_csv('property-tax-data.csv')\n",
    "data.head()"
   ]
  },
  {
   "cell_type": "markdown",
   "metadata": {},
   "source": [
    "The geographic data we're using keeps track of counties using FIPS (Federal Information Processing Standards) codes. That means we need to add fips codes to the underlying data, where individual counties are identified only by name"
   ]
  },
  {
   "cell_type": "code",
   "execution_count": 16,
   "metadata": {},
   "outputs": [
    {
     "data": {
      "text/html": [
       "<div>\n",
       "<style scoped>\n",
       "    .dataframe tbody tr th:only-of-type {\n",
       "        vertical-align: middle;\n",
       "    }\n",
       "\n",
       "    .dataframe tbody tr th {\n",
       "        vertical-align: top;\n",
       "    }\n",
       "\n",
       "    .dataframe thead th {\n",
       "        text-align: right;\n",
       "    }\n",
       "</style>\n",
       "<table border=\"1\" class=\"dataframe\">\n",
       "  <thead>\n",
       "    <tr style=\"text-align: right;\">\n",
       "      <th></th>\n",
       "      <th>County</th>\n",
       "      <th>County #</th>\n",
       "      <th>fips</th>\n",
       "    </tr>\n",
       "  </thead>\n",
       "  <tbody>\n",
       "    <tr>\n",
       "      <td>0</td>\n",
       "      <td>Beaverhead</td>\n",
       "      <td>18</td>\n",
       "      <td>30001</td>\n",
       "    </tr>\n",
       "    <tr>\n",
       "      <td>1</td>\n",
       "      <td>Big Horn</td>\n",
       "      <td>22</td>\n",
       "      <td>30003</td>\n",
       "    </tr>\n",
       "    <tr>\n",
       "      <td>2</td>\n",
       "      <td>Blaine</td>\n",
       "      <td>24</td>\n",
       "      <td>30005</td>\n",
       "    </tr>\n",
       "    <tr>\n",
       "      <td>3</td>\n",
       "      <td>Broadwater</td>\n",
       "      <td>43</td>\n",
       "      <td>30007</td>\n",
       "    </tr>\n",
       "    <tr>\n",
       "      <td>4</td>\n",
       "      <td>Carbon</td>\n",
       "      <td>10</td>\n",
       "      <td>30009</td>\n",
       "    </tr>\n",
       "  </tbody>\n",
       "</table>\n",
       "</div>"
      ],
      "text/plain": [
       "       County  County #   fips\n",
       "0  Beaverhead        18  30001\n",
       "1    Big Horn        22  30003\n",
       "2      Blaine        24  30005\n",
       "3  Broadwater        43  30007\n",
       "4      Carbon        10  30009"
      ]
     },
     "execution_count": 16,
     "metadata": {},
     "output_type": "execute_result"
    }
   ],
   "source": [
    "fips_table = pd.read_csv('mt-county-ids.csv')\n",
    "fips_table.head()"
   ]
  },
  {
   "cell_type": "code",
   "execution_count": 27,
   "metadata": {},
   "outputs": [
    {
     "data": {
      "text/html": [
       "<div>\n",
       "<style scoped>\n",
       "    .dataframe tbody tr th:only-of-type {\n",
       "        vertical-align: middle;\n",
       "    }\n",
       "\n",
       "    .dataframe tbody tr th {\n",
       "        vertical-align: top;\n",
       "    }\n",
       "\n",
       "    .dataframe thead th {\n",
       "        text-align: right;\n",
       "    }\n",
       "</style>\n",
       "<table border=\"1\" class=\"dataframe\">\n",
       "  <thead>\n",
       "    <tr style=\"text-align: right;\">\n",
       "      <th></th>\n",
       "      <th>County</th>\n",
       "      <th>County #</th>\n",
       "      <th>fips</th>\n",
       "      <th>year</th>\n",
       "      <th>residential_taxes</th>\n",
       "      <th>residential_taxes_per_capita</th>\n",
       "      <th>_merge</th>\n",
       "    </tr>\n",
       "  </thead>\n",
       "  <tbody>\n",
       "    <tr>\n",
       "      <td>0</td>\n",
       "      <td>Beaverhead</td>\n",
       "      <td>18</td>\n",
       "      <td>30001</td>\n",
       "      <td>2018</td>\n",
       "      <td>6.476967e+06</td>\n",
       "      <td>688.745913</td>\n",
       "      <td>both</td>\n",
       "    </tr>\n",
       "    <tr>\n",
       "      <td>1</td>\n",
       "      <td>Big Horn</td>\n",
       "      <td>22</td>\n",
       "      <td>30003</td>\n",
       "      <td>2018</td>\n",
       "      <td>2.505368e+06</td>\n",
       "      <td>187.836846</td>\n",
       "      <td>both</td>\n",
       "    </tr>\n",
       "    <tr>\n",
       "      <td>2</td>\n",
       "      <td>Blaine</td>\n",
       "      <td>24</td>\n",
       "      <td>30005</td>\n",
       "      <td>2018</td>\n",
       "      <td>2.045030e+06</td>\n",
       "      <td>300.430428</td>\n",
       "      <td>both</td>\n",
       "    </tr>\n",
       "    <tr>\n",
       "      <td>3</td>\n",
       "      <td>Broadwater</td>\n",
       "      <td>43</td>\n",
       "      <td>30007</td>\n",
       "      <td>2018</td>\n",
       "      <td>3.554921e+06</td>\n",
       "      <td>584.210534</td>\n",
       "      <td>both</td>\n",
       "    </tr>\n",
       "    <tr>\n",
       "      <td>4</td>\n",
       "      <td>Carbon</td>\n",
       "      <td>10</td>\n",
       "      <td>30009</td>\n",
       "      <td>2018</td>\n",
       "      <td>1.040566e+07</td>\n",
       "      <td>971.220958</td>\n",
       "      <td>both</td>\n",
       "    </tr>\n",
       "  </tbody>\n",
       "</table>\n",
       "</div>"
      ],
      "text/plain": [
       "       County  County #   fips  year  residential_taxes  \\\n",
       "0  Beaverhead        18  30001  2018       6.476967e+06   \n",
       "1    Big Horn        22  30003  2018       2.505368e+06   \n",
       "2      Blaine        24  30005  2018       2.045030e+06   \n",
       "3  Broadwater        43  30007  2018       3.554921e+06   \n",
       "4      Carbon        10  30009  2018       1.040566e+07   \n",
       "\n",
       "   residential_taxes_per_capita _merge  \n",
       "0                    688.745913   both  \n",
       "1                    187.836846   both  \n",
       "2                    300.430428   both  \n",
       "3                    584.210534   both  \n",
       "4                    971.220958   both  "
      ]
     },
     "execution_count": 27,
     "metadata": {},
     "output_type": "execute_result"
    }
   ],
   "source": [
    "# Joining the tables with Pandas merge command\n",
    "# For more info, see https://pandas.pydata.org/pandas-docs/stable/user_guide/merging.html\n",
    "\n",
    "data_merged = fips_table.merge(data, left_on='County', right_on='County', indicator=True)\n",
    "data_merged.head()\n",
    "\n",
    "# left_on and right_on tell the command which columns should match each other\n",
    "# The \"left\"/first table is fips_table, \"right\" is our un-fipped data\n",
    "# indicator=True gives us the _merge column in the output we can use to check the results\n",
    "\n",
    "# Note that merge is case sensitive\n",
    "# Note that \"Lewis & Clark\" county uses an ampersand instead of an \"and\" here"
   ]
  },
  {
   "cell_type": "code",
   "execution_count": 29,
   "metadata": {},
   "outputs": [
    {
     "data": {
      "text/plain": [
       "both          56\n",
       "right_only     0\n",
       "left_only      0\n",
       "Name: _merge, dtype: int64"
      ]
     },
     "execution_count": 29,
     "metadata": {},
     "output_type": "execute_result"
    }
   ],
   "source": [
    "# Checking merge outcomes\n",
    "data_merged['_merge'].value_counts()\n",
    "# Goal here is to see a 56 counties in \"both\", indicating rows are populated by both the right and left tables\n",
    "# values in right_only or left_only indicate a merge error of some sort (e.g. mismatched county names)\n",
    "# run `data_merged[data_merged['_merge'] != 'both']` to see rows with merge errors for troubleshooting"
   ]
  },
  {
   "cell_type": "markdown",
   "metadata": {},
   "source": [
    "## Mapping"
   ]
  },
  {
   "cell_type": "code",
   "execution_count": 47,
   "metadata": {},
   "outputs": [
    {
     "data": {
      "application/vnd.vegalite.v3+json": {
       "$schema": "https://vega.github.io/schema/vega-lite/v3.4.0.json",
       "config": {
        "background": "white",
        "mark": {
         "tooltip": null
        },
        "view": {
         "height": 300,
         "strokeOpacity": 0,
         "width": 400
        }
       },
       "data": {
        "format": {
         "feature": "counties",
         "type": "topojson"
        },
        "url": "https://gist.githubusercontent.com/eidietrich/30118ba41ea41681948b06b0cf75864f/raw/9f8a2ed6d61d8ad7c42207ab4ef55a1e6548a909/mt-10m-counties.json"
       },
       "datasets": {
        "data-e8a46e7ab3d523de501987b162e4804b": [
         {
          "County": "Beaverhead",
          "County #": 18,
          "_merge": "both",
          "fips": 30001,
          "residential_taxes": 6476966.570229999,
          "residential_taxes_per_capita": 688.7459134655464,
          "year": 2018
         },
         {
          "County": "Big Horn",
          "County #": 22,
          "_merge": "both",
          "fips": 30003,
          "residential_taxes": 2505367.85814,
          "residential_taxes_per_capita": 187.83684646423748,
          "year": 2018
         },
         {
          "County": "Blaine",
          "County #": 24,
          "_merge": "both",
          "fips": 30005,
          "residential_taxes": 2045029.924131,
          "residential_taxes_per_capita": 300.4304281079772,
          "year": 2018
         },
         {
          "County": "Broadwater",
          "County #": 43,
          "_merge": "both",
          "fips": 30007,
          "residential_taxes": 3554921.1013599993,
          "residential_taxes_per_capita": 584.2105343237469,
          "year": 2018
         },
         {
          "County": "Carbon",
          "County #": 10,
          "_merge": "both",
          "fips": 30009,
          "residential_taxes": 10405661.340210004,
          "residential_taxes_per_capita": 971.2209576451377,
          "year": 2018
         },
         {
          "County": "Carter",
          "County #": 42,
          "_merge": "both",
          "fips": 30011,
          "residential_taxes": 347345.16204000014,
          "residential_taxes_per_capita": 280.5695977705978,
          "year": 2018
         },
         {
          "County": "Cascade",
          "County #": 2,
          "_merge": "both",
          "fips": 30013,
          "residential_taxes": 49476837.55107999,
          "residential_taxes_per_capita": 606.0144476694877,
          "year": 2018
         },
         {
          "County": "Chouteau",
          "County #": 19,
          "_merge": "both",
          "fips": 30015,
          "residential_taxes": 2494471.487109999,
          "residential_taxes_per_capita": 434.19869227328087,
          "year": 2018
         },
         {
          "County": "Custer",
          "County #": 14,
          "_merge": "both",
          "fips": 30017,
          "residential_taxes": 6467953.683239997,
          "residential_taxes_per_capita": 558.2559712791299,
          "year": 2018
         },
         {
          "County": "Daniels",
          "County #": 37,
          "_merge": "both",
          "fips": 30019,
          "residential_taxes": 1106966.1117699998,
          "residential_taxes_per_capita": 633.6383009559244,
          "year": 2018
         },
         {
          "County": "Dawson",
          "County #": 16,
          "_merge": "both",
          "fips": 30021,
          "residential_taxes": 5099304.842990002,
          "residential_taxes_per_capita": 587.4775164735023,
          "year": 2018
         },
         {
          "County": "Deer Lodge",
          "County #": 30,
          "_merge": "both",
          "fips": 30023,
          "residential_taxes": 5367658.077989999,
          "residential_taxes_per_capita": 587.8499702102728,
          "year": 2018
         },
         {
          "County": "Fallon",
          "County #": 39,
          "_merge": "both",
          "fips": 30025,
          "residential_taxes": 1121044.53295,
          "residential_taxes_per_capita": 383.9193605993151,
          "year": 2018
         },
         {
          "County": "Fergus",
          "County #": 8,
          "_merge": "both",
          "fips": 30027,
          "residential_taxes": 7340306.476680004,
          "residential_taxes_per_capita": 660.5152953009992,
          "year": 2018
         },
         {
          "County": "Flathead",
          "County #": 7,
          "_merge": "both",
          "fips": 30029,
          "residential_taxes": 117217442.41489498,
          "residential_taxes_per_capita": 1147.997594802411,
          "year": 2018
         },
         {
          "County": "Gallatin",
          "County #": 6,
          "_merge": "both",
          "fips": 30031,
          "residential_taxes": 122375752.80783996,
          "residential_taxes_per_capita": 1093.8517001666128,
          "year": 2018
         },
         {
          "County": "Garfield",
          "County #": 50,
          "_merge": "both",
          "fips": 30033,
          "residential_taxes": 735399.0783500003,
          "residential_taxes_per_capita": 579.967727405363,
          "year": 2018
         },
         {
          "County": "Glacier",
          "County #": 38,
          "_merge": "both",
          "fips": 30035,
          "residential_taxes": 2928791.2373,
          "residential_taxes_per_capita": 213.04948259984002,
          "year": 2018
         },
         {
          "County": "Golden Valley",
          "County #": 53,
          "_merge": "both",
          "fips": 30037,
          "residential_taxes": 363641.44824999967,
          "residential_taxes_per_capita": 440.2438840799029,
          "year": 2018
         },
         {
          "County": "Granite",
          "County #": 46,
          "_merge": "both",
          "fips": 30039,
          "residential_taxes": 3428418.7853300013,
          "residential_taxes_per_capita": 1014.9256321284787,
          "year": 2018
         },
         {
          "County": "Hill",
          "County #": 12,
          "_merge": "both",
          "fips": 30041,
          "residential_taxes": 7212711.660829998,
          "residential_taxes_per_capita": 441.2254028769803,
          "year": 2018
         },
         {
          "County": "Jefferson",
          "County #": 51,
          "_merge": "both",
          "fips": 30043,
          "residential_taxes": 9172592.257060004,
          "residential_taxes_per_capita": 758.2534725188068,
          "year": 2018
         },
         {
          "County": "Judith Basin",
          "County #": 36,
          "_merge": "both",
          "fips": 30045,
          "residential_taxes": 934932.29455,
          "residential_taxes_per_capita": 478.96121647028684,
          "year": 2018
         },
         {
          "County": "Lake",
          "County #": 15,
          "_merge": "both",
          "fips": 30047,
          "residential_taxes": 30894990.645750005,
          "residential_taxes_per_capita": 1021.3220048181821,
          "year": 2018
         },
         {
          "County": "Lewis & Clark",
          "County #": 5,
          "_merge": "both",
          "fips": 30049,
          "residential_taxes": 60891832.42265997,
          "residential_taxes_per_capita": 886.3439945074233,
          "year": 2018
         },
         {
          "County": "Liberty",
          "County #": 48,
          "_merge": "both",
          "fips": 30051,
          "residential_taxes": 939404.5848899998,
          "residential_taxes_per_capita": 386.58624892592593,
          "year": 2018
         },
         {
          "County": "Lincoln",
          "County #": 56,
          "_merge": "both",
          "fips": 30053,
          "residential_taxes": 13089673.06573399,
          "residential_taxes_per_capita": 661.2949917012221,
          "year": 2018
         },
         {
          "County": "Madison",
          "County #": 25,
          "_merge": "both",
          "fips": 30057,
          "residential_taxes": 26455699.46855,
          "residential_taxes_per_capita": 15794.447443910449,
          "year": 2018
         },
         {
          "County": "McCone",
          "County #": 41,
          "_merge": "both",
          "fips": 30055,
          "residential_taxes": 1101353.95795,
          "residential_taxes_per_capita": 125.61062476619524,
          "year": 2018
         },
         {
          "County": "Meagher",
          "County #": 47,
          "_merge": "both",
          "fips": 30059,
          "residential_taxes": 1588106.4043800014,
          "residential_taxes_per_capita": 851.0752435048239,
          "year": 2018
         },
         {
          "County": "Mineral",
          "County #": 54,
          "_merge": "both",
          "fips": 30061,
          "residential_taxes": 2978406.4094399973,
          "residential_taxes_per_capita": 690.084895607043,
          "year": 2018
         },
         {
          "County": "Missoula",
          "County #": 4,
          "_merge": "both",
          "fips": 30063,
          "residential_taxes": 117468045.86939968,
          "residential_taxes_per_capita": 988.8631787711162,
          "year": 2018
         },
         {
          "County": "Musselshell",
          "County #": 23,
          "_merge": "both",
          "fips": 30065,
          "residential_taxes": 2043785.54016,
          "residential_taxes_per_capita": 439.4292711588905,
          "year": 2018
         },
         {
          "County": "Park",
          "County #": 49,
          "_merge": "both",
          "fips": 30067,
          "residential_taxes": 15834950.22201999,
          "residential_taxes_per_capita": 946.1609836293017,
          "year": 2018
         },
         {
          "County": "Petroleum",
          "County #": 55,
          "_merge": "both",
          "fips": 30069,
          "residential_taxes": 318390.6665700001,
          "residential_taxes_per_capita": 620.6445742105265,
          "year": 2018
         },
         {
          "County": "Phillips",
          "County #": 11,
          "_merge": "both",
          "fips": 30071,
          "residential_taxes": 1987565.7229099998,
          "residential_taxes_per_capita": 487.86591136720665,
          "year": 2018
         },
         {
          "County": "Pondera",
          "County #": 26,
          "_merge": "both",
          "fips": 30073,
          "residential_taxes": 3059779.4982620035,
          "residential_taxes_per_capita": 512.3542361456805,
          "year": 2018
         },
         {
          "County": "Powder River",
          "County #": 9,
          "_merge": "both",
          "fips": 30075,
          "residential_taxes": 547082.6573900001,
          "residential_taxes_per_capita": 318.81273740675994,
          "year": 2018
         },
         {
          "County": "Powell",
          "County #": 28,
          "_merge": "both",
          "fips": 30077,
          "residential_taxes": 4008429.4245999963,
          "residential_taxes_per_capita": 575.2625465843852,
          "year": 2018
         },
         {
          "County": "Prairie",
          "County #": 45,
          "_merge": "both",
          "fips": 30079,
          "residential_taxes": 500446.1959,
          "residential_taxes_per_capita": 460.3920845446182,
          "year": 2018
         },
         {
          "County": "Ravalli",
          "County #": 13,
          "_merge": "both",
          "fips": 30081,
          "residential_taxes": 31370920.74961001,
          "residential_taxes_per_capita": 726.6496977117114,
          "year": 2018
         },
         {
          "County": "Richland",
          "County #": 27,
          "_merge": "both",
          "fips": 30083,
          "residential_taxes": 5462433.907930002,
          "residential_taxes_per_capita": 500.5437467176762,
          "year": 2018
         },
         {
          "County": "Roosevelt",
          "County #": 17,
          "_merge": "both",
          "fips": 30085,
          "residential_taxes": 2242729.35956,
          "residential_taxes_per_capita": 202.79675916086444,
          "year": 2018
         },
         {
          "County": "Rosebud",
          "County #": 29,
          "_merge": "both",
          "fips": 30087,
          "residential_taxes": 1622163.6025639996,
          "residential_taxes_per_capita": 178.9874878698003,
          "year": 2018
         },
         {
          "County": "Sanders",
          "County #": 35,
          "_merge": "both",
          "fips": 30089,
          "residential_taxes": 6837316.794810006,
          "residential_taxes_per_capita": 577.281053259879,
          "year": 2018
         },
         {
          "County": "Sheridan",
          "County #": 34,
          "_merge": "both",
          "fips": 30091,
          "residential_taxes": 2432884.141040001,
          "residential_taxes_per_capita": 710.5385925934584,
          "year": 2018
         },
         {
          "County": "Silver Bow",
          "County #": 1,
          "_merge": "both",
          "fips": 30093,
          "residential_taxes": 20074858.57446003,
          "residential_taxes_per_capita": 573.6821242665684,
          "year": 2018
         },
         {
          "County": "Stillwater",
          "County #": 32,
          "_merge": "both",
          "fips": 30095,
          "residential_taxes": 6317469.009209998,
          "residential_taxes_per_capita": 662.6252369634988,
          "year": 2018
         },
         {
          "County": "Sweet Grass",
          "County #": 40,
          "_merge": "both",
          "fips": 30097,
          "residential_taxes": 2832368.49625,
          "residential_taxes_per_capita": 763.44164319407,
          "year": 2018
         },
         {
          "County": "Teton",
          "County #": 31,
          "_merge": "both",
          "fips": 30099,
          "residential_taxes": 3430607.202210001,
          "residential_taxes_per_capita": 556.7359951655309,
          "year": 2018
         },
         {
          "County": "Toole",
          "County #": 21,
          "_merge": "both",
          "fips": 30101,
          "residential_taxes": 2402346.054138,
          "residential_taxes_per_capita": 495.0228836056047,
          "year": 2018
         },
         {
          "County": "Treasure",
          "County #": 33,
          "_merge": "both",
          "fips": 30103,
          "residential_taxes": 321455.1566400001,
          "residential_taxes_per_capita": 473.4243838586157,
          "year": 2018
         },
         {
          "County": "Valley",
          "County #": 20,
          "_merge": "both",
          "fips": 30105,
          "residential_taxes": 4278783.600580001,
          "residential_taxes_per_capita": 575.3373135108244,
          "year": 2018
         },
         {
          "County": "Wheatland",
          "County #": 44,
          "_merge": "both",
          "fips": 30107,
          "residential_taxes": 786298.3335400001,
          "residential_taxes_per_capita": 351.65399532200365,
          "year": 2018
         },
         {
          "County": "Wibaux",
          "County #": 52,
          "_merge": "both",
          "fips": 30109,
          "residential_taxes": 300562.19089499995,
          "residential_taxes_per_capita": 290.67910144584135,
          "year": 2018
         },
         {
          "County": "Yellowstone",
          "County #": 3,
          "_merge": "both",
          "fips": 30111,
          "residential_taxes": 113925753.14804009,
          "residential_taxes_per_capita": 711.4267979794807,
          "year": 2018
         }
        ]
       },
       "encoding": {
        "color": {
         "field": "residential_taxes_per_capita",
         "legend": {
          "format": "$,.0f"
         },
         "scale": {
          "domain": [
           0,
           1200
          ],
          "scheme": "yellowgreenblue"
         },
         "type": "quantitative"
        },
        "tooltip": [
         {
          "field": "County",
          "type": "nominal"
         },
         {
          "field": "residential_taxes_per_capita",
          "type": "quantitative"
         }
        ]
       },
       "height": 400,
       "mark": {
        "stroke": "white",
        "type": "geoshape"
       },
       "projection": {
        "rotate": [
         110,
         0
        ],
        "type": "albers"
       },
       "title": "Property tax burden on residential taxpayers by Montana county, 2018",
       "transform": [
        {
         "from": {
          "data": {
           "name": "data-e8a46e7ab3d523de501987b162e4804b"
          },
          "fields": [
           "County",
           "residential_taxes_per_capita"
          ],
          "key": "fips"
         },
         "lookup": "id"
        }
       ],
       "width": 600
      },
      "image/png": "[encoded data removed]",
      "text/plain": [
       "<VegaLite 3 object>\n",
       "\n",
       "If you see this message, it means the renderer has not been properly enabled\n",
       "for the frontend that you are using. For more information, see\n",
       "https://altair-viz.github.io/user_guide/troubleshooting.html\n"
      ]
     },
     "execution_count": 47,
     "metadata": {},
     "output_type": "execute_result"
    }
   ],
   "source": [
    "# Adapted from: https://altair-viz.github.io/gallery/choropleth.html\n",
    "# This pulls county spatial data from an open source repository on Github\n",
    "# Won't work without an internet connection\n",
    "# Data is formatted as a TopoJSON file, see https://github.com/topojson/topojson\n",
    "mt_counties_topojson_url = 'https://gist.githubusercontent.com/eidietrich/30118ba41ea41681948b06b0cf75864f/raw/9f8a2ed6d61d8ad7c42207ab4ef55a1e6548a909/mt-10m-counties.json'\n",
    "county_lines = alt.topo_feature(mt_counties_topojson_url, 'counties')\n",
    "\n",
    "# set plot data\n",
    "plot_data = data_merged\n",
    "\n",
    "# set color scheme\n",
    "# Options at https://vega.github.io/vega/docs/schemes/\n",
    "color_scheme = 'yellowgreenblue'\n",
    "\n",
    "# Set color scale output range\n",
    "lower_bound = 0\n",
    "upper_bound = 1200\n",
    "\n",
    "\n",
    "\n",
    "background = alt.Chart(county_lines).mark_geoshape(\n",
    "    stroke='white' # Draw a white line around each county shape\n",
    ").encode(\n",
    "    color=alt.Color(\n",
    "        'residential_taxes_per_capita:Q', # field to plot with color\n",
    "        scale=alt.Scale(\n",
    "            domain=[lower_bound,upper_bound], # set color scale input range\n",
    "            scheme=color_scheme, # set custom color scheme\n",
    "        ),\n",
    "        legend=alt.Legend(format='$,.0f') # Formats numbers on color scale legend\n",
    "    ),\n",
    "    tooltip=['County:N','residential_taxes_per_capita:Q'] # fields to show in tooltip\n",
    ").transform_lookup(\n",
    "    # This is section that merges plot data with spatial county boundary data\n",
    "    lookup='id', # Data field in (FIPS id code)\n",
    "    from_=alt.LookupData(\n",
    "        plot_data, # data to merge in\n",
    "        'fips', # id code field in plot data\n",
    "        ['County','residential_taxes_per_capita'] # fields to make available for plotting \n",
    "    )\n",
    ").project(\n",
    "    type='albers', # Sets map projection\n",
    "    rotate=[110,0] # Keeps Montana from being rotated awkwardly\n",
    ").properties(\n",
    "    # Set output properties\n",
    "    width=600,\n",
    "    height=400,\n",
    "    title='Property tax burden on residential taxpayers by Montana county, 2018'\n",
    ")\n",
    "\n",
    "(background).configure_view(\n",
    "    strokeOpacity=0 # eliminates gray box around map\n",
    ")"
   ]
  },
  {
   "cell_type": "code",
   "execution_count": null,
   "metadata": {},
   "outputs": [],
   "source": []
  }
 ],
 "metadata": {
  "kernelspec": {
   "display_name": "Python 3",
   "language": "python",
   "name": "python3"
  },
  "language_info": {
   "codemirror_mode": {
    "name": "ipython",
    "version": 3
   },
   "file_extension": ".py",
   "mimetype": "text/x-python",
   "name": "python",
   "nbconvert_exporter": "python",
   "pygments_lexer": "ipython3",
   "version": "3.6.4"
  }
 },
 "nbformat": 4,
 "nbformat_minor": 4
}
