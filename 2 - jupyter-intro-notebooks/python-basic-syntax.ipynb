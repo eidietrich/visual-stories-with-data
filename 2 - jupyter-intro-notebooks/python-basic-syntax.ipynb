{
 "cells": [
  {
   "cell_type": "markdown",
   "metadata": {},
   "source": [
    "# Python introduction\n",
    "\n",
    "NOTE: This is a *super* quick guide — learning these concepts if they're new to you can take quite a bit of practice/effort, plus better much explanation than is given here.\n",
    "\n",
    "Suggested resources for further study:\n",
    "- [Automate the boring stuff with Python](https://automatetheboringstuff.com/) - Online introductory book, free\n",
    "- [Data wrangling with Python](http://shop.oreilly.com/product/0636920032861.do) - O'Reilly book, paid (and worth paying for)\n",
    "- [Codecademy](https://www.codecademy.com/) - Interactive coding excercises for Python and other languges, freemium model\n",
    "- [Official Python Tutorial](https://docs.python.org/3.7/tutorial/index.html) (Most useful if you're coming to Python from another language)\n",
    "\n",
    "Also, for help with a particular issue, concept or error code, google `python <issue>` and look for StackOverflow links or the [official Python documentation](https://docs.python.org/3.7/)"
   ]
  },
  {
   "cell_type": "code",
   "execution_count": 6,
   "metadata": {},
   "outputs": [
    {
     "data": {
      "text/plain": [
       "5"
      ]
     },
     "execution_count": 6,
     "metadata": {},
     "output_type": "execute_result"
    }
   ],
   "source": [
    "2 + 3 # This is an expression, just like entering something in a calculator"
   ]
  },
  {
   "cell_type": "code",
   "execution_count": 5,
   "metadata": {},
   "outputs": [],
   "source": [
    "# This is a comment (the computer ignores anything after the hash sign)\n",
    "# But comments help humans understand/remember WTF is going on, which is important"
   ]
  },
  {
   "cell_type": "code",
   "execution_count": 8,
   "metadata": {},
   "outputs": [
    {
     "name": "stdout",
     "output_type": "stream",
     "text": [
      "Hello, world\n"
     ]
    }
   ],
   "source": [
    "# Printing/logging information\n",
    "print('Hello, world')"
   ]
  },
  {
   "cell_type": "code",
   "execution_count": 16,
   "metadata": {},
   "outputs": [
    {
     "data": {
      "text/plain": [
       "5"
      ]
     },
     "execution_count": 16,
     "metadata": {},
     "output_type": "execute_result"
    }
   ],
   "source": [
    "# \"declaring\" variables (storing information for later)\n",
    "x = 2\n",
    "x + 3"
   ]
  },
  {
   "cell_type": "code",
   "execution_count": 11,
   "metadata": {},
   "outputs": [],
   "source": [
    "# it's often better to use descriptive variable names, b/c it helps you remember what's what\n",
    "small_number = 0.0001"
   ]
  },
  {
   "cell_type": "code",
   "execution_count": 15,
   "metadata": {},
   "outputs": [
    {
     "data": {
      "text/plain": [
       "'The quick brown fox'"
      ]
     },
     "execution_count": 15,
     "metadata": {},
     "output_type": "execute_result"
    }
   ],
   "source": [
    "## Basic data types\n",
    "integer = 12 # 'int' / integer numbers\n",
    "decimanl = 12.03 # 'float' / decimal numbers\n",
    "sentence_example = 'The quick brown fox' # 'strings', aka sequences of characters\n",
    "\n",
    "# note it's typical Python convention to name variables as lowercase with words separated_by_underscore\n",
    "\n",
    "sentence_example"
   ]
  },
  {
   "cell_type": "code",
   "execution_count": 19,
   "metadata": {},
   "outputs": [
    {
     "data": {
      "text/plain": [
       "'second string'"
      ]
     },
     "execution_count": 19,
     "metadata": {},
     "output_type": "execute_result"
    }
   ],
   "source": [
    "# Arrays / lists of items\n",
    "\n",
    "# Note position of square brackets, commas\n",
    "collection = ['first string', 'second string', 'third string']\n",
    "collection_mixed = [1, 'a', 'xxy'] # Arrays can contain other data types\n",
    "\n",
    "# Display the second item in 'collection'\n",
    "# Try replacing 1 with 2, or 'collection' with 'collection_mixed'\n",
    "collection[1]\n",
    "# Note that counting starts at zero for... reasons"
   ]
  },
  {
   "cell_type": "code",
   "execution_count": 20,
   "metadata": {},
   "outputs": [
    {
     "data": {
      "text/plain": [
       "1"
      ]
     },
     "execution_count": 20,
     "metadata": {},
     "output_type": "execute_result"
    }
   ],
   "source": [
    "# Dictionaries/\"dicts\"/objects\n",
    "# Store information w/ as key, value pairs\n",
    "\n",
    "# Note position of curly braces, colons, commas\n",
    "example_dict = {\n",
    "    'a': 1,\n",
    "    'b': 2,\n",
    "    'c': 3,\n",
    "}\n",
    "\n",
    "# accessing information stored in a dict\n",
    "# try replacing 'a' with 'c'\n",
    "example_dict['a']"
   ]
  },
  {
   "cell_type": "code",
   "execution_count": 21,
   "metadata": {},
   "outputs": [
    {
     "data": {
      "text/plain": [
       "'Hello, Helen'"
      ]
     },
     "execution_count": 21,
     "metadata": {},
     "output_type": "execute_result"
    }
   ],
   "source": [
    "# Declaring custom functions\n",
    "def say_hello(name):\n",
    "    return 'Hello, ' + name\n",
    "# and calling them\n",
    "say_hello('Helen')"
   ]
  },
  {
   "cell_type": "code",
   "execution_count": 22,
   "metadata": {},
   "outputs": [
    {
     "data": {
      "text/plain": [
       "'Hello, Mr. President'"
      ]
     },
     "execution_count": 22,
     "metadata": {},
     "output_type": "execute_result"
    }
   ],
   "source": [
    "# Functions let you reuse code\n",
    "say_hello('Mr. President')"
   ]
  },
  {
   "cell_type": "code",
   "execution_count": 23,
   "metadata": {},
   "outputs": [
    {
     "data": {
      "text/plain": [
       "24"
      ]
     },
     "execution_count": 23,
     "metadata": {},
     "output_type": "execute_result"
    }
   ],
   "source": [
    "# Importing functions other people have written for you\n",
    "# This saves you a TREMENDOUS amount of time\n",
    "import math\n",
    "math.factorial(4) # Calls the math library's 'factorial' function to calculate 4*3*2*1"
   ]
  },
  {
   "cell_type": "code",
   "execution_count": 1,
   "metadata": {},
   "outputs": [
    {
     "data": {
      "text/plain": [
       "False"
      ]
     },
     "execution_count": 1,
     "metadata": {},
     "output_type": "execute_result"
    }
   ],
   "source": [
    "# Boolean statments\n",
    "# Note Python uses one equals sign to assign values, two to check whether values are equal\n",
    "2 == 'a'"
   ]
  },
  {
   "cell_type": "code",
   "execution_count": 3,
   "metadata": {},
   "outputs": [
    {
     "data": {
      "text/plain": [
       "True"
      ]
     },
     "execution_count": 3,
     "metadata": {},
     "output_type": "execute_result"
    }
   ],
   "source": [
    "'a' == 'a'"
   ]
  },
  {
   "cell_type": "code",
   "execution_count": 4,
   "metadata": {},
   "outputs": [
    {
     "data": {
      "text/plain": [
       "True"
      ]
     },
     "execution_count": 4,
     "metadata": {},
     "output_type": "execute_result"
    }
   ],
   "source": [
    "# Not equals\n",
    "2 != 'a'"
   ]
  },
  {
   "cell_type": "code",
   "execution_count": 6,
   "metadata": {},
   "outputs": [
    {
     "data": {
      "text/plain": [
       "False"
      ]
     },
     "execution_count": 6,
     "metadata": {},
     "output_type": "execute_result"
    }
   ],
   "source": [
    "# Is item in array?\n",
    "'a' in ['b', 'c', 'd']"
   ]
  },
  {
   "cell_type": "code",
   "execution_count": 9,
   "metadata": {},
   "outputs": [
    {
     "name": "stdout",
     "output_type": "stream",
     "text": [
      "Expression is true\n"
     ]
    }
   ],
   "source": [
    "# Control flow - if statements\n",
    "expression = ('a' == 'a')\n",
    "if (expression):\n",
    "    print('Expression is true')\n",
    "else:\n",
    "    print('Expression is not true')"
   ]
  }
 ],
 "metadata": {
  "kernelspec": {
   "display_name": "Python 3",
   "language": "python",
   "name": "python3"
  },
  "language_info": {
   "codemirror_mode": {
    "name": "ipython",
    "version": 3
   },
   "file_extension": ".py",
   "mimetype": "text/x-python",
   "name": "python",
   "nbconvert_exporter": "python",
   "pygments_lexer": "ipython3",
   "version": "3.6.4"
  }
 },
 "nbformat": 4,
 "nbformat_minor": 4
}
