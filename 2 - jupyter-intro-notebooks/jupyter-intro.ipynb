{
 "cells": [
  {
   "cell_type": "markdown",
   "metadata": {},
   "source": [
    "# Jupyter Notebook Introduction\n",
    "Code here is adapted from https://www.dataquest.io/blog/jupyter-notebook-tutorial/ (which has lengthier explanations about what's going on here if you're confused).\n",
    "\n",
    "Jupyter notebooks are collections of cells that can either be [Markdown-formatted text](https://www.markdownguide.org/basic-syntax/) (like this one) or Python code (like the ones below). This makes them good for quick projects and exploratory data analysis, and they've become a standard data science tool.\n",
    "\n",
    "You can add a new notebook cell with the \"+\" in the toolbar above. Toggle between code/markdown with the dropdown in that same toolbar.\n",
    "\n",
    "See the example cells below and try changing their output."
   ]
  },
  {
   "cell_type": "code",
   "execution_count": 1,
   "metadata": {},
   "outputs": [
    {
     "name": "stdout",
     "output_type": "stream",
     "text": [
      "Hello World!\n"
     ]
    }
   ],
   "source": [
    "# This is Python code\n",
    "# print() functions write their arguments to the output pane beneath the cell\n",
    "print('Hello World!')"
   ]
  },
  {
   "cell_type": "code",
   "execution_count": 2,
   "metadata": {},
   "outputs": [
    {
     "data": {
      "text/plain": [
       "9"
      ]
     },
     "execution_count": 2,
     "metadata": {},
     "output_type": "execute_result"
    }
   ],
   "source": [
    "# This is also Python code\n",
    "# When a cell contains a Python expression that return an output, it's printed as output beneath the cell\n",
    "4 + 5"
   ]
  },
  {
   "cell_type": "code",
   "execution_count": 3,
   "metadata": {},
   "outputs": [
    {
     "data": {
      "text/plain": [
       "9"
      ]
     },
     "execution_count": 3,
     "metadata": {},
     "output_type": "execute_result"
    }
   ],
   "source": [
    "# You can also write several lines of code in a cell\n",
    "x = 4\n",
    "y = 5\n",
    "x + y"
   ]
  },
  {
   "cell_type": "code",
   "execution_count": 4,
   "metadata": {},
   "outputs": [
    {
     "data": {
      "text/plain": [
       "4"
      ]
     },
     "execution_count": 4,
     "metadata": {},
     "output_type": "execute_result"
    }
   ],
   "source": [
    "# variables carry over between cells\n",
    "x"
   ]
  },
  {
   "cell_type": "code",
   "execution_count": 5,
   "metadata": {},
   "outputs": [
    {
     "name": "stdout",
     "output_type": "stream",
     "text": [
      "x\t y\t \n"
     ]
    }
   ],
   "source": [
    "# If you ever want to check what variables your notebook is tracking\n",
    "%who\n",
    "# Note the % sign — this IS NOT a standard Python command, and only works in Jupyter/iPython\n",
    "# See https://ipython.readthedocs.io/en/stable/interactive/python-ipython-diff.html"
   ]
  },
  {
   "cell_type": "code",
   "execution_count": 10,
   "metadata": {},
   "outputs": [
    {
     "data": {
      "text/plain": [
       "24"
      ]
     },
     "execution_count": 10,
     "metadata": {},
     "output_type": "execute_result"
    }
   ],
   "source": [
    "# You can also import Python libraries (if they're installed on your system)\n",
    "import math\n",
    "math.factorial(4) # Calls the math library's 'factorial' function to calculate 4*3*2*1"
   ]
  },
  {
   "cell_type": "code",
   "execution_count": 13,
   "metadata": {},
   "outputs": [
    {
     "data": {
      "text/plain": [
       "\u001b[0;31mDocstring:\u001b[0m\n",
       "factorial(x) -> Integral\n",
       "\n",
       "Find x!. Raise a ValueError if x is negative or non-integral.\n",
       "\u001b[0;31mType:\u001b[0m      builtin_function_or_method\n"
      ]
     },
     "metadata": {},
     "output_type": "display_data"
    }
   ],
   "source": [
    "# For documentation help w/ library functions,\n",
    "# either google \"python <library name> <function>\"\n",
    "# or add a question mark to the end w/out parenthesis, e.g.\n",
    "math.factorial?"
   ]
  }
 ],
 "metadata": {
  "kernelspec": {
   "display_name": "Python 3",
   "language": "python",
   "name": "python3"
  },
  "language_info": {
   "codemirror_mode": {
    "name": "ipython",
    "version": 3
   },
   "file_extension": ".py",
   "mimetype": "text/x-python",
   "name": "python",
   "nbconvert_exporter": "python",
   "pygments_lexer": "ipython3",
   "version": "3.6.4"
  }
 },
 "nbformat": 4,
 "nbformat_minor": 4
}
