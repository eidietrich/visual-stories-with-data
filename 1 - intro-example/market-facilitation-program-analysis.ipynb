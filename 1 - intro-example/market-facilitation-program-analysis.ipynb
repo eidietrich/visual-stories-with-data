{
 "cells": [
  {
   "cell_type": "code",
   "execution_count": null,
   "metadata": {},
   "outputs": [],
   "source": [
    "# Analaysis behind Montana Free Press story\n",
    "# As trade war simmers, Montana farmers get federal relief. Here’s where the 2019 subsidies hit home.\n",
    "# https://montanafreepress.org/2020/01/07/as-trade-war-simmers-montana-farmers-get-federal-relief-heres-where-the-2019-subsidies-landed/"
   ]
  },
  {
   "cell_type": "code",
   "execution_count": 1,
   "metadata": {},
   "outputs": [
    {
     "data": {
      "text/plain": [
       "DataTransformerRegistry.enable('default')"
      ]
     },
     "execution_count": 1,
     "metadata": {},
     "output_type": "execute_result"
    }
   ],
   "source": [
    "import pandas as pd\n",
    "import altair as alt\n",
    "\n",
    "alt.themes.enable('opaque')\n",
    "alt.data_transformers.disable_max_rows()"
   ]
  },
  {
   "cell_type": "code",
   "execution_count": 4,
   "metadata": {},
   "outputs": [],
   "source": [
    "df19 = pd.read_csv('../data/usda-2019-market-facilitation-payments.csv')"
   ]
  },
  {
   "cell_type": "code",
   "execution_count": 5,
   "metadata": {},
   "outputs": [
    {
     "data": {
      "text/html": [
       "<div>\n",
       "<style scoped>\n",
       "    .dataframe tbody tr th:only-of-type {\n",
       "        vertical-align: middle;\n",
       "    }\n",
       "\n",
       "    .dataframe tbody tr th {\n",
       "        vertical-align: top;\n",
       "    }\n",
       "\n",
       "    .dataframe thead th {\n",
       "        text-align: right;\n",
       "    }\n",
       "</style>\n",
       "<table border=\"1\" class=\"dataframe\">\n",
       "  <thead>\n",
       "    <tr style=\"text-align: right;\">\n",
       "      <th></th>\n",
       "      <th>Program Alpha Code</th>\n",
       "      <th>Payment Amount</th>\n",
       "      <th>Customer Name</th>\n",
       "      <th>State</th>\n",
       "      <th>County</th>\n",
       "    </tr>\n",
       "  </thead>\n",
       "  <tbody>\n",
       "    <tr>\n",
       "      <td>0</td>\n",
       "      <td>19MFPNSCROPS</td>\n",
       "      <td>1819.20</td>\n",
       "      <td>GLENN OSTBY</td>\n",
       "      <td>Montana</td>\n",
       "      <td>ROOSEVELT</td>\n",
       "    </tr>\n",
       "    <tr>\n",
       "      <td>1</td>\n",
       "      <td>19MFPNSCROPS</td>\n",
       "      <td>4766.25</td>\n",
       "      <td>CARL E CLARK</td>\n",
       "      <td>Montana</td>\n",
       "      <td>TOOLE</td>\n",
       "    </tr>\n",
       "    <tr>\n",
       "      <td>2</td>\n",
       "      <td>19MFPNSCROPS</td>\n",
       "      <td>54726.15</td>\n",
       "      <td>CHRISTOPHER THOMAS HANSEN</td>\n",
       "      <td>Montana</td>\n",
       "      <td>ROOSEVELT</td>\n",
       "    </tr>\n",
       "  </tbody>\n",
       "</table>\n",
       "</div>"
      ],
      "text/plain": [
       "  Program Alpha Code  Payment Amount              Customer Name    State  \\\n",
       "0       19MFPNSCROPS         1819.20                GLENN OSTBY  Montana   \n",
       "1       19MFPNSCROPS         4766.25               CARL E CLARK  Montana   \n",
       "2       19MFPNSCROPS        54726.15  CHRISTOPHER THOMAS HANSEN  Montana   \n",
       "\n",
       "      County  \n",
       "0  ROOSEVELT  \n",
       "1      TOOLE  \n",
       "2  ROOSEVELT  "
      ]
     },
     "execution_count": 5,
     "metadata": {},
     "output_type": "execute_result"
    }
   ],
   "source": [
    "df19.head(3)"
   ]
  },
  {
   "cell_type": "code",
   "execution_count": 19,
   "metadata": {},
   "outputs": [
    {
     "data": {
      "text/plain": [
       "count      9796.000000\n",
       "mean      11618.688065\n",
       "std       19792.579317\n",
       "min           0.000000\n",
       "25%        1040.475000\n",
       "50%        3793.725000\n",
       "75%       13591.882500\n",
       "max      348056.700000\n",
       "Name: Payment Amount, dtype: float64"
      ]
     },
     "execution_count": 19,
     "metadata": {},
     "output_type": "execute_result"
    }
   ],
   "source": [
    "df19['Payment Amount'].describe()"
   ]
  },
  {
   "cell_type": "code",
   "execution_count": 6,
   "metadata": {},
   "outputs": [
    {
     "data": {
      "text/plain": [
       "19MFPNSCROPS      8466\n",
       "19MFPNSCROPSA     1141\n",
       "19MFPLIVESTOCK     158\n",
       "19MFPSPECIALTY      31\n",
       "Name: Program Alpha Code, dtype: int64"
      ]
     },
     "execution_count": 6,
     "metadata": {},
     "output_type": "execute_result"
    }
   ],
   "source": [
    "df19['Program Alpha Code'].value_counts()"
   ]
  },
  {
   "cell_type": "code",
   "execution_count": 7,
   "metadata": {},
   "outputs": [
    {
     "data": {
      "text/plain": [
       "0.7007635410991491"
      ]
     },
     "execution_count": 7,
     "metadata": {},
     "output_type": "execute_result"
    }
   ],
   "source": [
    "# MT receipts for top 20% of farms\n",
    "grouped = df19.groupby('Customer Name').agg(total=('Payment Amount', sum))\n",
    "number = len(grouped)\n",
    "top_20 = grouped.sort_values('total', ascending=False).head(int(number*0.2))\n",
    "top_20['total'].sum() / df19['Payment Amount'].sum()"
   ]
  },
  {
   "cell_type": "code",
   "execution_count": 9,
   "metadata": {},
   "outputs": [
    {
     "data": {
      "text/plain": [
       "113816668.28"
      ]
     },
     "execution_count": 9,
     "metadata": {},
     "output_type": "execute_result"
    }
   ],
   "source": [
    "# Total MT receipts, 2018\n",
    "df19['Payment Amount'].sum()"
   ]
  },
  {
   "cell_type": "code",
   "execution_count": 10,
   "metadata": {},
   "outputs": [
    {
     "data": {
      "text/plain": [
       "53"
      ]
     },
     "execution_count": 10,
     "metadata": {},
     "output_type": "execute_result"
    }
   ],
   "source": [
    "# number of counties\n",
    "len(df19['County'].unique())"
   ]
  },
  {
   "cell_type": "code",
   "execution_count": 11,
   "metadata": {},
   "outputs": [
    {
     "data": {
      "text/plain": [
       "8279"
      ]
     },
     "execution_count": 11,
     "metadata": {},
     "output_type": "execute_result"
    }
   ],
   "source": [
    "# number of unique producers\n",
    "len(df19['Customer Name'].unique())"
   ]
  },
  {
   "cell_type": "code",
   "execution_count": 12,
   "metadata": {},
   "outputs": [
    {
     "data": {
      "text/html": [
       "<div>\n",
       "<style scoped>\n",
       "    .dataframe tbody tr th:only-of-type {\n",
       "        vertical-align: middle;\n",
       "    }\n",
       "\n",
       "    .dataframe tbody tr th {\n",
       "        vertical-align: top;\n",
       "    }\n",
       "\n",
       "    .dataframe thead th {\n",
       "        text-align: right;\n",
       "    }\n",
       "</style>\n",
       "<table border=\"1\" class=\"dataframe\">\n",
       "  <thead>\n",
       "    <tr style=\"text-align: right;\">\n",
       "      <th></th>\n",
       "      <th></th>\n",
       "      <th>payment</th>\n",
       "    </tr>\n",
       "    <tr>\n",
       "      <th>Customer Name</th>\n",
       "      <th>Program Alpha Code</th>\n",
       "      <th></th>\n",
       "    </tr>\n",
       "  </thead>\n",
       "  <tbody>\n",
       "    <tr>\n",
       "      <td>NEUFELD FARMS PARTNERSHIP</td>\n",
       "      <td>19MFPNSCROPS</td>\n",
       "      <td>348056.70</td>\n",
       "    </tr>\n",
       "    <tr>\n",
       "      <td>TORGERSON FARMS PARTNERSHIP</td>\n",
       "      <td>19MFPNSCROPS</td>\n",
       "      <td>316797.32</td>\n",
       "    </tr>\n",
       "    <tr>\n",
       "      <td>BROWN FARMS OF MONTANA</td>\n",
       "      <td>19MFPNSCROPS</td>\n",
       "      <td>268435.96</td>\n",
       "    </tr>\n",
       "    <tr>\n",
       "      <td>SPRINGWATER COLONY INC</td>\n",
       "      <td>19MFPNSCROPS</td>\n",
       "      <td>250000.00</td>\n",
       "    </tr>\n",
       "    <tr>\n",
       "      <td>PATRIOT FARMS</td>\n",
       "      <td>19MFPNSCROPS</td>\n",
       "      <td>242692.80</td>\n",
       "    </tr>\n",
       "  </tbody>\n",
       "</table>\n",
       "</div>"
      ],
      "text/plain": [
       "                                                  payment\n",
       "Customer Name               Program Alpha Code           \n",
       "NEUFELD FARMS PARTNERSHIP   19MFPNSCROPS        348056.70\n",
       "TORGERSON FARMS PARTNERSHIP 19MFPNSCROPS        316797.32\n",
       "BROWN FARMS OF MONTANA      19MFPNSCROPS        268435.96\n",
       "SPRINGWATER COLONY INC      19MFPNSCROPS        250000.00\n",
       "PATRIOT FARMS               19MFPNSCROPS        242692.80"
      ]
     },
     "execution_count": 12,
     "metadata": {},
     "output_type": "execute_result"
    }
   ],
   "source": [
    "# biggest recipients\n",
    "df19.groupby(['Customer Name','Program Alpha Code' ]).agg(payment=('Payment Amount', sum)).sort_values('payment', ascending=False).head(5)"
   ]
  },
  {
   "cell_type": "code",
   "execution_count": 13,
   "metadata": {},
   "outputs": [
    {
     "data": {
      "text/html": [
       "<style  type=\"text/css\" >\n",
       "</style><table id=\"T_7d05bd6c_4162_11ea_8df6_8c859085cf01\" ><thead>    <tr>        <th class=\"blank level0\" ></th>        <th class=\"col_heading level0 col0\" >payments</th>        <th class=\"col_heading level0 col1\" >count</th>    </tr>    <tr>        <th class=\"index_name level0\" >Program Alpha Code</th>        <th class=\"blank\" ></th>        <th class=\"blank\" ></th>    </tr></thead><tbody>\n",
       "                <tr>\n",
       "                        <th id=\"T_7d05bd6c_4162_11ea_8df6_8c859085cf01level0_row0\" class=\"row_heading level0 row0\" >19MFPLIVESTOCK</th>\n",
       "                        <td id=\"T_7d05bd6c_4162_11ea_8df6_8c859085cf01row0_col0\" class=\"data row0 col0\" >$           1,986,752</td>\n",
       "                        <td id=\"T_7d05bd6c_4162_11ea_8df6_8c859085cf01row0_col1\" class=\"data row0 col1\" >158</td>\n",
       "            </tr>\n",
       "            <tr>\n",
       "                        <th id=\"T_7d05bd6c_4162_11ea_8df6_8c859085cf01level0_row1\" class=\"row_heading level0 row1\" >19MFPNSCROPS</th>\n",
       "                        <td id=\"T_7d05bd6c_4162_11ea_8df6_8c859085cf01row1_col0\" class=\"data row1 col0\" >$         109,175,110</td>\n",
       "                        <td id=\"T_7d05bd6c_4162_11ea_8df6_8c859085cf01row1_col1\" class=\"data row1 col1\" >8466</td>\n",
       "            </tr>\n",
       "            <tr>\n",
       "                        <th id=\"T_7d05bd6c_4162_11ea_8df6_8c859085cf01level0_row2\" class=\"row_heading level0 row2\" >19MFPNSCROPSA</th>\n",
       "                        <td id=\"T_7d05bd6c_4162_11ea_8df6_8c859085cf01row2_col0\" class=\"data row2 col0\" >$           2,561,006</td>\n",
       "                        <td id=\"T_7d05bd6c_4162_11ea_8df6_8c859085cf01row2_col1\" class=\"data row2 col1\" >1141</td>\n",
       "            </tr>\n",
       "            <tr>\n",
       "                        <th id=\"T_7d05bd6c_4162_11ea_8df6_8c859085cf01level0_row3\" class=\"row_heading level0 row3\" >19MFPSPECIALTY</th>\n",
       "                        <td id=\"T_7d05bd6c_4162_11ea_8df6_8c859085cf01row3_col0\" class=\"data row3 col0\" >$              93,801</td>\n",
       "                        <td id=\"T_7d05bd6c_4162_11ea_8df6_8c859085cf01row3_col1\" class=\"data row3 col1\" >31</td>\n",
       "            </tr>\n",
       "    </tbody></table>"
      ],
      "text/plain": [
       "<pandas.io.formats.style.Styler at 0x11a63a080>"
      ]
     },
     "execution_count": 13,
     "metadata": {},
     "output_type": "execute_result"
    }
   ],
   "source": [
    "# Amount by program code\n",
    "pc = df19.groupby('Program Alpha Code').agg(payments=('Payment Amount', sum), count=('Payment Amount', 'count'))\n",
    "pc.style.format({\"payments\": \"${:20,.0f}\"})"
   ]
  },
  {
   "cell_type": "code",
   "execution_count": 14,
   "metadata": {},
   "outputs": [
    {
     "name": "stdout",
     "output_type": "stream",
     "text": [
      "588\n",
      "9223405.540000001\n"
     ]
    }
   ],
   "source": [
    "# Chouteau County\n",
    "chouteau = df19[df19['County'] == 'CHOUTEAU']\n",
    "print(len(chouteau['Customer Name'].unique()))\n",
    "print(chouteau['Payment Amount'].sum())"
   ]
  },
  {
   "cell_type": "code",
   "execution_count": 15,
   "metadata": {},
   "outputs": [
    {
     "name": "stdout",
     "output_type": "stream",
     "text": [
      "389\n",
      "8101553.970000001\n"
     ]
    }
   ],
   "source": [
    "# Sheridan County\n",
    "sheridan = df19[df19['County'] == 'SHERIDAN']\n",
    "print(len(sheridan['Customer Name'].unique()))\n",
    "print(sheridan['Payment Amount'].sum())"
   ]
  },
  {
   "cell_type": "code",
   "execution_count": 16,
   "metadata": {},
   "outputs": [
    {
     "name": "stdout",
     "output_type": "stream",
     "text": [
      "125\n",
      "1425253.47\n"
     ]
    }
   ],
   "source": [
    "# Garfield County\n",
    "garfield = df19[df19['County'] == 'GARFIELD']\n",
    "print(len(garfield['Customer Name'].unique()))\n",
    "print(garfield['Payment Amount'].sum())"
   ]
  },
  {
   "cell_type": "code",
   "execution_count": 17,
   "metadata": {},
   "outputs": [
    {
     "data": {
      "text/plain": [
       "count      7164.000000\n",
       "mean      15239.406689\n",
       "std       23305.147619\n",
       "min           8.700000\n",
       "25%        1687.200000\n",
       "50%        6248.700000\n",
       "75%       19465.612500\n",
       "max      348056.700000\n",
       "Name: Payment Amount, dtype: float64"
      ]
     },
     "execution_count": 17,
     "metadata": {},
     "output_type": "execute_result"
    }
   ],
   "source": [
    "# Typical payment range for commodity crop growers\n",
    "croppers = df19[df19['Program Alpha Code'] == '19MFPNSCROPS']\n",
    "grouped = croppers.groupby('Customer Name').agg({'Payment Amount': sum})\n",
    "grouped['Payment Amount'].describe()"
   ]
  },
  {
   "cell_type": "code",
   "execution_count": 18,
   "metadata": {},
   "outputs": [
    {
     "data": {
      "text/html": [
       "<div>\n",
       "<style scoped>\n",
       "    .dataframe tbody tr th:only-of-type {\n",
       "        vertical-align: middle;\n",
       "    }\n",
       "\n",
       "    .dataframe tbody tr th {\n",
       "        vertical-align: top;\n",
       "    }\n",
       "\n",
       "    .dataframe thead th {\n",
       "        text-align: right;\n",
       "    }\n",
       "</style>\n",
       "<table border=\"1\" class=\"dataframe\">\n",
       "  <thead>\n",
       "    <tr style=\"text-align: right;\">\n",
       "      <th></th>\n",
       "      <th>Program Alpha Code</th>\n",
       "      <th>Payment Amount</th>\n",
       "      <th>Customer Name</th>\n",
       "      <th>State</th>\n",
       "      <th>County</th>\n",
       "    </tr>\n",
       "  </thead>\n",
       "  <tbody>\n",
       "    <tr>\n",
       "      <td>3409</td>\n",
       "      <td>19MFPNSCROPS</td>\n",
       "      <td>355.2</td>\n",
       "      <td>DAVID F TESTER</td>\n",
       "      <td>Montana</td>\n",
       "      <td>CHOUTEAU</td>\n",
       "    </tr>\n",
       "    <tr>\n",
       "      <td>5178</td>\n",
       "      <td>19MFPNSCROPS</td>\n",
       "      <td>2957.1</td>\n",
       "      <td>R JON TESTER</td>\n",
       "      <td>Montana</td>\n",
       "      <td>CHOUTEAU</td>\n",
       "    </tr>\n",
       "  </tbody>\n",
       "</table>\n",
       "</div>"
      ],
      "text/plain": [
       "     Program Alpha Code  Payment Amount   Customer Name    State    County\n",
       "3409       19MFPNSCROPS           355.2  DAVID F TESTER  Montana  CHOUTEAU\n",
       "5178       19MFPNSCROPS          2957.1    R JON TESTER  Montana  CHOUTEAU"
      ]
     },
     "execution_count": 18,
     "metadata": {},
     "output_type": "execute_result"
    }
   ],
   "source": [
    "# Payments to Tester\n",
    "df19[df19['Customer Name'].str.contains('TESTER')]"
   ]
  },
  {
   "cell_type": "code",
   "execution_count": 26,
   "metadata": {},
   "outputs": [
    {
     "data": {
      "text/html": [
       "<style  type=\"text/css\" >\n",
       "</style><table id=\"T_5a489406_4163_11ea_ad00_8c859085cf01\" ><thead>    <tr>        <th class=\"blank\" ></th>        <th class=\"blank level0\" ></th>        <th class=\"col_heading level0 col0\" >Payment Amount</th>    </tr>    <tr>        <th class=\"index_name level0\" >Customer Name</th>        <th class=\"index_name level1\" >County</th>        <th class=\"blank\" ></th>    </tr></thead><tbody>\n",
       "                <tr>\n",
       "                        <th id=\"T_5a489406_4163_11ea_ad00_8c859085cf01level0_row0\" class=\"row_heading level0 row0\" >NEUFELD FARMS PARTNERSHIP</th>\n",
       "                        <th id=\"T_5a489406_4163_11ea_ad00_8c859085cf01level1_row0\" class=\"row_heading level1 row0\" >VALLEY</th>\n",
       "                        <td id=\"T_5a489406_4163_11ea_ad00_8c859085cf01row0_col0\" class=\"data row0 col0\" >$             348,057</td>\n",
       "            </tr>\n",
       "            <tr>\n",
       "                        <th id=\"T_5a489406_4163_11ea_ad00_8c859085cf01level0_row1\" class=\"row_heading level0 row1\" >TORGERSON FARMS PARTNERSHIP</th>\n",
       "                        <th id=\"T_5a489406_4163_11ea_ad00_8c859085cf01level1_row1\" class=\"row_heading level1 row1\" >TOOLE</th>\n",
       "                        <td id=\"T_5a489406_4163_11ea_ad00_8c859085cf01row1_col0\" class=\"data row1 col0\" >$             316,797</td>\n",
       "            </tr>\n",
       "            <tr>\n",
       "                        <th id=\"T_5a489406_4163_11ea_ad00_8c859085cf01level0_row2\" class=\"row_heading level0 row2\" >SPRINGWATER COLONY INC</th>\n",
       "                        <th id=\"T_5a489406_4163_11ea_ad00_8c859085cf01level1_row2\" class=\"row_heading level1 row2\" >WHEATLAND</th>\n",
       "                        <td id=\"T_5a489406_4163_11ea_ad00_8c859085cf01row2_col0\" class=\"data row2 col0\" >$             316,304</td>\n",
       "            </tr>\n",
       "            <tr>\n",
       "                        <th id=\"T_5a489406_4163_11ea_ad00_8c859085cf01level0_row3\" class=\"row_heading level0 row3\" >HILLDALE COLONY INC</th>\n",
       "                        <th id=\"T_5a489406_4163_11ea_ad00_8c859085cf01level1_row3\" class=\"row_heading level1 row3\" >HILL</th>\n",
       "                        <td id=\"T_5a489406_4163_11ea_ad00_8c859085cf01row3_col0\" class=\"data row3 col0\" >$             307,855</td>\n",
       "            </tr>\n",
       "            <tr>\n",
       "                        <th id=\"T_5a489406_4163_11ea_ad00_8c859085cf01level0_row4\" class=\"row_heading level0 row4\" >BROWN FARMS OF MONTANA</th>\n",
       "                        <th id=\"T_5a489406_4163_11ea_ad00_8c859085cf01level1_row4\" class=\"row_heading level1 row4\" >ROOSEVELT</th>\n",
       "                        <td id=\"T_5a489406_4163_11ea_ad00_8c859085cf01row4_col0\" class=\"data row4 col0\" >$             268,436</td>\n",
       "            </tr>\n",
       "            <tr>\n",
       "                        <th id=\"T_5a489406_4163_11ea_ad00_8c859085cf01level0_row5\" class=\"row_heading level0 row5\" >PATRIOT FARMS</th>\n",
       "                        <th id=\"T_5a489406_4163_11ea_ad00_8c859085cf01level1_row5\" class=\"row_heading level1 row5\" >YELLOWSTONE</th>\n",
       "                        <td id=\"T_5a489406_4163_11ea_ad00_8c859085cf01row5_col0\" class=\"data row5 col0\" >$             242,693</td>\n",
       "            </tr>\n",
       "            <tr>\n",
       "                        <th id=\"T_5a489406_4163_11ea_ad00_8c859085cf01level0_row6\" class=\"row_heading level0 row6\" >NORTH HARLEM HUTTERIAN BRETHREN INC</th>\n",
       "                        <th id=\"T_5a489406_4163_11ea_ad00_8c859085cf01level1_row6\" class=\"row_heading level1 row6\" >BLAINE</th>\n",
       "                        <td id=\"T_5a489406_4163_11ea_ad00_8c859085cf01row6_col0\" class=\"data row6 col0\" >$             238,887</td>\n",
       "            </tr>\n",
       "            <tr>\n",
       "                        <th id=\"T_5a489406_4163_11ea_ad00_8c859085cf01level0_row7\" class=\"row_heading level0 row7\" >BIG ROSE COLONY INC</th>\n",
       "                        <th id=\"T_5a489406_4163_11ea_ad00_8c859085cf01level1_row7\" class=\"row_heading level1 row7\" >TOOLE</th>\n",
       "                        <td id=\"T_5a489406_4163_11ea_ad00_8c859085cf01row7_col0\" class=\"data row7 col0\" >$             234,826</td>\n",
       "            </tr>\n",
       "            <tr>\n",
       "                        <th id=\"T_5a489406_4163_11ea_ad00_8c859085cf01level0_row8\" class=\"row_heading level0 row8\" >GLACIER COLONY INC</th>\n",
       "                        <th id=\"T_5a489406_4163_11ea_ad00_8c859085cf01level1_row8\" class=\"row_heading level1 row8\" >GLACIER</th>\n",
       "                        <td id=\"T_5a489406_4163_11ea_ad00_8c859085cf01row8_col0\" class=\"data row8 col0\" >$             220,826</td>\n",
       "            </tr>\n",
       "            <tr>\n",
       "                        <th id=\"T_5a489406_4163_11ea_ad00_8c859085cf01level0_row9\" class=\"row_heading level0 row9\" >SALVEVOLD INCORPORATED</th>\n",
       "                        <th id=\"T_5a489406_4163_11ea_ad00_8c859085cf01level1_row9\" class=\"row_heading level1 row9\" >ROOSEVELT</th>\n",
       "                        <td id=\"T_5a489406_4163_11ea_ad00_8c859085cf01row9_col0\" class=\"data row9 col0\" >$             203,709</td>\n",
       "            </tr>\n",
       "    </tbody></table>"
      ],
      "text/plain": [
       "<pandas.io.formats.style.Styler at 0x119d51cf8>"
      ]
     },
     "execution_count": 26,
     "metadata": {},
     "output_type": "execute_result"
    }
   ],
   "source": [
    "# Top individual 5 recipients\n",
    "by_recipient = df19.groupby(['Customer Name', 'County']).agg({'Payment Amount': sum})\n",
    "by_recipient.sort_values('Payment Amount', ascending=False).head(10).style.format({\"Payment Amount\": \"${:20,.0f}\"})"
   ]
  },
  {
   "cell_type": "code",
   "execution_count": 29,
   "metadata": {},
   "outputs": [
    {
     "data": {
      "text/html": [
       "<div>\n",
       "<style scoped>\n",
       "    .dataframe tbody tr th:only-of-type {\n",
       "        vertical-align: middle;\n",
       "    }\n",
       "\n",
       "    .dataframe tbody tr th {\n",
       "        vertical-align: top;\n",
       "    }\n",
       "\n",
       "    .dataframe thead th {\n",
       "        text-align: right;\n",
       "    }\n",
       "</style>\n",
       "<table border=\"1\" class=\"dataframe\">\n",
       "  <thead>\n",
       "    <tr style=\"text-align: right;\">\n",
       "      <th></th>\n",
       "      <th>total_payments</th>\n",
       "      <th>count_recipients</th>\n",
       "    </tr>\n",
       "    <tr>\n",
       "      <th>County</th>\n",
       "      <th></th>\n",
       "      <th></th>\n",
       "    </tr>\n",
       "  </thead>\n",
       "  <tbody>\n",
       "    <tr>\n",
       "      <td>LAKE</td>\n",
       "      <td>209707.11</td>\n",
       "      <td>42</td>\n",
       "    </tr>\n",
       "    <tr>\n",
       "      <td>MADISON</td>\n",
       "      <td>149580.94</td>\n",
       "      <td>21</td>\n",
       "    </tr>\n",
       "    <tr>\n",
       "      <td>POWELL</td>\n",
       "      <td>108025.43</td>\n",
       "      <td>33</td>\n",
       "    </tr>\n",
       "    <tr>\n",
       "      <td>SWEET GRASS</td>\n",
       "      <td>73075.66</td>\n",
       "      <td>26</td>\n",
       "    </tr>\n",
       "    <tr>\n",
       "      <td>RAVALLI</td>\n",
       "      <td>65259.13</td>\n",
       "      <td>18</td>\n",
       "    </tr>\n",
       "    <tr>\n",
       "      <td>DEER LODGE</td>\n",
       "      <td>56110.34</td>\n",
       "      <td>15</td>\n",
       "    </tr>\n",
       "    <tr>\n",
       "      <td>GRANITE</td>\n",
       "      <td>39211.41</td>\n",
       "      <td>20</td>\n",
       "    </tr>\n",
       "    <tr>\n",
       "      <td>MISSOULA</td>\n",
       "      <td>6184.50</td>\n",
       "      <td>4</td>\n",
       "    </tr>\n",
       "    <tr>\n",
       "      <td>JEFFERSON</td>\n",
       "      <td>2714.86</td>\n",
       "      <td>4</td>\n",
       "    </tr>\n",
       "    <tr>\n",
       "      <td>SILVER BOW</td>\n",
       "      <td>1117.06</td>\n",
       "      <td>1</td>\n",
       "    </tr>\n",
       "  </tbody>\n",
       "</table>\n",
       "</div>"
      ],
      "text/plain": [
       "             total_payments  count_recipients\n",
       "County                                       \n",
       "LAKE              209707.11                42\n",
       "MADISON           149580.94                21\n",
       "POWELL            108025.43                33\n",
       "SWEET GRASS        73075.66                26\n",
       "RAVALLI            65259.13                18\n",
       "DEER LODGE         56110.34                15\n",
       "GRANITE            39211.41                20\n",
       "MISSOULA            6184.50                 4\n",
       "JEFFERSON           2714.86                 4\n",
       "SILVER BOW          1117.06                 1"
      ]
     },
     "execution_count": 29,
     "metadata": {},
     "output_type": "execute_result"
    }
   ],
   "source": [
    "# Top county 5 recipients\n",
    "# starting w/ by_recipient eliminates multiple payments to individuals\n",
    "\n",
    "by_county = by_recipient.reset_index().groupby(['County']).agg(\n",
    "    total_payments=('Payment Amount', sum),\n",
    "    count_recipients=('Payment Amount', 'count')\n",
    ")\n",
    "# by_county = by_county.merge(farms, on='County', how='right').drop(columns=['county'])\n",
    "# by_county['f_enrolled'] = by_county['count_payments'] / by_county['num_farms_17'] # apples to apples?\n",
    "\n",
    "by_county.sort_values('total_payments', ascending=False).tail(10)"
   ]
  },
  {
   "cell_type": "code",
   "execution_count": 34,
   "metadata": {},
   "outputs": [
    {
     "data": {
      "application/vnd.vegalite.v3+json": {
       "$schema": "https://vega.github.io/schema/vega-lite/v3.4.0.json",
       "config": {
        "background": "white",
        "mark": {
         "tooltip": null
        },
        "numberFormat": "$,.0f",
        "view": {
         "height": 300,
         "strokeOpacity": 0,
         "width": 400
        }
       },
       "datasets": {
        "data-22c0d25bbe2621a6d7a584d713c0f09c": [
         {
          "fips": 50200,
          "latitude": 46.868456099999996,
          "longitude": -114.0094148,
          "name": "Missoula"
         },
         {
          "fips": 49525,
          "latitude": 46.405881799999996,
          "longitude": -105.838503,
          "name": "Miles City"
         },
         {
          "fips": 40075,
          "latitude": 48.21553772,
          "longitude": -114.3261804,
          "name": "Kalispell"
         },
         {
          "fips": 35050,
          "latitude": 48.54275568,
          "longitude": -109.6804982,
          "name": "Havre"
         },
         {
          "fips": 11397,
          "latitude": 45.99630475,
          "longitude": -112.54225090000001,
          "name": "Butte"
         },
         {
          "fips": 8950,
          "latitude": 45.68277518,
          "longitude": -111.0547662,
          "name": "Bozeman"
         },
         {
          "fips": 35600,
          "latitude": 46.59642057,
          "longitude": -112.0196973,
          "name": "Helena"
         },
         {
          "fips": 6550,
          "latitude": 45.78888543,
          "longitude": -108.5502767,
          "name": "Billings"
         },
         {
          "fips": 32800,
          "latitude": 47.5021616,
          "longitude": -111.2994842,
          "name": "Great Falls"
         }
        ],
        "data-fc0999e997d9df98e5e9389a97c18348": [
         {
          "County": "BEAVERHEAD",
          "count_recipients": 53,
          "latitude": 45.1327138834279,
          "longitude": -112.898821224463,
          "total_payments": 305734.19
         },
         {
          "County": "BIG HORN",
          "count_recipients": 137,
          "latitude": 45.423386434246204,
          "longitude": -107.48985427155,
          "total_payments": 1175069.3899999997
         },
         {
          "County": "BLAINE",
          "count_recipients": 256,
          "latitude": 48.4327565653613,
          "longitude": -108.958606501468,
          "total_payments": 3842929.799999999
         },
         {
          "County": "BROADWATER",
          "count_recipients": 51,
          "latitude": 46.332422237296,
          "longitude": -111.49548615281401,
          "total_payments": 513374.3199999998
         },
         {
          "County": "CARBON",
          "count_recipients": 111,
          "latitude": 45.2273938798635,
          "longitude": -109.028058532446,
          "total_payments": 331867.24
         },
         {
          "County": "CARTER",
          "count_recipients": 112,
          "latitude": 45.5167522483388,
          "longitude": -104.53614601092501,
          "total_payments": 859803.7800000005
         },
         {
          "County": "CASCADE",
          "count_recipients": 263,
          "latitude": 47.307966650881795,
          "longitude": -111.34705290835699,
          "total_payments": 2493330.9599999995
         },
         {
          "County": "CHOUTEAU",
          "count_recipients": 588,
          "latitude": 47.8805796850936,
          "longitude": -110.435220491693,
          "total_payments": 9223405.539999994
         },
         {
          "County": "CUSTER",
          "count_recipients": 95,
          "latitude": 46.2527114592014,
          "longitude": -105.57171345019,
          "total_payments": 800650.8900000002
         },
         {
          "County": "DANIELS",
          "count_recipients": 220,
          "latitude": 48.7838236070356,
          "longitude": -105.54864506726999,
          "total_payments": 5714847.789999998
         },
         {
          "County": "DAWSON",
          "count_recipients": 305,
          "latitude": 47.2663733323341,
          "longitude": -104.89950110081999,
          "total_payments": 3768944.1699999985
         },
         {
          "County": "DEER LODGE",
          "count_recipients": 15,
          "latitude": 46.0608010509292,
          "longitude": -113.067813480797,
          "total_payments": 56110.33999999999
         },
         {
          "County": "FALLON",
          "count_recipients": 108,
          "latitude": 46.334018532748395,
          "longitude": -104.41742464654699,
          "total_payments": 1068428.62
         },
         {
          "County": "FERGUS",
          "count_recipients": 344,
          "latitude": 47.2635988853554,
          "longitude": -109.224440894804,
          "total_payments": 3678808.8399999994
         },
         {
          "County": "FLATHEAD",
          "count_recipients": 97,
          "latitude": 48.295124847558604,
          "longitude": -114.049675093471,
          "total_payments": 381527.65
         },
         {
          "County": "GALLATIN",
          "count_recipients": 171,
          "latitude": 45.5403898794952,
          "longitude": -111.170356211023,
          "total_payments": 1420493.5999999994
         },
         {
          "County": "GARFIELD",
          "count_recipients": 125,
          "latitude": 47.2776389953446,
          "longitude": -106.992879556045,
          "total_payments": 1425253.47
         },
         {
          "County": "GLACIER",
          "count_recipients": 105,
          "latitude": 48.7050305629377,
          "longitude": -112.994713325898,
          "total_payments": 3365013.2699999996
         },
         {
          "County": "GOLDEN VALLEY",
          "count_recipients": 48,
          "latitude": 46.381296781267004,
          "longitude": -109.17505665659701,
          "total_payments": 602234.1
         },
         {
          "County": "GRANITE",
          "count_recipients": 20,
          "latitude": 46.4044628806499,
          "longitude": -113.44036982132201,
          "total_payments": 39211.41
         },
         {
          "County": "HILL",
          "count_recipients": 688,
          "latitude": 48.628195246237404,
          "longitude": -110.11124182569401,
          "total_payments": 8694100.230000002
         },
         {
          "County": "JEFFERSON",
          "count_recipients": 4,
          "latitude": 46.1484601659363,
          "longitude": -112.09378735232401,
          "total_payments": 2714.86
         },
         {
          "County": "JUDITH BASIN",
          "count_recipients": 127,
          "latitude": 47.045446199961795,
          "longitude": -110.266054223214,
          "total_payments": 1705192.5400000005
         },
         {
          "County": "LAKE",
          "count_recipients": 42,
          "latitude": 47.645924824964,
          "longitude": -114.089377918732,
          "total_payments": 209707.10999999996
         },
         {
          "County": "LEWIS AND CLARK",
          "count_recipients": 46,
          "latitude": 47.1224437658413,
          "longitude": -112.39045471615201,
          "total_payments": 443919.07
         },
         {
          "County": "LIBERTY",
          "count_recipients": 291,
          "latitude": 48.5617725556907,
          "longitude": -111.024585435189,
          "total_payments": 6048738.299999996
         },
         {
          "County": "MADISON",
          "count_recipients": 21,
          "latitude": 45.30069565372501,
          "longitude": -111.920245016497,
          "total_payments": 149580.94
         },
         {
          "County": "MCCONE",
          "count_recipients": 225,
          "latitude": 47.64524381500421,
          "longitude": -105.795430164668,
          "total_payments": 4500015.920000002
         },
         {
          "County": "MEAGHER",
          "count_recipients": 30,
          "latitude": 46.5982082539489,
          "longitude": -110.88564941746701,
          "total_payments": 482991.17000000004
         },
         {
          "County": "MISSOULA",
          "count_recipients": 4,
          "latitude": 47.0365311991777,
          "longitude": -113.923750832614,
          "total_payments": 6184.499999999999
         },
         {
          "County": "MUSSELSHELL",
          "count_recipients": 55,
          "latitude": 46.49655167387429,
          "longitude": -108.398106836124,
          "total_payments": 751409.1899999998
         },
         {
          "County": "PARK",
          "count_recipients": 40,
          "latitude": 45.4883497254343,
          "longitude": -110.52665325217801,
          "total_payments": 246300.94000000006
         },
         {
          "County": "PETROLEUM",
          "count_recipients": 29,
          "latitude": 47.1175674671986,
          "longitude": -108.25023044120701,
          "total_payments": 280146.7
         },
         {
          "County": "PHILLIPS",
          "count_recipients": 230,
          "latitude": 48.25920305455401,
          "longitude": -107.913231503201,
          "total_payments": 3202384.7200000025
         },
         {
          "County": "PONDERA",
          "count_recipients": 366,
          "latitude": 48.227986811830995,
          "longitude": -112.226795128958,
          "total_payments": 4185621.9699999997
         },
         {
          "County": "POWDER RIVER",
          "count_recipients": 69,
          "latitude": 45.394986542579005,
          "longitude": -105.630183415357,
          "total_payments": 600880.9800000001
         },
         {
          "County": "POWELL",
          "count_recipients": 33,
          "latitude": 46.8564161956904,
          "longitude": -112.936163009902,
          "total_payments": 108025.43000000001
         },
         {
          "County": "PRAIRIE",
          "count_recipients": 78,
          "latitude": 46.860512174864,
          "longitude": -105.377990826875,
          "total_payments": 784183.4499999996
         },
         {
          "County": "RAVALLI",
          "count_recipients": 18,
          "latitude": 46.08168116261211,
          "longitude": -114.120755484793,
          "total_payments": 65259.13000000001
         },
         {
          "County": "RICHLAND",
          "count_recipients": 428,
          "latitude": 47.78800545051471,
          "longitude": -104.56134119691099,
          "total_payments": 3569813.8899999987
         },
         {
          "County": "ROOSEVELT",
          "count_recipients": 279,
          "latitude": 48.294574604500895,
          "longitude": -105.016575538778,
          "total_payments": 5807144.710000004
         },
         {
          "County": "ROSEBUD",
          "count_recipients": 81,
          "latitude": 46.2296633352647,
          "longitude": -106.73072512191601,
          "total_payments": 702882.9899999999
         },
         {
          "County": "SHERIDAN",
          "count_recipients": 389,
          "latitude": 48.7211947984054,
          "longitude": -104.50467875287701,
          "total_payments": 8101553.969999992
         },
         {
          "County": "SILVER BOW",
          "count_recipients": 1,
          "latitude": 45.902405683143705,
          "longitude": -112.65672633598899,
          "total_payments": 1117.06
         },
         {
          "County": "STILLWATER",
          "count_recipients": 159,
          "latitude": 45.669027672512996,
          "longitude": -109.395244548738,
          "total_payments": 848797.1599999997
         },
         {
          "County": "SWEET GRASS",
          "count_recipients": 26,
          "latitude": 45.813899640139894,
          "longitude": -109.941016969769,
          "total_payments": 73075.66
         },
         {
          "County": "TETON",
          "count_recipients": 297,
          "latitude": 47.837228678237295,
          "longitude": -112.24057292146001,
          "total_payments": 3777516.6800000006
         },
         {
          "County": "TOOLE",
          "count_recipients": 303,
          "latitude": 48.6552918790196,
          "longitude": -111.69564936365101,
          "total_payments": 5539615.160000006
         },
         {
          "County": "TREASURE",
          "count_recipients": 36,
          "latitude": 46.2114666922565,
          "longitude": -107.27160790329799,
          "total_payments": 240161.45999999996
         },
         {
          "County": "VALLEY",
          "count_recipients": 362,
          "latitude": 48.365367087761,
          "longitude": -106.667463859353,
          "total_payments": 7731069.24
         },
         {
          "County": "WHEATLAND",
          "count_recipients": 35,
          "latitude": 46.46628370468821,
          "longitude": -109.844511235037,
          "total_payments": 984476.93
         },
         {
          "County": "WIBAUX",
          "count_recipients": 80,
          "latitude": 46.965397225609706,
          "longitude": -104.248918460744,
          "total_payments": 803537.72
         },
         {
          "County": "YELLOWSTONE",
          "count_recipients": 189,
          "latitude": 45.937340970837205,
          "longitude": -108.27439920024,
          "total_payments": 2101509.1299999994
         }
        ]
       },
       "height": 300,
       "layer": [
        {
         "data": {
          "format": {
           "feature": "counties",
           "type": "topojson"
          },
          "url": "https://gist.githubusercontent.com/eidietrich/30118ba41ea41681948b06b0cf75864f/raw/9f8a2ed6d61d8ad7c42207ab4ef55a1e6548a909/mt-10m-counties.json"
         },
         "mark": {
          "fill": "#eee",
          "stroke": "white",
          "strokeWidth": 1.5,
          "type": "geoshape"
         }
        },
        {
         "data": {
          "format": {
           "feature": "highways",
           "type": "topojson"
          },
          "url": "https://gist.githubusercontent.com/eidietrich/67cbe6196b6b87698fc42f50e96076ab/raw/4d51ceb627c76360497837e1ac5338698f7df752/ne_mt_highways_state_resolution.topojson.json"
         },
         "mark": {
          "opacity": 0.1,
          "stroke": "#666",
          "strokeWidth": 1,
          "type": "geoshape"
         }
        },
        {
         "data": {
          "name": "data-22c0d25bbe2621a6d7a584d713c0f09c"
         },
         "encoding": {
          "latitude": {
           "field": "latitude",
           "type": "quantitative"
          },
          "longitude": {
           "field": "longitude",
           "type": "quantitative"
          }
         },
         "mark": {
          "fill": "none",
          "size": 20,
          "stroke": "#444",
          "strokeWidth": 1,
          "type": "square"
         }
        },
        {
         "data": {
          "name": "data-fc0999e997d9df98e5e9389a97c18348"
         },
         "encoding": {
          "color": {
           "value": "brown"
          },
          "latitude": {
           "field": "latitude",
           "type": "quantitative"
          },
          "longitude": {
           "field": "longitude",
           "type": "quantitative"
          },
          "size": {
           "field": "total_payments",
           "scale": {
            "domain": [
             0,
             8000000
            ],
            "range": [
             0,
             1000
            ]
           },
           "title": "County total",
           "type": "quantitative"
          },
          "tooltip": [
           {
            "field": "County",
            "type": "nominal"
           },
           {
            "field": "total_payments",
            "type": "quantitative"
           }
          ]
         },
         "mark": "circle"
        }
       ],
       "projection": {
        "rotate": [
         110,
         0
        ],
        "type": "albers"
       },
       "title": "2019 MFP payments by county through XDATE",
       "width": 500
      },
      "image/png": "[encoded data removed]",
      "text/plain": [
       "<VegaLite 3 object>\n",
       "\n",
       "If you see this message, it means the renderer has not been properly enabled\n",
       "for the frontend that you are using. For more information, see\n",
       "https://altair-viz.github.io/user_guide/troubleshooting.html\n"
      ]
     },
     "execution_count": 34,
     "metadata": {},
     "output_type": "execute_result"
    }
   ],
   "source": [
    "# County shapes\n",
    "mt_counties_topojson_url = 'https://gist.githubusercontent.com/eidietrich/30118ba41ea41681948b06b0cf75864f/raw/9f8a2ed6d61d8ad7c42207ab4ef55a1e6548a909/mt-10m-counties.json'\n",
    "county_lines = alt.topo_feature(mt_counties_topojson_url, 'counties')\n",
    "\n",
    "# Highway paths\n",
    "mt_highways_topojson_url = 'https://gist.githubusercontent.com/eidietrich/67cbe6196b6b87698fc42f50e96076ab/raw/4d51ceb627c76360497837e1ac5338698f7df752/ne_mt_highways_state_resolution.topojson.json'\n",
    "highways = alt.topo_feature(mt_highways_topojson_url, 'highways')\n",
    "\n",
    "# City point locations\n",
    "cities = pd.read_csv('mt-major-cities.csv')\n",
    "\n",
    "# County center point data\n",
    "county_centroids = pd.read_csv('mt-county-centroids.csv').rename(columns={\n",
    "    'NAME': 'County',\n",
    "    'X': 'longitude',\n",
    "    'Y': 'latitude'\n",
    "})\n",
    "\n",
    "# Merge circle size data with county center point data\n",
    "point_data = by_county.merge(county_centroids[['County','longitude','latitude']], on='County')\n",
    "\n",
    "# Sizing for circle marks\n",
    "mfp_scale = scale=alt.Scale(domain=[0,8000000], range=[0,1000])\n",
    "\n",
    "# County shapes\n",
    "background = alt.Chart(county_lines).mark_geoshape(\n",
    "    fill='#eee',\n",
    "    stroke='white',\n",
    "    strokeWidth=1.5,\n",
    ")\n",
    "\n",
    "# Road shapes\n",
    "roads = alt.Chart(highways).mark_geoshape(\n",
    "    stroke='#666',\n",
    "    strokeWidth=1,\n",
    "    opacity=0.1\n",
    ")\n",
    "\n",
    "# City points\n",
    "cities = alt.Chart(cities).mark_square(size=20, fill='none', stroke='#444', strokeWidth=1).encode(\n",
    "    longitude='longitude:Q',\n",
    "    latitude='latitude:Q'\n",
    ")\n",
    "\n",
    "# Data circles\n",
    "points = alt.Chart(point_data).mark_circle().encode(\n",
    "    longitude='longitude:Q',\n",
    "    latitude='latitude:Q',\n",
    "    size=alt.Size('total_payments:Q', title='County total', scale=mfp_scale),\n",
    "    color=alt.value('brown'),\n",
    "    tooltip=['County', 'total_payments']\n",
    ")\n",
    "\n",
    "# Combine to single plot\n",
    "(background + roads + cities + points).configure(numberFormat='$,.0f').configure_view(strokeOpacity=0).project(\n",
    "    type='albers',\n",
    "    rotate=[110,0]\n",
    ").properties(\n",
    "    width=500,\n",
    "    height=300,\n",
    "    title='2019 MFP payments by county through XDATE',  \n",
    ")"
   ]
  },
  {
   "cell_type": "code",
   "execution_count": null,
   "metadata": {},
   "outputs": [],
   "source": []
  }
 ],
 "metadata": {
  "kernelspec": {
   "display_name": "Python 3",
   "language": "python",
   "name": "python3"
  },
  "language_info": {
   "codemirror_mode": {
    "name": "ipython",
    "version": 3
   },
   "file_extension": ".py",
   "mimetype": "text/x-python",
   "name": "python",
   "nbconvert_exporter": "python",
   "pygments_lexer": "ipython3",
   "version": "3.6.4"
  }
 },
 "nbformat": 4,
 "nbformat_minor": 4
}
