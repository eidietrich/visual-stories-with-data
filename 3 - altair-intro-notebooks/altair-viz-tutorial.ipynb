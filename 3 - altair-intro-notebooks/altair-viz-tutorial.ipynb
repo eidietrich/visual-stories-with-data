{
 "cells": [
  {
   "cell_type": "code",
   "execution_count": 9,
   "metadata": {},
   "outputs": [
    {
     "data": {
      "text/plain": [
       "ThemeRegistry.enable('opaque')"
      ]
     },
     "execution_count": 9,
     "metadata": {},
     "output_type": "execute_result"
    }
   ],
   "source": [
    "# Enable libraries\n",
    "import pandas as pd # data wrangling tools\n",
    "import altair as alt # data viz tools\n",
    "alt.themes.enable('opaque') # ensures charts have solid white background"
   ]
  },
  {
   "cell_type": "code",
   "execution_count": 58,
   "metadata": {},
   "outputs": [],
   "source": [
    "# Read in data\n",
    "full = pd.read_csv('data/mt-livestock-counts.csv')\n",
    "\n",
    "# Filter data to make it more manageable for data viz practice\n",
    "include_counties = ['MISSOULA','BEAVERHEAD','LEWIS AND CLARK','LINCOLN','RAVALLI','POWELL']\n",
    "include_types = ['Cattle']\n",
    "# See all types with `full['Type'].unique()`\n",
    "data = full[\n",
    "    full['County Name'].isin(include_counties)\n",
    "    & full['Type'].isin(include_types)\n",
    "    & (full['Year'] == 2018)\n",
    "]"
   ]
  },
  {
   "cell_type": "code",
   "execution_count": 59,
   "metadata": {},
   "outputs": [
    {
     "data": {
      "text/html": [
       "<div>\n",
       "<style scoped>\n",
       "    .dataframe tbody tr th:only-of-type {\n",
       "        vertical-align: middle;\n",
       "    }\n",
       "\n",
       "    .dataframe tbody tr th {\n",
       "        vertical-align: top;\n",
       "    }\n",
       "\n",
       "    .dataframe thead th {\n",
       "        text-align: right;\n",
       "    }\n",
       "</style>\n",
       "<table border=\"1\" class=\"dataframe\">\n",
       "  <thead>\n",
       "    <tr style=\"text-align: right;\">\n",
       "      <th></th>\n",
       "      <th>Year</th>\n",
       "      <th>County Id</th>\n",
       "      <th>County Name</th>\n",
       "      <th>Type</th>\n",
       "      <th>Count</th>\n",
       "    </tr>\n",
       "  </thead>\n",
       "  <tbody>\n",
       "    <tr>\n",
       "      <td>675</td>\n",
       "      <td>2018</td>\n",
       "      <td>4</td>\n",
       "      <td>MISSOULA</td>\n",
       "      <td>Cattle</td>\n",
       "      <td>3914.0</td>\n",
       "    </tr>\n",
       "    <tr>\n",
       "      <td>676</td>\n",
       "      <td>2018</td>\n",
       "      <td>5</td>\n",
       "      <td>LEWIS AND CLARK</td>\n",
       "      <td>Cattle</td>\n",
       "      <td>25917.0</td>\n",
       "    </tr>\n",
       "    <tr>\n",
       "      <td>684</td>\n",
       "      <td>2018</td>\n",
       "      <td>13</td>\n",
       "      <td>RAVALLI</td>\n",
       "      <td>Cattle</td>\n",
       "      <td>17080.0</td>\n",
       "    </tr>\n",
       "    <tr>\n",
       "      <td>689</td>\n",
       "      <td>2018</td>\n",
       "      <td>18</td>\n",
       "      <td>BEAVERHEAD</td>\n",
       "      <td>Cattle</td>\n",
       "      <td>102714.0</td>\n",
       "    </tr>\n",
       "    <tr>\n",
       "      <td>699</td>\n",
       "      <td>2018</td>\n",
       "      <td>28</td>\n",
       "      <td>POWELL</td>\n",
       "      <td>Cattle</td>\n",
       "      <td>30438.0</td>\n",
       "    </tr>\n",
       "    <tr>\n",
       "      <td>727</td>\n",
       "      <td>2018</td>\n",
       "      <td>56</td>\n",
       "      <td>LINCOLN</td>\n",
       "      <td>Cattle</td>\n",
       "      <td>2024.0</td>\n",
       "    </tr>\n",
       "  </tbody>\n",
       "</table>\n",
       "</div>"
      ],
      "text/plain": [
       "     Year  County Id      County Name    Type     Count\n",
       "675  2018          4         MISSOULA  Cattle    3914.0\n",
       "676  2018          5  LEWIS AND CLARK  Cattle   25917.0\n",
       "684  2018         13          RAVALLI  Cattle   17080.0\n",
       "689  2018         18       BEAVERHEAD  Cattle  102714.0\n",
       "699  2018         28           POWELL  Cattle   30438.0\n",
       "727  2018         56          LINCOLN  Cattle    2024.0"
      ]
     },
     "execution_count": 59,
     "metadata": {},
     "output_type": "execute_result"
    }
   ],
   "source": [
    "# See what's in the data\n",
    "data"
   ]
  },
  {
   "cell_type": "code",
   "execution_count": 60,
   "metadata": {},
   "outputs": [
    {
     "data": {
      "application/vnd.vegalite.v3+json": {
       "$schema": "https://vega.github.io/schema/vega-lite/v3.4.0.json",
       "config": {
        "background": "white",
        "mark": {
         "tooltip": null
        },
        "view": {
         "height": 300,
         "width": 400
        }
       },
       "data": {
        "name": "data-a0a9f46bdcc0a9796d64ee2022f8f289"
       },
       "datasets": {
        "data-a0a9f46bdcc0a9796d64ee2022f8f289": [
         {
          "Count": 3914,
          "County Id": 4,
          "County Name": "MISSOULA",
          "Type": "Cattle",
          "Year": 2018
         },
         {
          "Count": 25917,
          "County Id": 5,
          "County Name": "LEWIS AND CLARK",
          "Type": "Cattle",
          "Year": 2018
         },
         {
          "Count": 17080,
          "County Id": 13,
          "County Name": "RAVALLI",
          "Type": "Cattle",
          "Year": 2018
         },
         {
          "Count": 102714,
          "County Id": 18,
          "County Name": "BEAVERHEAD",
          "Type": "Cattle",
          "Year": 2018
         },
         {
          "Count": 30438,
          "County Id": 28,
          "County Name": "POWELL",
          "Type": "Cattle",
          "Year": 2018
         },
         {
          "Count": 2024,
          "County Id": 56,
          "County Name": "LINCOLN",
          "Type": "Cattle",
          "Year": 2018
         }
        ]
       },
       "encoding": {
        "x": {
         "field": "Count",
         "type": "quantitative"
        },
        "y": {
         "field": "County Name",
         "type": "nominal"
        }
       },
       "mark": "bar"
      },
      "image/png": "[encoded data removed]",
      "text/plain": [
       "<VegaLite 3 object>\n",
       "\n",
       "If you see this message, it means the renderer has not been properly enabled\n",
       "for the frontend that you are using. For more information, see\n",
       "https://altair-viz.github.io/user_guide/troubleshooting.html\n"
      ]
     },
     "execution_count": 60,
     "metadata": {},
     "output_type": "execute_result"
    }
   ],
   "source": [
    "### Basic chart\n",
    "# Use bar marks\n",
    "# Encode year on vertical (y) axis\n",
    "# Encoding \n",
    "\n",
    "alt.Chart(data).mark_bar().encode(\n",
    "    x='Count',\n",
    "    y='County Name'\n",
    ")\n",
    "\n",
    "# CHECK: Does this chart match the data?"
   ]
  },
  {
   "cell_type": "markdown",
   "metadata": {},
   "source": [
    "## Quick exercises"
   ]
  },
  {
   "cell_type": "code",
   "execution_count": 61,
   "metadata": {},
   "outputs": [
    {
     "data": {
      "application/vnd.vegalite.v3+json": {
       "$schema": "https://vega.github.io/schema/vega-lite/v3.4.0.json",
       "config": {
        "background": "white",
        "mark": {
         "tooltip": null
        },
        "view": {
         "height": 300,
         "width": 400
        }
       },
       "data": {
        "name": "data-a0a9f46bdcc0a9796d64ee2022f8f289"
       },
       "datasets": {
        "data-a0a9f46bdcc0a9796d64ee2022f8f289": [
         {
          "Count": 3914,
          "County Id": 4,
          "County Name": "MISSOULA",
          "Type": "Cattle",
          "Year": 2018
         },
         {
          "Count": 25917,
          "County Id": 5,
          "County Name": "LEWIS AND CLARK",
          "Type": "Cattle",
          "Year": 2018
         },
         {
          "Count": 17080,
          "County Id": 13,
          "County Name": "RAVALLI",
          "Type": "Cattle",
          "Year": 2018
         },
         {
          "Count": 102714,
          "County Id": 18,
          "County Name": "BEAVERHEAD",
          "Type": "Cattle",
          "Year": 2018
         },
         {
          "Count": 30438,
          "County Id": 28,
          "County Name": "POWELL",
          "Type": "Cattle",
          "Year": 2018
         },
         {
          "Count": 2024,
          "County Id": 56,
          "County Name": "LINCOLN",
          "Type": "Cattle",
          "Year": 2018
         }
        ]
       },
       "encoding": {
        "x": {
         "field": "Count",
         "type": "quantitative"
        },
        "y": {
         "field": "County Name",
         "type": "nominal"
        }
       },
       "mark": "bar"
      },
      "image/png": "[encoded data removed]",
      "text/plain": [
       "<VegaLite 3 object>\n",
       "\n",
       "If you see this message, it means the renderer has not been properly enabled\n",
       "for the frontend that you are using. For more information, see\n",
       "https://altair-viz.github.io/user_guide/troubleshooting.html\n"
      ]
     },
     "execution_count": 61,
     "metadata": {},
     "output_type": "execute_result"
    }
   ],
   "source": [
    "# Task 1\n",
    "# Modify this code so it plots chart with points instead of bars\n",
    "# Replace `mark_bar()` with `mark_point()`\n",
    "\n",
    "alt.Chart(data).mark_bar().encode(\n",
    "    x='Count',\n",
    "    y='County Name'\n",
    ")"
   ]
  },
  {
   "cell_type": "code",
   "execution_count": 31,
   "metadata": {},
   "outputs": [
    {
     "data": {
      "application/vnd.vegalite.v3+json": {
       "$schema": "https://vega.github.io/schema/vega-lite/v3.4.0.json",
       "config": {
        "background": "white",
        "mark": {
         "tooltip": null
        },
        "view": {
         "height": 300,
         "width": 400
        }
       },
       "data": {
        "name": "data-a0a9f46bdcc0a9796d64ee2022f8f289"
       },
       "datasets": {
        "data-a0a9f46bdcc0a9796d64ee2022f8f289": [
         {
          "Count": 3914,
          "County Id": 4,
          "County Name": "MISSOULA",
          "Type": "Cattle",
          "Year": 2018
         },
         {
          "Count": 25917,
          "County Id": 5,
          "County Name": "LEWIS AND CLARK",
          "Type": "Cattle",
          "Year": 2018
         },
         {
          "Count": 17080,
          "County Id": 13,
          "County Name": "RAVALLI",
          "Type": "Cattle",
          "Year": 2018
         },
         {
          "Count": 102714,
          "County Id": 18,
          "County Name": "BEAVERHEAD",
          "Type": "Cattle",
          "Year": 2018
         },
         {
          "Count": 30438,
          "County Id": 28,
          "County Name": "POWELL",
          "Type": "Cattle",
          "Year": 2018
         },
         {
          "Count": 2024,
          "County Id": 56,
          "County Name": "LINCOLN",
          "Type": "Cattle",
          "Year": 2018
         }
        ]
       },
       "encoding": {
        "x": {
         "field": "Count",
         "type": "quantitative"
        },
        "y": {
         "field": "County Name",
         "type": "nominal"
        }
       },
       "mark": "bar"
      },
      "image/png": "[encoded data removed]",
      "text/plain": [
       "<VegaLite 3 object>\n",
       "\n",
       "If you see this message, it means the renderer has not been properly enabled\n",
       "for the frontend that you are using. For more information, see\n",
       "https://altair-viz.github.io/user_guide/troubleshooting.html\n"
      ]
     },
     "execution_count": 31,
     "metadata": {},
     "output_type": "execute_result"
    }
   ],
   "source": [
    "# Task 3\n",
    "# Flip chart orientation\n",
    "# swap \"x\" and \"y\" in below\n",
    "\n",
    "alt.Chart(data).mark_bar().encode(\n",
    "    x='Count',\n",
    "    y='County Name'\n",
    ")"
   ]
  },
  {
   "cell_type": "code",
   "execution_count": 85,
   "metadata": {},
   "outputs": [
    {
     "data": {
      "application/vnd.vegalite.v3+json": {
       "$schema": "https://vega.github.io/schema/vega-lite/v3.4.0.json",
       "config": {
        "background": "white",
        "mark": {
         "tooltip": null
        },
        "view": {
         "height": 300,
         "width": 400
        }
       },
       "data": {
        "name": "data-a0a9f46bdcc0a9796d64ee2022f8f289"
       },
       "datasets": {
        "data-a0a9f46bdcc0a9796d64ee2022f8f289": [
         {
          "Count": 3914,
          "County Id": 4,
          "County Name": "MISSOULA",
          "Type": "Cattle",
          "Year": 2018
         },
         {
          "Count": 25917,
          "County Id": 5,
          "County Name": "LEWIS AND CLARK",
          "Type": "Cattle",
          "Year": 2018
         },
         {
          "Count": 17080,
          "County Id": 13,
          "County Name": "RAVALLI",
          "Type": "Cattle",
          "Year": 2018
         },
         {
          "Count": 102714,
          "County Id": 18,
          "County Name": "BEAVERHEAD",
          "Type": "Cattle",
          "Year": 2018
         },
         {
          "Count": 30438,
          "County Id": 28,
          "County Name": "POWELL",
          "Type": "Cattle",
          "Year": 2018
         },
         {
          "Count": 2024,
          "County Id": 56,
          "County Name": "LINCOLN",
          "Type": "Cattle",
          "Year": 2018
         }
        ]
       },
       "encoding": {
        "color": {
         "field": "Type",
         "type": "nominal"
        },
        "x": {
         "field": "Count",
         "type": "quantitative"
        },
        "y": {
         "field": "County Name",
         "type": "nominal"
        }
       },
       "mark": "bar"
      },
      "image/png": "[encoded data removed]",
      "text/plain": [
       "<VegaLite 3 object>\n",
       "\n",
       "If you see this message, it means the renderer has not been properly enabled\n",
       "for the frontend that you are using. For more information, see\n",
       "https://altair-viz.github.io/user_guide/troubleshooting.html\n"
      ]
     },
     "execution_count": 85,
     "metadata": {},
     "output_type": "execute_result"
    }
   ],
   "source": [
    "# Task 4\n",
    "# Look at multiple types of animals at once instead of cows\n",
    "\n",
    "include_types_multiple = ['Cattle'] # Delete this line\n",
    "# include_types_multiple = ['Cattle', 'Sheep'] # Uncomment this line (remove '#' at start)\n",
    "\n",
    "data_with_sheep = full[\n",
    "    full['County Name'].isin(include_counties)\n",
    "    & full['Type'].isin(include_types_multiple)\n",
    "    & (full['Year'] == 2018)\n",
    "]\n",
    "\n",
    "alt.Chart(data_with_sheep).mark_bar().encode(\n",
    "    x='Count',\n",
    "    y='County Name',\n",
    "    color='Type', # Encodes animal type by color\n",
    ")\n",
    "\n",
    "# See what happens with mark_point() instead of mark_bar()\n",
    "# Note bars stack by default, points don't\n",
    "# This can be changed!"
   ]
  },
  {
   "cell_type": "markdown",
   "metadata": {},
   "source": [
    "## Other examples using this data"
   ]
  },
  {
   "cell_type": "code",
   "execution_count": 78,
   "metadata": {},
   "outputs": [],
   "source": [
    "# Re-filter data\n",
    "include_types = ['Cattle','Goats','Sheep','Poultry']\n",
    "more_animals = full[\n",
    "    full['County Name'].isin(include_counties)\n",
    "    & full['Type'].isin(include_types)\n",
    "]"
   ]
  },
  {
   "cell_type": "code",
   "execution_count": 79,
   "metadata": {},
   "outputs": [
    {
     "data": {
      "application/vnd.vegalite.v3+json": {
       "$schema": "https://vega.github.io/schema/vega-lite/v3.4.0.json",
       "config": {
        "background": "white",
        "mark": {
         "tooltip": null
        },
        "view": {
         "height": 300,
         "width": 400
        }
       },
       "data": {
        "name": "data-5e45537d704e40d370d31d5e8e61fd87"
       },
       "datasets": {
        "data-5e45537d704e40d370d31d5e8e61fd87": [
         {
          "Count": 3914,
          "County Id": 4,
          "County Name": "MISSOULA",
          "Type": "Cattle",
          "Year": 2018
         },
         {
          "Count": 25917,
          "County Id": 5,
          "County Name": "LEWIS AND CLARK",
          "Type": "Cattle",
          "Year": 2018
         },
         {
          "Count": 17080,
          "County Id": 13,
          "County Name": "RAVALLI",
          "Type": "Cattle",
          "Year": 2018
         },
         {
          "Count": 102714,
          "County Id": 18,
          "County Name": "BEAVERHEAD",
          "Type": "Cattle",
          "Year": 2018
         },
         {
          "Count": 30438,
          "County Id": 28,
          "County Name": "POWELL",
          "Type": "Cattle",
          "Year": 2018
         },
         {
          "Count": 2024,
          "County Id": 56,
          "County Name": "LINCOLN",
          "Type": "Cattle",
          "Year": 2018
         },
         {
          "Count": 376,
          "County Id": 4,
          "County Name": "MISSOULA",
          "Type": "Sheep",
          "Year": 2018
         },
         {
          "Count": 2710,
          "County Id": 5,
          "County Name": "LEWIS AND CLARK",
          "Type": "Sheep",
          "Year": 2018
         },
         {
          "Count": 1107,
          "County Id": 13,
          "County Name": "RAVALLI",
          "Type": "Sheep",
          "Year": 2018
         },
         {
          "Count": 10423,
          "County Id": 18,
          "County Name": "BEAVERHEAD",
          "Type": "Sheep",
          "Year": 2018
         },
         {
          "Count": 371,
          "County Id": 28,
          "County Name": "POWELL",
          "Type": "Sheep",
          "Year": 2018
         },
         {
          "Count": 122,
          "County Id": 56,
          "County Name": "LINCOLN",
          "Type": "Sheep",
          "Year": 2018
         },
         {
          "Count": 162,
          "County Id": 4,
          "County Name": "MISSOULA",
          "Type": "Goats",
          "Year": 2018
         },
         {
          "Count": 403,
          "County Id": 5,
          "County Name": "LEWIS AND CLARK",
          "Type": "Goats",
          "Year": 2018
         },
         {
          "Count": 363,
          "County Id": 13,
          "County Name": "RAVALLI",
          "Type": "Goats",
          "Year": 2018
         },
         {
          "Count": 80,
          "County Id": 18,
          "County Name": "BEAVERHEAD",
          "Type": "Goats",
          "Year": 2018
         },
         {
          "Count": 28,
          "County Id": 28,
          "County Name": "POWELL",
          "Type": "Goats",
          "Year": 2018
         },
         {
          "Count": 31,
          "County Id": 56,
          "County Name": "LINCOLN",
          "Type": "Goats",
          "Year": 2018
         },
         {
          "Count": 829,
          "County Id": 4,
          "County Name": "MISSOULA",
          "Type": "Poultry",
          "Year": 2018
         },
         {
          "Count": 39080,
          "County Id": 5,
          "County Name": "LEWIS AND CLARK",
          "Type": "Poultry",
          "Year": 2018
         },
         {
          "Count": 2933,
          "County Id": 13,
          "County Name": "RAVALLI",
          "Type": "Poultry",
          "Year": 2018
         },
         {
          "Count": 493,
          "County Id": 18,
          "County Name": "BEAVERHEAD",
          "Type": "Poultry",
          "Year": 2018
         },
         {
          "Count": 429,
          "County Id": 28,
          "County Name": "POWELL",
          "Type": "Poultry",
          "Year": 2018
         },
         {
          "Count": 841,
          "County Id": 56,
          "County Name": "LINCOLN",
          "Type": "Poultry",
          "Year": 2018
         }
        ]
       },
       "encoding": {
        "color": {
         "field": "Type",
         "type": "nominal"
        },
        "x": {
         "field": "Count",
         "type": "quantitative"
        },
        "y": {
         "field": "County Name",
         "type": "nominal"
        }
       },
       "mark": "point"
      },
      "image/png": "[encoded data removed]",
      "text/plain": [
       "<VegaLite 3 object>\n",
       "\n",
       "If you see this message, it means the renderer has not been properly enabled\n",
       "for the frontend that you are using. For more information, see\n",
       "https://altair-viz.github.io/user_guide/troubleshooting.html\n"
      ]
     },
     "execution_count": 79,
     "metadata": {},
     "output_type": "execute_result"
    }
   ],
   "source": [
    "data = more_animals[more_animals['Year'] == 2018]\n",
    "alt.Chart(data).mark_point().encode(\n",
    "    x='Count',\n",
    "    y='County Name',\n",
    "    color='Type',\n",
    ")"
   ]
  },
  {
   "cell_type": "code",
   "execution_count": 80,
   "metadata": {},
   "outputs": [
    {
     "data": {
      "application/vnd.vegalite.v3+json": {
       "$schema": "https://vega.github.io/schema/vega-lite/v3.4.0.json",
       "config": {
        "background": "white",
        "mark": {
         "tooltip": null
        },
        "view": {
         "height": 300,
         "width": 400
        }
       },
       "data": {
        "name": "data-5e45537d704e40d370d31d5e8e61fd87"
       },
       "datasets": {
        "data-5e45537d704e40d370d31d5e8e61fd87": [
         {
          "Count": 3914,
          "County Id": 4,
          "County Name": "MISSOULA",
          "Type": "Cattle",
          "Year": 2018
         },
         {
          "Count": 25917,
          "County Id": 5,
          "County Name": "LEWIS AND CLARK",
          "Type": "Cattle",
          "Year": 2018
         },
         {
          "Count": 17080,
          "County Id": 13,
          "County Name": "RAVALLI",
          "Type": "Cattle",
          "Year": 2018
         },
         {
          "Count": 102714,
          "County Id": 18,
          "County Name": "BEAVERHEAD",
          "Type": "Cattle",
          "Year": 2018
         },
         {
          "Count": 30438,
          "County Id": 28,
          "County Name": "POWELL",
          "Type": "Cattle",
          "Year": 2018
         },
         {
          "Count": 2024,
          "County Id": 56,
          "County Name": "LINCOLN",
          "Type": "Cattle",
          "Year": 2018
         },
         {
          "Count": 376,
          "County Id": 4,
          "County Name": "MISSOULA",
          "Type": "Sheep",
          "Year": 2018
         },
         {
          "Count": 2710,
          "County Id": 5,
          "County Name": "LEWIS AND CLARK",
          "Type": "Sheep",
          "Year": 2018
         },
         {
          "Count": 1107,
          "County Id": 13,
          "County Name": "RAVALLI",
          "Type": "Sheep",
          "Year": 2018
         },
         {
          "Count": 10423,
          "County Id": 18,
          "County Name": "BEAVERHEAD",
          "Type": "Sheep",
          "Year": 2018
         },
         {
          "Count": 371,
          "County Id": 28,
          "County Name": "POWELL",
          "Type": "Sheep",
          "Year": 2018
         },
         {
          "Count": 122,
          "County Id": 56,
          "County Name": "LINCOLN",
          "Type": "Sheep",
          "Year": 2018
         },
         {
          "Count": 162,
          "County Id": 4,
          "County Name": "MISSOULA",
          "Type": "Goats",
          "Year": 2018
         },
         {
          "Count": 403,
          "County Id": 5,
          "County Name": "LEWIS AND CLARK",
          "Type": "Goats",
          "Year": 2018
         },
         {
          "Count": 363,
          "County Id": 13,
          "County Name": "RAVALLI",
          "Type": "Goats",
          "Year": 2018
         },
         {
          "Count": 80,
          "County Id": 18,
          "County Name": "BEAVERHEAD",
          "Type": "Goats",
          "Year": 2018
         },
         {
          "Count": 28,
          "County Id": 28,
          "County Name": "POWELL",
          "Type": "Goats",
          "Year": 2018
         },
         {
          "Count": 31,
          "County Id": 56,
          "County Name": "LINCOLN",
          "Type": "Goats",
          "Year": 2018
         },
         {
          "Count": 829,
          "County Id": 4,
          "County Name": "MISSOULA",
          "Type": "Poultry",
          "Year": 2018
         },
         {
          "Count": 39080,
          "County Id": 5,
          "County Name": "LEWIS AND CLARK",
          "Type": "Poultry",
          "Year": 2018
         },
         {
          "Count": 2933,
          "County Id": 13,
          "County Name": "RAVALLI",
          "Type": "Poultry",
          "Year": 2018
         },
         {
          "Count": 493,
          "County Id": 18,
          "County Name": "BEAVERHEAD",
          "Type": "Poultry",
          "Year": 2018
         },
         {
          "Count": 429,
          "County Id": 28,
          "County Name": "POWELL",
          "Type": "Poultry",
          "Year": 2018
         },
         {
          "Count": 841,
          "County Id": 56,
          "County Name": "LINCOLN",
          "Type": "Poultry",
          "Year": 2018
         }
        ]
       },
       "encoding": {
        "text": {
         "field": "Count",
         "type": "quantitative"
        },
        "x": {
         "field": "Type",
         "type": "nominal"
        },
        "y": {
         "field": "County Name",
         "type": "nominal"
        }
       },
       "mark": "text"
      },
      "image/png": "[encoded data removed]",
      "text/plain": [
       "<VegaLite 3 object>\n",
       "\n",
       "If you see this message, it means the renderer has not been properly enabled\n",
       "for the frontend that you are using. For more information, see\n",
       "https://altair-viz.github.io/user_guide/troubleshooting.html\n"
      ]
     },
     "execution_count": 80,
     "metadata": {},
     "output_type": "execute_result"
    }
   ],
   "source": [
    "# A table!\n",
    "# Note `mark_text()`\n",
    "alt.Chart(data).mark_text().encode(\n",
    "    text='Count',\n",
    "    y='County Name',\n",
    "    x='Type',\n",
    ")"
   ]
  },
  {
   "cell_type": "code",
   "execution_count": 81,
   "metadata": {},
   "outputs": [
    {
     "data": {
      "application/vnd.vegalite.v3+json": {
       "$schema": "https://vega.github.io/schema/vega-lite/v3.4.0.json",
       "config": {
        "background": "white",
        "mark": {
         "tooltip": null
        },
        "view": {
         "height": 300,
         "width": 400
        }
       },
       "data": {
        "name": "data-5e45537d704e40d370d31d5e8e61fd87"
       },
       "datasets": {
        "data-5e45537d704e40d370d31d5e8e61fd87": [
         {
          "Count": 3914,
          "County Id": 4,
          "County Name": "MISSOULA",
          "Type": "Cattle",
          "Year": 2018
         },
         {
          "Count": 25917,
          "County Id": 5,
          "County Name": "LEWIS AND CLARK",
          "Type": "Cattle",
          "Year": 2018
         },
         {
          "Count": 17080,
          "County Id": 13,
          "County Name": "RAVALLI",
          "Type": "Cattle",
          "Year": 2018
         },
         {
          "Count": 102714,
          "County Id": 18,
          "County Name": "BEAVERHEAD",
          "Type": "Cattle",
          "Year": 2018
         },
         {
          "Count": 30438,
          "County Id": 28,
          "County Name": "POWELL",
          "Type": "Cattle",
          "Year": 2018
         },
         {
          "Count": 2024,
          "County Id": 56,
          "County Name": "LINCOLN",
          "Type": "Cattle",
          "Year": 2018
         },
         {
          "Count": 376,
          "County Id": 4,
          "County Name": "MISSOULA",
          "Type": "Sheep",
          "Year": 2018
         },
         {
          "Count": 2710,
          "County Id": 5,
          "County Name": "LEWIS AND CLARK",
          "Type": "Sheep",
          "Year": 2018
         },
         {
          "Count": 1107,
          "County Id": 13,
          "County Name": "RAVALLI",
          "Type": "Sheep",
          "Year": 2018
         },
         {
          "Count": 10423,
          "County Id": 18,
          "County Name": "BEAVERHEAD",
          "Type": "Sheep",
          "Year": 2018
         },
         {
          "Count": 371,
          "County Id": 28,
          "County Name": "POWELL",
          "Type": "Sheep",
          "Year": 2018
         },
         {
          "Count": 122,
          "County Id": 56,
          "County Name": "LINCOLN",
          "Type": "Sheep",
          "Year": 2018
         },
         {
          "Count": 162,
          "County Id": 4,
          "County Name": "MISSOULA",
          "Type": "Goats",
          "Year": 2018
         },
         {
          "Count": 403,
          "County Id": 5,
          "County Name": "LEWIS AND CLARK",
          "Type": "Goats",
          "Year": 2018
         },
         {
          "Count": 363,
          "County Id": 13,
          "County Name": "RAVALLI",
          "Type": "Goats",
          "Year": 2018
         },
         {
          "Count": 80,
          "County Id": 18,
          "County Name": "BEAVERHEAD",
          "Type": "Goats",
          "Year": 2018
         },
         {
          "Count": 28,
          "County Id": 28,
          "County Name": "POWELL",
          "Type": "Goats",
          "Year": 2018
         },
         {
          "Count": 31,
          "County Id": 56,
          "County Name": "LINCOLN",
          "Type": "Goats",
          "Year": 2018
         },
         {
          "Count": 829,
          "County Id": 4,
          "County Name": "MISSOULA",
          "Type": "Poultry",
          "Year": 2018
         },
         {
          "Count": 39080,
          "County Id": 5,
          "County Name": "LEWIS AND CLARK",
          "Type": "Poultry",
          "Year": 2018
         },
         {
          "Count": 2933,
          "County Id": 13,
          "County Name": "RAVALLI",
          "Type": "Poultry",
          "Year": 2018
         },
         {
          "Count": 493,
          "County Id": 18,
          "County Name": "BEAVERHEAD",
          "Type": "Poultry",
          "Year": 2018
         },
         {
          "Count": 429,
          "County Id": 28,
          "County Name": "POWELL",
          "Type": "Poultry",
          "Year": 2018
         },
         {
          "Count": 841,
          "County Id": 56,
          "County Name": "LINCOLN",
          "Type": "Poultry",
          "Year": 2018
         }
        ]
       },
       "encoding": {
        "color": {
         "field": "Type",
         "type": "nominal"
        },
        "size": {
         "field": "Count",
         "type": "quantitative"
        },
        "x": {
         "field": "Type",
         "type": "nominal"
        },
        "y": {
         "field": "County Name",
         "type": "nominal"
        }
       },
       "mark": "circle"
      },
      "image/png": "[encoded data removed]",
      "text/plain": [
       "<VegaLite 3 object>\n",
       "\n",
       "If you see this message, it means the renderer has not been properly enabled\n",
       "for the frontend that you are using. For more information, see\n",
       "https://altair-viz.github.io/user_guide/troubleshooting.html\n"
      ]
     },
     "execution_count": 81,
     "metadata": {},
     "output_type": "execute_result"
    }
   ],
   "source": [
    "# Encode counts with size\n",
    "alt.Chart(data).mark_circle().encode(\n",
    "    size='Count',\n",
    "    y='County Name',\n",
    "    x='Type',\n",
    "    color='Type', # No reason fields can't be encoded more than one way\n",
    ")"
   ]
  },
  {
   "cell_type": "code",
   "execution_count": 82,
   "metadata": {},
   "outputs": [
    {
     "data": {
      "application/vnd.vegalite.v3+json": {
       "$schema": "https://vega.github.io/schema/vega-lite/v3.4.0.json",
       "config": {
        "background": "white",
        "mark": {
         "tooltip": null
        },
        "view": {
         "height": 300,
         "width": 400
        }
       },
       "data": {
        "name": "data-6aad56b2407068eb65adc517f08f140b"
       },
       "datasets": {
        "data-6aad56b2407068eb65adc517f08f140b": [
         {
          "Count": 433,
          "County Id": 1,
          "County Name": "SILVER BOW",
          "Type": "Horses, Mules and Asses",
          "Year": 2018
         },
         {
          "Count": 1832,
          "County Id": 2,
          "County Name": "CASCADE",
          "Type": "Horses, Mules and Asses",
          "Year": 2018
         },
         {
          "Count": 2388,
          "County Id": 3,
          "County Name": "YELLOWSTONE",
          "Type": "Horses, Mules and Asses",
          "Year": 2018
         },
         {
          "Count": 1312,
          "County Id": 4,
          "County Name": "MISSOULA",
          "Type": "Horses, Mules and Asses",
          "Year": 2018
         },
         {
          "Count": 1913,
          "County Id": 5,
          "County Name": "LEWIS AND CLARK",
          "Type": "Horses, Mules and Asses",
          "Year": 2018
         },
         {
          "Count": 3252,
          "County Id": 6,
          "County Name": "GALLATIN",
          "Type": "Horses, Mules and Asses",
          "Year": 2018
         },
         {
          "Count": 2223,
          "County Id": 7,
          "County Name": "FLATHEAD",
          "Type": "Horses, Mules and Asses",
          "Year": 2018
         },
         {
          "Count": 1720,
          "County Id": 8,
          "County Name": "FERGUS",
          "Type": "Horses, Mules and Asses",
          "Year": 2018
         },
         {
          "Count": 1279,
          "County Id": 9,
          "County Name": "POWDER RIVER",
          "Type": "Horses, Mules and Asses",
          "Year": 2018
         },
         {
          "Count": 1183,
          "County Id": 10,
          "County Name": "CARBON",
          "Type": "Horses, Mules and Asses",
          "Year": 2018
         },
         {
          "Count": 892,
          "County Id": 11,
          "County Name": "PHILLIPS",
          "Type": "Horses, Mules and Asses",
          "Year": 2018
         },
         {
          "Count": 692,
          "County Id": 12,
          "County Name": "HILL",
          "Type": "Horses, Mules and Asses",
          "Year": 2018
         },
         {
          "Count": 2777,
          "County Id": 13,
          "County Name": "RAVALLI",
          "Type": "Horses, Mules and Asses",
          "Year": 2018
         },
         {
          "Count": 974,
          "County Id": 14,
          "County Name": "CUSTER",
          "Type": "Horses, Mules and Asses",
          "Year": 2018
         },
         {
          "Count": 1566,
          "County Id": 15,
          "County Name": "LAKE",
          "Type": "Horses, Mules and Asses",
          "Year": 2018
         },
         {
          "Count": 707,
          "County Id": 16,
          "County Name": "DAWSON",
          "Type": "Horses, Mules and Asses",
          "Year": 2018
         },
         {
          "Count": 347,
          "County Id": 17,
          "County Name": "ROOSEVELT",
          "Type": "Horses, Mules and Asses",
          "Year": 2018
         },
         {
          "Count": 1442,
          "County Id": 18,
          "County Name": "BEAVERHEAD",
          "Type": "Horses, Mules and Asses",
          "Year": 2018
         },
         {
          "Count": 967,
          "County Id": 19,
          "County Name": "CHOUTEAU",
          "Type": "Horses, Mules and Asses",
          "Year": 2018
         },
         {
          "Count": 703,
          "County Id": 20,
          "County Name": "VALLEY",
          "Type": "Horses, Mules and Asses",
          "Year": 2018
         },
         {
          "Count": 989,
          "County Id": 21,
          "County Name": "TOOLE",
          "Type": "Horses, Mules and Asses",
          "Year": 2018
         },
         {
          "Count": 1234,
          "County Id": 22,
          "County Name": "BIG HORN",
          "Type": "Horses, Mules and Asses",
          "Year": 2018
         },
         {
          "Count": 804,
          "County Id": 23,
          "County Name": "MUSSELSHELL",
          "Type": "Horses, Mules and Asses",
          "Year": 2018
         },
         {
          "Count": 728,
          "County Id": 24,
          "County Name": "BLAINE",
          "Type": "Horses, Mules and Asses",
          "Year": 2018
         },
         {
          "Count": 1841,
          "County Id": 25,
          "County Name": "MADISON",
          "Type": "Horses, Mules and Asses",
          "Year": 2018
         },
         {
          "Count": 615,
          "County Id": 26,
          "County Name": "PONDERA",
          "Type": "Horses, Mules and Asses",
          "Year": 2018
         },
         {
          "Count": 450,
          "County Id": 27,
          "County Name": "RICHLAND",
          "Type": "Horses, Mules and Asses",
          "Year": 2018
         },
         {
          "Count": 967,
          "County Id": 28,
          "County Name": "POWELL",
          "Type": "Horses, Mules and Asses",
          "Year": 2018
         },
         {
          "Count": 1027,
          "County Id": 29,
          "County Name": "ROSEBUD",
          "Type": "Horses, Mules and Asses",
          "Year": 2018
         },
         {
          "Count": 237,
          "County Id": 30,
          "County Name": "DEER LODGE",
          "Type": "Horses, Mules and Asses",
          "Year": 2018
         },
         {
          "Count": 1349,
          "County Id": 31,
          "County Name": "TETON",
          "Type": "Horses, Mules and Asses",
          "Year": 2018
         },
         {
          "Count": 1156,
          "County Id": 32,
          "County Name": "STILLWATER",
          "Type": "Horses, Mules and Asses",
          "Year": 2018
         },
         {
          "Count": 274,
          "County Id": 33,
          "County Name": "TREASURE",
          "Type": "Horses, Mules and Asses",
          "Year": 2018
         },
         {
          "Count": 319,
          "County Id": 34,
          "County Name": "SHERIDAN",
          "Type": "Horses, Mules and Asses",
          "Year": 2018
         },
         {
          "Count": 674,
          "County Id": 35,
          "County Name": "SANDERS",
          "Type": "Horses, Mules and Asses",
          "Year": 2018
         },
         {
          "Count": 655,
          "County Id": 36,
          "County Name": "JUDITH BASIN",
          "Type": "Horses, Mules and Asses",
          "Year": 2018
         },
         {
          "Count": 287,
          "County Id": 37,
          "County Name": "DANIELS",
          "Type": "Horses, Mules and Asses",
          "Year": 2018
         },
         {
          "Count": 365,
          "County Id": 38,
          "County Name": "GLACIER",
          "Type": "Horses, Mules and Asses",
          "Year": 2018
         },
         {
          "Count": 597,
          "County Id": 39,
          "County Name": "FALLON",
          "Type": "Horses, Mules and Asses",
          "Year": 2018
         },
         {
          "Count": 1142,
          "County Id": 40,
          "County Name": "SWEET GRASS",
          "Type": "Horses, Mules and Asses",
          "Year": 2018
         },
         {
          "Count": 756,
          "County Id": 41,
          "County Name": "MCCONE",
          "Type": "Horses, Mules and Asses",
          "Year": 2018
         },
         {
          "Count": 885,
          "County Id": 42,
          "County Name": "CARTER",
          "Type": "Horses, Mules and Asses",
          "Year": 2018
         },
         {
          "Count": 558,
          "County Id": 43,
          "County Name": "BROADWATER",
          "Type": "Horses, Mules and Asses",
          "Year": 2018
         },
         {
          "Count": 416,
          "County Id": 44,
          "County Name": "WHEATLAND",
          "Type": "Horses, Mules and Asses",
          "Year": 2018
         },
         {
          "Count": 386,
          "County Id": 45,
          "County Name": "PRAIRIE",
          "Type": "Horses, Mules and Asses",
          "Year": 2018
         },
         {
          "Count": 581,
          "County Id": 46,
          "County Name": "GRANITE",
          "Type": "Horses, Mules and Asses",
          "Year": 2018
         },
         {
          "Count": 474,
          "County Id": 47,
          "County Name": "MEAGHER",
          "Type": "Horses, Mules and Asses",
          "Year": 2018
         },
         {
          "Count": 158,
          "County Id": 48,
          "County Name": "LIBERTY",
          "Type": "Horses, Mules and Asses",
          "Year": 2018
         },
         {
          "Count": 2390,
          "County Id": 49,
          "County Name": "PARK",
          "Type": "Horses, Mules and Asses",
          "Year": 2018
         },
         {
          "Count": 1035,
          "County Id": 50,
          "County Name": "GARFIELD",
          "Type": "Horses, Mules and Asses",
          "Year": 2018
         },
         {
          "Count": 1048,
          "County Id": 51,
          "County Name": "JEFFERSON",
          "Type": "Horses, Mules and Asses",
          "Year": 2018
         },
         {
          "Count": 347,
          "County Id": 52,
          "County Name": "WIBAUX",
          "Type": "Horses, Mules and Asses",
          "Year": 2018
         },
         {
          "Count": 374,
          "County Id": 53,
          "County Name": "GOLDEN VALLEY",
          "Type": "Horses, Mules and Asses",
          "Year": 2018
         },
         {
          "Count": 261,
          "County Id": 54,
          "County Name": "MINERAL",
          "Type": "Horses, Mules and Asses",
          "Year": 2018
         },
         {
          "Count": 272,
          "County Id": 55,
          "County Name": "PETROLEUM",
          "Type": "Horses, Mules and Asses",
          "Year": 2018
         },
         {
          "Count": 844,
          "County Id": 56,
          "County Name": "LINCOLN",
          "Type": "Horses, Mules and Asses",
          "Year": 2018
         },
         {
          "Count": 2881,
          "County Id": 1,
          "County Name": "SILVER BOW",
          "Type": "Cattle",
          "Year": 2018
         },
         {
          "Count": 47620,
          "County Id": 2,
          "County Name": "CASCADE",
          "Type": "Cattle",
          "Year": 2018
         },
         {
          "Count": 57520,
          "County Id": 3,
          "County Name": "YELLOWSTONE",
          "Type": "Cattle",
          "Year": 2018
         },
         {
          "Count": 3914,
          "County Id": 4,
          "County Name": "MISSOULA",
          "Type": "Cattle",
          "Year": 2018
         },
         {
          "Count": 25917,
          "County Id": 5,
          "County Name": "LEWIS AND CLARK",
          "Type": "Cattle",
          "Year": 2018
         },
         {
          "Count": 25584,
          "County Id": 6,
          "County Name": "GALLATIN",
          "Type": "Cattle",
          "Year": 2018
         },
         {
          "Count": 4713,
          "County Id": 7,
          "County Name": "FLATHEAD",
          "Type": "Cattle",
          "Year": 2018
         },
         {
          "Count": 96086,
          "County Id": 8,
          "County Name": "FERGUS",
          "Type": "Cattle",
          "Year": 2018
         },
         {
          "Count": 70231,
          "County Id": 9,
          "County Name": "POWDER RIVER",
          "Type": "Cattle",
          "Year": 2018
         },
         {
          "Count": 29440,
          "County Id": 10,
          "County Name": "CARBON",
          "Type": "Cattle",
          "Year": 2018
         },
         {
          "Count": 72781,
          "County Id": 11,
          "County Name": "PHILLIPS",
          "Type": "Cattle",
          "Year": 2018
         },
         {
          "Count": 17650,
          "County Id": 12,
          "County Name": "HILL",
          "Type": "Cattle",
          "Year": 2018
         },
         {
          "Count": 17080,
          "County Id": 13,
          "County Name": "RAVALLI",
          "Type": "Cattle",
          "Year": 2018
         },
         {
          "Count": 68766,
          "County Id": 14,
          "County Name": "CUSTER",
          "Type": "Cattle",
          "Year": 2018
         },
         {
          "Count": 19361,
          "County Id": 15,
          "County Name": "LAKE",
          "Type": "Cattle",
          "Year": 2018
         },
         {
          "Count": 35381,
          "County Id": 16,
          "County Name": "DAWSON",
          "Type": "Cattle",
          "Year": 2018
         },
         {
          "Count": 18171,
          "County Id": 17,
          "County Name": "ROOSEVELT",
          "Type": "Cattle",
          "Year": 2018
         },
         {
          "Count": 102714,
          "County Id": 18,
          "County Name": "BEAVERHEAD",
          "Type": "Cattle",
          "Year": 2018
         },
         {
          "Count": 42365,
          "County Id": 19,
          "County Name": "CHOUTEAU",
          "Type": "Cattle",
          "Year": 2018
         },
         {
          "Count": 63000,
          "County Id": 20,
          "County Name": "VALLEY",
          "Type": "Cattle",
          "Year": 2018
         },
         {
          "Count": 15770,
          "County Id": 21,
          "County Name": "TOOLE",
          "Type": "Cattle",
          "Year": 2018
         },
         {
          "Count": 64568,
          "County Id": 22,
          "County Name": "BIG HORN",
          "Type": "Cattle",
          "Year": 2018
         },
         {
          "Count": 23958,
          "County Id": 23,
          "County Name": "MUSSELSHELL",
          "Type": "Cattle",
          "Year": 2018
         },
         {
          "Count": 60805,
          "County Id": 24,
          "County Name": "BLAINE",
          "Type": "Cattle",
          "Year": 2018
         },
         {
          "Count": 56233,
          "County Id": 25,
          "County Name": "MADISON",
          "Type": "Cattle",
          "Year": 2018
         },
         {
          "Count": 18913,
          "County Id": 26,
          "County Name": "PONDERA",
          "Type": "Cattle",
          "Year": 2018
         },
         {
          "Count": 34683,
          "County Id": 27,
          "County Name": "RICHLAND",
          "Type": "Cattle",
          "Year": 2018
         },
         {
          "Count": 30438,
          "County Id": 28,
          "County Name": "POWELL",
          "Type": "Cattle",
          "Year": 2018
         },
         {
          "Count": 63956,
          "County Id": 29,
          "County Name": "ROSEBUD",
          "Type": "Cattle",
          "Year": 2018
         },
         {
          "Count": 4391,
          "County Id": 30,
          "County Name": "DEER LODGE",
          "Type": "Cattle",
          "Year": 2018
         },
         {
          "Count": 42843,
          "County Id": 31,
          "County Name": "TETON",
          "Type": "Cattle",
          "Year": 2018
         },
         {
          "Count": 29535,
          "County Id": 32,
          "County Name": "STILLWATER",
          "Type": "Cattle",
          "Year": 2018
         },
         {
          "Count": 21217,
          "County Id": 33,
          "County Name": "TREASURE",
          "Type": "Cattle",
          "Year": 2018
         },
         {
          "Count": 17968,
          "County Id": 34,
          "County Name": "SHERIDAN",
          "Type": "Cattle",
          "Year": 2018
         },
         {
          "Count": 8078,
          "County Id": 35,
          "County Name": "SANDERS",
          "Type": "Cattle",
          "Year": 2018
         },
         {
          "Count": 60787,
          "County Id": 36,
          "County Name": "JUDITH BASIN",
          "Type": "Cattle",
          "Year": 2018
         },
         {
          "Count": 13374,
          "County Id": 37,
          "County Name": "DANIELS",
          "Type": "Cattle",
          "Year": 2018
         },
         {
          "Count": 11798,
          "County Id": 38,
          "County Name": "GLACIER",
          "Type": "Cattle",
          "Year": 2018
         },
         {
          "Count": 37297,
          "County Id": 39,
          "County Name": "FALLON",
          "Type": "Cattle",
          "Year": 2018
         },
         {
          "Count": 29686,
          "County Id": 40,
          "County Name": "SWEET GRASS",
          "Type": "Cattle",
          "Year": 2018
         },
         {
          "Count": 30986,
          "County Id": 41,
          "County Name": "MCCONE",
          "Type": "Cattle",
          "Year": 2018
         },
         {
          "Count": 62447,
          "County Id": 42,
          "County Name": "CARTER",
          "Type": "Cattle",
          "Year": 2018
         },
         {
          "Count": 17471,
          "County Id": 43,
          "County Name": "BROADWATER",
          "Type": "Cattle",
          "Year": 2018
         },
         {
          "Count": 33385,
          "County Id": 44,
          "County Name": "WHEATLAND",
          "Type": "Cattle",
          "Year": 2018
         },
         {
          "Count": 34513,
          "County Id": 45,
          "County Name": "PRAIRIE",
          "Type": "Cattle",
          "Year": 2018
         },
         {
          "Count": 15209,
          "County Id": 46,
          "County Name": "GRANITE",
          "Type": "Cattle",
          "Year": 2018
         },
         {
          "Count": 40522,
          "County Id": 47,
          "County Name": "MEAGHER",
          "Type": "Cattle",
          "Year": 2018
         },
         {
          "Count": 11243,
          "County Id": 48,
          "County Name": "LIBERTY",
          "Type": "Cattle",
          "Year": 2018
         },
         {
          "Count": 25746,
          "County Id": 49,
          "County Name": "PARK",
          "Type": "Cattle",
          "Year": 2018
         },
         {
          "Count": 60681,
          "County Id": 50,
          "County Name": "GARFIELD",
          "Type": "Cattle",
          "Year": 2018
         },
         {
          "Count": 21517,
          "County Id": 51,
          "County Name": "JEFFERSON",
          "Type": "Cattle",
          "Year": 2018
         },
         {
          "Count": 19692,
          "County Id": 52,
          "County Name": "WIBAUX",
          "Type": "Cattle",
          "Year": 2018
         },
         {
          "Count": 14499,
          "County Id": 53,
          "County Name": "GOLDEN VALLEY",
          "Type": "Cattle",
          "Year": 2018
         },
         {
          "Count": 329,
          "County Id": 54,
          "County Name": "MINERAL",
          "Type": "Cattle",
          "Year": 2018
         },
         {
          "Count": 23556,
          "County Id": 55,
          "County Name": "PETROLEUM",
          "Type": "Cattle",
          "Year": 2018
         },
         {
          "Count": 2024,
          "County Id": 56,
          "County Name": "LINCOLN",
          "Type": "Cattle",
          "Year": 2018
         },
         {
          "Count": 0,
          "County Id": 1,
          "County Name": "SILVER BOW",
          "Type": "Domestic Bison",
          "Year": 2018
         },
         {
          "Count": 0,
          "County Id": 2,
          "County Name": "CASCADE",
          "Type": "Domestic Bison",
          "Year": 2018
         },
         {
          "Count": 743,
          "County Id": 3,
          "County Name": "YELLOWSTONE",
          "Type": "Domestic Bison",
          "Year": 2018
         },
         {
          "Count": 11,
          "County Id": 4,
          "County Name": "MISSOULA",
          "Type": "Domestic Bison",
          "Year": 2018
         },
         {
          "Count": 102,
          "County Id": 5,
          "County Name": "LEWIS AND CLARK",
          "Type": "Domestic Bison",
          "Year": 2018
         },
         {
          "Count": 1741,
          "County Id": 6,
          "County Name": "GALLATIN",
          "Type": "Domestic Bison",
          "Year": 2018
         },
         {
          "Count": 195,
          "County Id": 7,
          "County Name": "FLATHEAD",
          "Type": "Domestic Bison",
          "Year": 2018
         },
         {
          "Count": 26,
          "County Id": 8,
          "County Name": "FERGUS",
          "Type": "Domestic Bison",
          "Year": 2018
         },
         {
          "Count": 8,
          "County Id": 9,
          "County Name": "POWDER RIVER",
          "Type": "Domestic Bison",
          "Year": 2018
         },
         {
          "Count": 5,
          "County Id": 10,
          "County Name": "CARBON",
          "Type": "Domestic Bison",
          "Year": 2018
         },
         {
          "Count": 718,
          "County Id": 11,
          "County Name": "PHILLIPS",
          "Type": "Domestic Bison",
          "Year": 2018
         },
         {
          "Count": 0,
          "County Id": 12,
          "County Name": "HILL",
          "Type": "Domestic Bison",
          "Year": 2018
         },
         {
          "Count": 331,
          "County Id": 13,
          "County Name": "RAVALLI",
          "Type": "Domestic Bison",
          "Year": 2018
         },
         {
          "Count": 0,
          "County Id": 14,
          "County Name": "CUSTER",
          "Type": "Domestic Bison",
          "Year": 2018
         },
         {
          "Count": 0,
          "County Id": 15,
          "County Name": "LAKE",
          "Type": "Domestic Bison",
          "Year": 2018
         },
         {
          "Count": 0,
          "County Id": 16,
          "County Name": "DAWSON",
          "Type": "Domestic Bison",
          "Year": 2018
         },
         {
          "Count": 15,
          "County Id": 17,
          "County Name": "ROOSEVELT",
          "Type": "Domestic Bison",
          "Year": 2018
         },
         {
          "Count": 317,
          "County Id": 18,
          "County Name": "BEAVERHEAD",
          "Type": "Domestic Bison",
          "Year": 2018
         },
         {
          "Count": 2,
          "County Id": 19,
          "County Name": "CHOUTEAU",
          "Type": "Domestic Bison",
          "Year": 2018
         },
         {
          "Count": 0,
          "County Id": 20,
          "County Name": "VALLEY",
          "Type": "Domestic Bison",
          "Year": 2018
         },
         {
          "Count": 0,
          "County Id": 21,
          "County Name": "TOOLE",
          "Type": "Domestic Bison",
          "Year": 2018
         },
         {
          "Count": 0,
          "County Id": 22,
          "County Name": "BIG HORN",
          "Type": "Domestic Bison",
          "Year": 2018
         },
         {
          "Count": 0,
          "County Id": 23,
          "County Name": "MUSSELSHELL",
          "Type": "Domestic Bison",
          "Year": 2018
         },
         {
          "Count": 0,
          "County Id": 24,
          "County Name": "BLAINE",
          "Type": "Domestic Bison",
          "Year": 2018
         },
         {
          "Count": 2493,
          "County Id": 25,
          "County Name": "MADISON",
          "Type": "Domestic Bison",
          "Year": 2018
         },
         {
          "Count": 1,
          "County Id": 26,
          "County Name": "PONDERA",
          "Type": "Domestic Bison",
          "Year": 2018
         },
         {
          "Count": 0,
          "County Id": 27,
          "County Name": "RICHLAND",
          "Type": "Domestic Bison",
          "Year": 2018
         },
         {
          "Count": 97,
          "County Id": 28,
          "County Name": "POWELL",
          "Type": "Domestic Bison",
          "Year": 2018
         },
         {
          "Count": 12,
          "County Id": 29,
          "County Name": "ROSEBUD",
          "Type": "Domestic Bison",
          "Year": 2018
         },
         {
          "Count": 0,
          "County Id": 30,
          "County Name": "DEER LODGE",
          "Type": "Domestic Bison",
          "Year": 2018
         },
         {
          "Count": 845,
          "County Id": 31,
          "County Name": "TETON",
          "Type": "Domestic Bison",
          "Year": 2018
         },
         {
          "Count": 413,
          "County Id": 32,
          "County Name": "STILLWATER",
          "Type": "Domestic Bison",
          "Year": 2018
         },
         {
          "Count": 0,
          "County Id": 33,
          "County Name": "TREASURE",
          "Type": "Domestic Bison",
          "Year": 2018
         },
         {
          "Count": 0,
          "County Id": 34,
          "County Name": "SHERIDAN",
          "Type": "Domestic Bison",
          "Year": 2018
         },
         {
          "Count": 135,
          "County Id": 35,
          "County Name": "SANDERS",
          "Type": "Domestic Bison",
          "Year": 2018
         },
         {
          "Count": 1,
          "County Id": 36,
          "County Name": "JUDITH BASIN",
          "Type": "Domestic Bison",
          "Year": 2018
         },
         {
          "Count": 0,
          "County Id": 37,
          "County Name": "DANIELS",
          "Type": "Domestic Bison",
          "Year": 2018
         },
         {
          "Count": 70,
          "County Id": 38,
          "County Name": "GLACIER",
          "Type": "Domestic Bison",
          "Year": 2018
         },
         {
          "Count": 0,
          "County Id": 39,
          "County Name": "FALLON",
          "Type": "Domestic Bison",
          "Year": 2018
         },
         {
          "Count": 100,
          "County Id": 40,
          "County Name": "SWEET GRASS",
          "Type": "Domestic Bison",
          "Year": 2018
         },
         {
          "Count": 0,
          "County Id": 41,
          "County Name": "MCCONE",
          "Type": "Domestic Bison",
          "Year": 2018
         },
         {
          "Count": 69,
          "County Id": 42,
          "County Name": "CARTER",
          "Type": "Domestic Bison",
          "Year": 2018
         },
         {
          "Count": 35,
          "County Id": 43,
          "County Name": "BROADWATER",
          "Type": "Domestic Bison",
          "Year": 2018
         },
         {
          "Count": 1,
          "County Id": 44,
          "County Name": "WHEATLAND",
          "Type": "Domestic Bison",
          "Year": 2018
         },
         {
          "Count": 0,
          "County Id": 45,
          "County Name": "PRAIRIE",
          "Type": "Domestic Bison",
          "Year": 2018
         },
         {
          "Count": 0,
          "County Id": 46,
          "County Name": "GRANITE",
          "Type": "Domestic Bison",
          "Year": 2018
         },
         {
          "Count": 60,
          "County Id": 47,
          "County Name": "MEAGHER",
          "Type": "Domestic Bison",
          "Year": 2018
         },
         {
          "Count": 104,
          "County Id": 48,
          "County Name": "LIBERTY",
          "Type": "Domestic Bison",
          "Year": 2018
         },
         {
          "Count": 26,
          "County Id": 49,
          "County Name": "PARK",
          "Type": "Domestic Bison",
          "Year": 2018
         },
         {
          "Count": 234,
          "County Id": 50,
          "County Name": "GARFIELD",
          "Type": "Domestic Bison",
          "Year": 2018
         },
         {
          "Count": 0,
          "County Id": 51,
          "County Name": "JEFFERSON",
          "Type": "Domestic Bison",
          "Year": 2018
         },
         {
          "Count": 70,
          "County Id": 52,
          "County Name": "WIBAUX",
          "Type": "Domestic Bison",
          "Year": 2018
         },
         {
          "Count": 0,
          "County Id": 53,
          "County Name": "GOLDEN VALLEY",
          "Type": "Domestic Bison",
          "Year": 2018
         },
         {
          "Count": 0,
          "County Id": 54,
          "County Name": "MINERAL",
          "Type": "Domestic Bison",
          "Year": 2018
         },
         {
          "Count": 0,
          "County Id": 55,
          "County Name": "PETROLEUM",
          "Type": "Domestic Bison",
          "Year": 2018
         },
         {
          "Count": 0,
          "County Id": 56,
          "County Name": "LINCOLN",
          "Type": "Domestic Bison",
          "Year": 2018
         },
         {
          "Count": 219,
          "County Id": 1,
          "County Name": "SILVER BOW",
          "Type": "Sheep",
          "Year": 2018
         },
         {
          "Count": 4276,
          "County Id": 2,
          "County Name": "CASCADE",
          "Type": "Sheep",
          "Year": 2018
         },
         {
          "Count": 1679,
          "County Id": 3,
          "County Name": "YELLOWSTONE",
          "Type": "Sheep",
          "Year": 2018
         },
         {
          "Count": 376,
          "County Id": 4,
          "County Name": "MISSOULA",
          "Type": "Sheep",
          "Year": 2018
         },
         {
          "Count": 2710,
          "County Id": 5,
          "County Name": "LEWIS AND CLARK",
          "Type": "Sheep",
          "Year": 2018
         },
         {
          "Count": 1429,
          "County Id": 6,
          "County Name": "GALLATIN",
          "Type": "Sheep",
          "Year": 2018
         },
         {
          "Count": 244,
          "County Id": 7,
          "County Name": "FLATHEAD",
          "Type": "Sheep",
          "Year": 2018
         },
         {
          "Count": 3671,
          "County Id": 8,
          "County Name": "FERGUS",
          "Type": "Sheep",
          "Year": 2018
         },
         {
          "Count": 10532,
          "County Id": 9,
          "County Name": "POWDER RIVER",
          "Type": "Sheep",
          "Year": 2018
         },
         {
          "Count": 2806,
          "County Id": 10,
          "County Name": "CARBON",
          "Type": "Sheep",
          "Year": 2018
         },
         {
          "Count": 3328,
          "County Id": 11,
          "County Name": "PHILLIPS",
          "Type": "Sheep",
          "Year": 2018
         },
         {
          "Count": 734,
          "County Id": 12,
          "County Name": "HILL",
          "Type": "Sheep",
          "Year": 2018
         },
         {
          "Count": 1107,
          "County Id": 13,
          "County Name": "RAVALLI",
          "Type": "Sheep",
          "Year": 2018
         },
         {
          "Count": 2902,
          "County Id": 14,
          "County Name": "CUSTER",
          "Type": "Sheep",
          "Year": 2018
         },
         {
          "Count": 731,
          "County Id": 15,
          "County Name": "LAKE",
          "Type": "Sheep",
          "Year": 2018
         },
         {
          "Count": 1031,
          "County Id": 16,
          "County Name": "DAWSON",
          "Type": "Sheep",
          "Year": 2018
         },
         {
          "Count": 1552,
          "County Id": 17,
          "County Name": "ROOSEVELT",
          "Type": "Sheep",
          "Year": 2018
         },
         {
          "Count": 10423,
          "County Id": 18,
          "County Name": "BEAVERHEAD",
          "Type": "Sheep",
          "Year": 2018
         },
         {
          "Count": 285,
          "County Id": 19,
          "County Name": "CHOUTEAU",
          "Type": "Sheep",
          "Year": 2018
         },
         {
          "Count": 818,
          "County Id": 20,
          "County Name": "VALLEY",
          "Type": "Sheep",
          "Year": 2018
         },
         {
          "Count": 1782,
          "County Id": 21,
          "County Name": "TOOLE",
          "Type": "Sheep",
          "Year": 2018
         },
         {
          "Count": 591,
          "County Id": 22,
          "County Name": "BIG HORN",
          "Type": "Sheep",
          "Year": 2018
         },
         {
          "Count": 2089,
          "County Id": 23,
          "County Name": "MUSSELSHELL",
          "Type": "Sheep",
          "Year": 2018
         },
         {
          "Count": 1970,
          "County Id": 24,
          "County Name": "BLAINE",
          "Type": "Sheep",
          "Year": 2018
         },
         {
          "Count": 1026,
          "County Id": 25,
          "County Name": "MADISON",
          "Type": "Sheep",
          "Year": 2018
         },
         {
          "Count": 4964,
          "County Id": 26,
          "County Name": "PONDERA",
          "Type": "Sheep",
          "Year": 2018
         },
         {
          "Count": 1979,
          "County Id": 27,
          "County Name": "RICHLAND",
          "Type": "Sheep",
          "Year": 2018
         },
         {
          "Count": 371,
          "County Id": 28,
          "County Name": "POWELL",
          "Type": "Sheep",
          "Year": 2018
         },
         {
          "Count": 1512,
          "County Id": 29,
          "County Name": "ROSEBUD",
          "Type": "Sheep",
          "Year": 2018
         },
         {
          "Count": 137,
          "County Id": 30,
          "County Name": "DEER LODGE",
          "Type": "Sheep",
          "Year": 2018
         },
         {
          "Count": 3793,
          "County Id": 31,
          "County Name": "TETON",
          "Type": "Sheep",
          "Year": 2018
         },
         {
          "Count": 9542,
          "County Id": 32,
          "County Name": "STILLWATER",
          "Type": "Sheep",
          "Year": 2018
         },
         {
          "Count": 52,
          "County Id": 33,
          "County Name": "TREASURE",
          "Type": "Sheep",
          "Year": 2018
         },
         {
          "Count": 1008,
          "County Id": 34,
          "County Name": "SHERIDAN",
          "Type": "Sheep",
          "Year": 2018
         },
         {
          "Count": 60,
          "County Id": 35,
          "County Name": "SANDERS",
          "Type": "Sheep",
          "Year": 2018
         },
         {
          "Count": 6122,
          "County Id": 36,
          "County Name": "JUDITH BASIN",
          "Type": "Sheep",
          "Year": 2018
         },
         {
          "Count": 340,
          "County Id": 37,
          "County Name": "DANIELS",
          "Type": "Sheep",
          "Year": 2018
         },
         {
          "Count": 669,
          "County Id": 38,
          "County Name": "GLACIER",
          "Type": "Sheep",
          "Year": 2018
         },
         {
          "Count": 1896,
          "County Id": 39,
          "County Name": "FALLON",
          "Type": "Sheep",
          "Year": 2018
         },
         {
          "Count": 3677,
          "County Id": 40,
          "County Name": "SWEET GRASS",
          "Type": "Sheep",
          "Year": 2018
         },
         {
          "Count": 3424,
          "County Id": 41,
          "County Name": "MCCONE",
          "Type": "Sheep",
          "Year": 2018
         },
         {
          "Count": 16985,
          "County Id": 42,
          "County Name": "CARTER",
          "Type": "Sheep",
          "Year": 2018
         },
         {
          "Count": 2054,
          "County Id": 43,
          "County Name": "BROADWATER",
          "Type": "Sheep",
          "Year": 2018
         },
         {
          "Count": 9495,
          "County Id": 44,
          "County Name": "WHEATLAND",
          "Type": "Sheep",
          "Year": 2018
         },
         {
          "Count": 1716,
          "County Id": 45,
          "County Name": "PRAIRIE",
          "Type": "Sheep",
          "Year": 2018
         },
         {
          "Count": 493,
          "County Id": 46,
          "County Name": "GRANITE",
          "Type": "Sheep",
          "Year": 2018
         },
         {
          "Count": 2805,
          "County Id": 47,
          "County Name": "MEAGHER",
          "Type": "Sheep",
          "Year": 2018
         },
         {
          "Count": 65,
          "County Id": 48,
          "County Name": "LIBERTY",
          "Type": "Sheep",
          "Year": 2018
         },
         {
          "Count": 1151,
          "County Id": 49,
          "County Name": "PARK",
          "Type": "Sheep",
          "Year": 2018
         },
         {
          "Count": 11637,
          "County Id": 50,
          "County Name": "GARFIELD",
          "Type": "Sheep",
          "Year": 2018
         },
         {
          "Count": 721,
          "County Id": 51,
          "County Name": "JEFFERSON",
          "Type": "Sheep",
          "Year": 2018
         },
         {
          "Count": 0,
          "County Id": 52,
          "County Name": "WIBAUX",
          "Type": "Sheep",
          "Year": 2018
         },
         {
          "Count": 9073,
          "County Id": 53,
          "County Name": "GOLDEN VALLEY",
          "Type": "Sheep",
          "Year": 2018
         },
         {
          "Count": 0,
          "County Id": 54,
          "County Name": "MINERAL",
          "Type": "Sheep",
          "Year": 2018
         },
         {
          "Count": 1398,
          "County Id": 55,
          "County Name": "PETROLEUM",
          "Type": "Sheep",
          "Year": 2018
         },
         {
          "Count": 122,
          "County Id": 56,
          "County Name": "LINCOLN",
          "Type": "Sheep",
          "Year": 2018
         },
         {
          "Count": 4,
          "County Id": 1,
          "County Name": "SILVER BOW",
          "Type": "Swine",
          "Year": 2018
         },
         {
          "Count": 14587,
          "County Id": 2,
          "County Name": "CASCADE",
          "Type": "Swine",
          "Year": 2018
         },
         {
          "Count": 1597,
          "County Id": 3,
          "County Name": "YELLOWSTONE",
          "Type": "Swine",
          "Year": 2018
         },
         {
          "Count": 57,
          "County Id": 4,
          "County Name": "MISSOULA",
          "Type": "Swine",
          "Year": 2018
         },
         {
          "Count": 1117,
          "County Id": 5,
          "County Name": "LEWIS AND CLARK",
          "Type": "Swine",
          "Year": 2018
         },
         {
          "Count": 118,
          "County Id": 6,
          "County Name": "GALLATIN",
          "Type": "Swine",
          "Year": 2018
         },
         {
          "Count": 523,
          "County Id": 7,
          "County Name": "FLATHEAD",
          "Type": "Swine",
          "Year": 2018
         },
         {
          "Count": 183,
          "County Id": 8,
          "County Name": "FERGUS",
          "Type": "Swine",
          "Year": 2018
         },
         {
          "Count": 19,
          "County Id": 9,
          "County Name": "POWDER RIVER",
          "Type": "Swine",
          "Year": 2018
         },
         {
          "Count": 91,
          "County Id": 10,
          "County Name": "CARBON",
          "Type": "Swine",
          "Year": 2018
         },
         {
          "Count": 25,
          "County Id": 11,
          "County Name": "PHILLIPS",
          "Type": "Swine",
          "Year": 2018
         },
         {
          "Count": 6938,
          "County Id": 12,
          "County Name": "HILL",
          "Type": "Swine",
          "Year": 2018
         },
         {
          "Count": 96,
          "County Id": 13,
          "County Name": "RAVALLI",
          "Type": "Swine",
          "Year": 2018
         },
         {
          "Count": 10,
          "County Id": 14,
          "County Name": "CUSTER",
          "Type": "Swine",
          "Year": 2018
         },
         {
          "Count": 108,
          "County Id": 15,
          "County Name": "LAKE",
          "Type": "Swine",
          "Year": 2018
         },
         {
          "Count": 7,
          "County Id": 16,
          "County Name": "DAWSON",
          "Type": "Swine",
          "Year": 2018
         },
         {
          "Count": 53,
          "County Id": 17,
          "County Name": "ROOSEVELT",
          "Type": "Swine",
          "Year": 2018
         },
         {
          "Count": 5,
          "County Id": 18,
          "County Name": "BEAVERHEAD",
          "Type": "Swine",
          "Year": 2018
         },
         {
          "Count": 555,
          "County Id": 19,
          "County Name": "CHOUTEAU",
          "Type": "Swine",
          "Year": 2018
         },
         {
          "Count": 16,
          "County Id": 20,
          "County Name": "VALLEY",
          "Type": "Swine",
          "Year": 2018
         },
         {
          "Count": 3942,
          "County Id": 21,
          "County Name": "TOOLE",
          "Type": "Swine",
          "Year": 2018
         },
         {
          "Count": 23,
          "County Id": 22,
          "County Name": "BIG HORN",
          "Type": "Swine",
          "Year": 2018
         },
         {
          "Count": 86,
          "County Id": 23,
          "County Name": "MUSSELSHELL",
          "Type": "Swine",
          "Year": 2018
         },
         {
          "Count": 1360,
          "County Id": 24,
          "County Name": "BLAINE",
          "Type": "Swine",
          "Year": 2018
         },
         {
          "Count": 14,
          "County Id": 25,
          "County Name": "MADISON",
          "Type": "Swine",
          "Year": 2018
         },
         {
          "Count": 12032,
          "County Id": 26,
          "County Name": "PONDERA",
          "Type": "Swine",
          "Year": 2018
         },
         {
          "Count": 20,
          "County Id": 27,
          "County Name": "RICHLAND",
          "Type": "Swine",
          "Year": 2018
         },
         {
          "Count": 6,
          "County Id": 28,
          "County Name": "POWELL",
          "Type": "Swine",
          "Year": 2018
         },
         {
          "Count": 77,
          "County Id": 29,
          "County Name": "ROSEBUD",
          "Type": "Swine",
          "Year": 2018
         },
         {
          "Count": 0,
          "County Id": 30,
          "County Name": "DEER LODGE",
          "Type": "Swine",
          "Year": 2018
         },
         {
          "Count": 2240,
          "County Id": 31,
          "County Name": "TETON",
          "Type": "Swine",
          "Year": 2018
         },
         {
          "Count": 17,
          "County Id": 32,
          "County Name": "STILLWATER",
          "Type": "Swine",
          "Year": 2018
         },
         {
          "Count": 13,
          "County Id": 33,
          "County Name": "TREASURE",
          "Type": "Swine",
          "Year": 2018
         },
         {
          "Count": 10,
          "County Id": 34,
          "County Name": "SHERIDAN",
          "Type": "Swine",
          "Year": 2018
         },
         {
          "Count": 64,
          "County Id": 35,
          "County Name": "SANDERS",
          "Type": "Swine",
          "Year": 2018
         },
         {
          "Count": 45,
          "County Id": 36,
          "County Name": "JUDITH BASIN",
          "Type": "Swine",
          "Year": 2018
         },
         {
          "Count": 23,
          "County Id": 37,
          "County Name": "DANIELS",
          "Type": "Swine",
          "Year": 2018
         },
         {
          "Count": 9683,
          "County Id": 38,
          "County Name": "GLACIER",
          "Type": "Swine",
          "Year": 2018
         },
         {
          "Count": 6,
          "County Id": 39,
          "County Name": "FALLON",
          "Type": "Swine",
          "Year": 2018
         },
         {
          "Count": 26,
          "County Id": 40,
          "County Name": "SWEET GRASS",
          "Type": "Swine",
          "Year": 2018
         },
         {
          "Count": 2424,
          "County Id": 41,
          "County Name": "MCCONE",
          "Type": "Swine",
          "Year": 2018
         },
         {
          "Count": 14,
          "County Id": 42,
          "County Name": "CARTER",
          "Type": "Swine",
          "Year": 2018
         },
         {
          "Count": 188,
          "County Id": 43,
          "County Name": "BROADWATER",
          "Type": "Swine",
          "Year": 2018
         },
         {
          "Count": 6390,
          "County Id": 44,
          "County Name": "WHEATLAND",
          "Type": "Swine",
          "Year": 2018
         },
         {
          "Count": 31,
          "County Id": 45,
          "County Name": "PRAIRIE",
          "Type": "Swine",
          "Year": 2018
         },
         {
          "Count": 16,
          "County Id": 46,
          "County Name": "GRANITE",
          "Type": "Swine",
          "Year": 2018
         },
         {
          "Count": 221,
          "County Id": 47,
          "County Name": "MEAGHER",
          "Type": "Swine",
          "Year": 2018
         },
         {
          "Count": 9636,
          "County Id": 48,
          "County Name": "LIBERTY",
          "Type": "Swine",
          "Year": 2018
         },
         {
          "Count": 214,
          "County Id": 49,
          "County Name": "PARK",
          "Type": "Swine",
          "Year": 2018
         },
         {
          "Count": 32,
          "County Id": 50,
          "County Name": "GARFIELD",
          "Type": "Swine",
          "Year": 2018
         },
         {
          "Count": 423,
          "County Id": 51,
          "County Name": "JEFFERSON",
          "Type": "Swine",
          "Year": 2018
         },
         {
          "Count": 3,
          "County Id": 52,
          "County Name": "WIBAUX",
          "Type": "Swine",
          "Year": 2018
         },
         {
          "Count": 2017,
          "County Id": 53,
          "County Name": "GOLDEN VALLEY",
          "Type": "Swine",
          "Year": 2018
         },
         {
          "Count": 5,
          "County Id": 54,
          "County Name": "MINERAL",
          "Type": "Swine",
          "Year": 2018
         },
         {
          "Count": 0,
          "County Id": 55,
          "County Name": "PETROLEUM",
          "Type": "Swine",
          "Year": 2018
         },
         {
          "Count": 12,
          "County Id": 56,
          "County Name": "LINCOLN",
          "Type": "Swine",
          "Year": 2018
         },
         {
          "Count": 6,
          "County Id": 1,
          "County Name": "SILVER BOW",
          "Type": "Goats",
          "Year": 2018
         },
         {
          "Count": 267,
          "County Id": 2,
          "County Name": "CASCADE",
          "Type": "Goats",
          "Year": 2018
         },
         {
          "Count": 395,
          "County Id": 3,
          "County Name": "YELLOWSTONE",
          "Type": "Goats",
          "Year": 2018
         },
         {
          "Count": 162,
          "County Id": 4,
          "County Name": "MISSOULA",
          "Type": "Goats",
          "Year": 2018
         },
         {
          "Count": 403,
          "County Id": 5,
          "County Name": "LEWIS AND CLARK",
          "Type": "Goats",
          "Year": 2018
         },
         {
          "Count": 495,
          "County Id": 6,
          "County Name": "GALLATIN",
          "Type": "Goats",
          "Year": 2018
         },
         {
          "Count": 178,
          "County Id": 7,
          "County Name": "FLATHEAD",
          "Type": "Goats",
          "Year": 2018
         },
         {
          "Count": 64,
          "County Id": 8,
          "County Name": "FERGUS",
          "Type": "Goats",
          "Year": 2018
         },
         {
          "Count": 388,
          "County Id": 9,
          "County Name": "POWDER RIVER",
          "Type": "Goats",
          "Year": 2018
         },
         {
          "Count": 148,
          "County Id": 10,
          "County Name": "CARBON",
          "Type": "Goats",
          "Year": 2018
         },
         {
          "Count": 89,
          "County Id": 11,
          "County Name": "PHILLIPS",
          "Type": "Goats",
          "Year": 2018
         },
         {
          "Count": 41,
          "County Id": 12,
          "County Name": "HILL",
          "Type": "Goats",
          "Year": 2018
         },
         {
          "Count": 363,
          "County Id": 13,
          "County Name": "RAVALLI",
          "Type": "Goats",
          "Year": 2018
         },
         {
          "Count": 423,
          "County Id": 14,
          "County Name": "CUSTER",
          "Type": "Goats",
          "Year": 2018
         },
         {
          "Count": 49,
          "County Id": 15,
          "County Name": "LAKE",
          "Type": "Goats",
          "Year": 2018
         },
         {
          "Count": 89,
          "County Id": 16,
          "County Name": "DAWSON",
          "Type": "Goats",
          "Year": 2018
         },
         {
          "Count": 73,
          "County Id": 17,
          "County Name": "ROOSEVELT",
          "Type": "Goats",
          "Year": 2018
         },
         {
          "Count": 80,
          "County Id": 18,
          "County Name": "BEAVERHEAD",
          "Type": "Goats",
          "Year": 2018
         },
         {
          "Count": 97,
          "County Id": 19,
          "County Name": "CHOUTEAU",
          "Type": "Goats",
          "Year": 2018
         },
         {
          "Count": 11,
          "County Id": 20,
          "County Name": "VALLEY",
          "Type": "Goats",
          "Year": 2018
         },
         {
          "Count": 14,
          "County Id": 21,
          "County Name": "TOOLE",
          "Type": "Goats",
          "Year": 2018
         },
         {
          "Count": 45,
          "County Id": 22,
          "County Name": "BIG HORN",
          "Type": "Goats",
          "Year": 2018
         },
         {
          "Count": 166,
          "County Id": 23,
          "County Name": "MUSSELSHELL",
          "Type": "Goats",
          "Year": 2018
         },
         {
          "Count": 60,
          "County Id": 24,
          "County Name": "BLAINE",
          "Type": "Goats",
          "Year": 2018
         },
         {
          "Count": 55,
          "County Id": 25,
          "County Name": "MADISON",
          "Type": "Goats",
          "Year": 2018
         },
         {
          "Count": 73,
          "County Id": 26,
          "County Name": "PONDERA",
          "Type": "Goats",
          "Year": 2018
         },
         {
          "Count": 14,
          "County Id": 27,
          "County Name": "RICHLAND",
          "Type": "Goats",
          "Year": 2018
         },
         {
          "Count": 28,
          "County Id": 28,
          "County Name": "POWELL",
          "Type": "Goats",
          "Year": 2018
         },
         {
          "Count": 76,
          "County Id": 29,
          "County Name": "ROSEBUD",
          "Type": "Goats",
          "Year": 2018
         },
         {
          "Count": 36,
          "County Id": 30,
          "County Name": "DEER LODGE",
          "Type": "Goats",
          "Year": 2018
         },
         {
          "Count": 609,
          "County Id": 31,
          "County Name": "TETON",
          "Type": "Goats",
          "Year": 2018
         },
         {
          "Count": 800,
          "County Id": 32,
          "County Name": "STILLWATER",
          "Type": "Goats",
          "Year": 2018
         },
         {
          "Count": 2,
          "County Id": 33,
          "County Name": "TREASURE",
          "Type": "Goats",
          "Year": 2018
         },
         {
          "Count": 16,
          "County Id": 34,
          "County Name": "SHERIDAN",
          "Type": "Goats",
          "Year": 2018
         },
         {
          "Count": 30,
          "County Id": 35,
          "County Name": "SANDERS",
          "Type": "Goats",
          "Year": 2018
         },
         {
          "Count": 45,
          "County Id": 36,
          "County Name": "JUDITH BASIN",
          "Type": "Goats",
          "Year": 2018
         },
         {
          "Count": 4,
          "County Id": 37,
          "County Name": "DANIELS",
          "Type": "Goats",
          "Year": 2018
         },
         {
          "Count": 267,
          "County Id": 38,
          "County Name": "GLACIER",
          "Type": "Goats",
          "Year": 2018
         },
         {
          "Count": 56,
          "County Id": 39,
          "County Name": "FALLON",
          "Type": "Goats",
          "Year": 2018
         },
         {
          "Count": 24,
          "County Id": 40,
          "County Name": "SWEET GRASS",
          "Type": "Goats",
          "Year": 2018
         },
         {
          "Count": 27,
          "County Id": 41,
          "County Name": "MCCONE",
          "Type": "Goats",
          "Year": 2018
         },
         {
          "Count": 26,
          "County Id": 42,
          "County Name": "CARTER",
          "Type": "Goats",
          "Year": 2018
         },
         {
          "Count": 23,
          "County Id": 43,
          "County Name": "BROADWATER",
          "Type": "Goats",
          "Year": 2018
         },
         {
          "Count": 63,
          "County Id": 44,
          "County Name": "WHEATLAND",
          "Type": "Goats",
          "Year": 2018
         },
         {
          "Count": 160,
          "County Id": 45,
          "County Name": "PRAIRIE",
          "Type": "Goats",
          "Year": 2018
         },
         {
          "Count": 26,
          "County Id": 46,
          "County Name": "GRANITE",
          "Type": "Goats",
          "Year": 2018
         },
         {
          "Count": 5,
          "County Id": 47,
          "County Name": "MEAGHER",
          "Type": "Goats",
          "Year": 2018
         },
         {
          "Count": 0,
          "County Id": 48,
          "County Name": "LIBERTY",
          "Type": "Goats",
          "Year": 2018
         },
         {
          "Count": 130,
          "County Id": 49,
          "County Name": "PARK",
          "Type": "Goats",
          "Year": 2018
         },
         {
          "Count": 13,
          "County Id": 50,
          "County Name": "GARFIELD",
          "Type": "Goats",
          "Year": 2018
         },
         {
          "Count": 125,
          "County Id": 51,
          "County Name": "JEFFERSON",
          "Type": "Goats",
          "Year": 2018
         },
         {
          "Count": 4,
          "County Id": 52,
          "County Name": "WIBAUX",
          "Type": "Goats",
          "Year": 2018
         },
         {
          "Count": 456,
          "County Id": 53,
          "County Name": "GOLDEN VALLEY",
          "Type": "Goats",
          "Year": 2018
         },
         {
          "Count": 3,
          "County Id": 54,
          "County Name": "MINERAL",
          "Type": "Goats",
          "Year": 2018
         },
         {
          "Count": 15,
          "County Id": 55,
          "County Name": "PETROLEUM",
          "Type": "Goats",
          "Year": 2018
         },
         {
          "Count": 31,
          "County Id": 56,
          "County Name": "LINCOLN",
          "Type": "Goats",
          "Year": 2018
         },
         {
          "Count": 221,
          "County Id": 1,
          "County Name": "SILVER BOW",
          "Type": "Poultry",
          "Year": 2018
         },
         {
          "Count": 76095,
          "County Id": 2,
          "County Name": "CASCADE",
          "Type": "Poultry",
          "Year": 2018
         },
         {
          "Count": 18250,
          "County Id": 3,
          "County Name": "YELLOWSTONE",
          "Type": "Poultry",
          "Year": 2018
         },
         {
          "Count": 829,
          "County Id": 4,
          "County Name": "MISSOULA",
          "Type": "Poultry",
          "Year": 2018
         },
         {
          "Count": 39080,
          "County Id": 5,
          "County Name": "LEWIS AND CLARK",
          "Type": "Poultry",
          "Year": 2018
         },
         {
          "Count": 4573,
          "County Id": 6,
          "County Name": "GALLATIN",
          "Type": "Poultry",
          "Year": 2018
         },
         {
          "Count": 1408,
          "County Id": 7,
          "County Name": "FLATHEAD",
          "Type": "Poultry",
          "Year": 2018
         },
         {
          "Count": 1601,
          "County Id": 8,
          "County Name": "FERGUS",
          "Type": "Poultry",
          "Year": 2018
         },
         {
          "Count": 442,
          "County Id": 9,
          "County Name": "POWDER RIVER",
          "Type": "Poultry",
          "Year": 2018
         },
         {
          "Count": 534,
          "County Id": 10,
          "County Name": "CARBON",
          "Type": "Poultry",
          "Year": 2018
         },
         {
          "Count": 1955,
          "County Id": 11,
          "County Name": "PHILLIPS",
          "Type": "Poultry",
          "Year": 2018
         },
         {
          "Count": 78321,
          "County Id": 12,
          "County Name": "HILL",
          "Type": "Poultry",
          "Year": 2018
         },
         {
          "Count": 2933,
          "County Id": 13,
          "County Name": "RAVALLI",
          "Type": "Poultry",
          "Year": 2018
         },
         {
          "Count": 333,
          "County Id": 14,
          "County Name": "CUSTER",
          "Type": "Poultry",
          "Year": 2018
         },
         {
          "Count": 793,
          "County Id": 15,
          "County Name": "LAKE",
          "Type": "Poultry",
          "Year": 2018
         },
         {
          "Count": 322,
          "County Id": 16,
          "County Name": "DAWSON",
          "Type": "Poultry",
          "Year": 2018
         },
         {
          "Count": 176,
          "County Id": 17,
          "County Name": "ROOSEVELT",
          "Type": "Poultry",
          "Year": 2018
         },
         {
          "Count": 493,
          "County Id": 18,
          "County Name": "BEAVERHEAD",
          "Type": "Poultry",
          "Year": 2018
         },
         {
          "Count": 352,
          "County Id": 19,
          "County Name": "CHOUTEAU",
          "Type": "Poultry",
          "Year": 2018
         },
         {
          "Count": 369,
          "County Id": 20,
          "County Name": "VALLEY",
          "Type": "Poultry",
          "Year": 2018
         },
         {
          "Count": 17247,
          "County Id": 21,
          "County Name": "TOOLE",
          "Type": "Poultry",
          "Year": 2018
         },
         {
          "Count": 276,
          "County Id": 22,
          "County Name": "BIG HORN",
          "Type": "Poultry",
          "Year": 2018
         },
         {
          "Count": 558,
          "County Id": 23,
          "County Name": "MUSSELSHELL",
          "Type": "Poultry",
          "Year": 2018
         },
         {
          "Count": 45548,
          "County Id": 24,
          "County Name": "BLAINE",
          "Type": "Poultry",
          "Year": 2018
         },
         {
          "Count": 814,
          "County Id": 25,
          "County Name": "MADISON",
          "Type": "Poultry",
          "Year": 2018
         },
         {
          "Count": 94042,
          "County Id": 26,
          "County Name": "PONDERA",
          "Type": "Poultry",
          "Year": 2018
         },
         {
          "Count": 477,
          "County Id": 27,
          "County Name": "RICHLAND",
          "Type": "Poultry",
          "Year": 2018
         },
         {
          "Count": 429,
          "County Id": 28,
          "County Name": "POWELL",
          "Type": "Poultry",
          "Year": 2018
         },
         {
          "Count": 326,
          "County Id": 29,
          "County Name": "ROSEBUD",
          "Type": "Poultry",
          "Year": 2018
         },
         {
          "Count": 85,
          "County Id": 30,
          "County Name": "DEER LODGE",
          "Type": "Poultry",
          "Year": 2018
         },
         {
          "Count": 72506,
          "County Id": 31,
          "County Name": "TETON",
          "Type": "Poultry",
          "Year": 2018
         },
         {
          "Count": 468,
          "County Id": 32,
          "County Name": "STILLWATER",
          "Type": "Poultry",
          "Year": 2018
         },
         {
          "Count": 151,
          "County Id": 33,
          "County Name": "TREASURE",
          "Type": "Poultry",
          "Year": 2018
         },
         {
          "Count": 85,
          "County Id": 34,
          "County Name": "SHERIDAN",
          "Type": "Poultry",
          "Year": 2018
         },
         {
          "Count": 4809,
          "County Id": 35,
          "County Name": "SANDERS",
          "Type": "Poultry",
          "Year": 2018
         },
         {
          "Count": 553,
          "County Id": 36,
          "County Name": "JUDITH BASIN",
          "Type": "Poultry",
          "Year": 2018
         },
         {
          "Count": 192,
          "County Id": 37,
          "County Name": "DANIELS",
          "Type": "Poultry",
          "Year": 2018
         },
         {
          "Count": 185450,
          "County Id": 38,
          "County Name": "GLACIER",
          "Type": "Poultry",
          "Year": 2018
         },
         {
          "Count": 435,
          "County Id": 39,
          "County Name": "FALLON",
          "Type": "Poultry",
          "Year": 2018
         },
         {
          "Count": 363,
          "County Id": 40,
          "County Name": "SWEET GRASS",
          "Type": "Poultry",
          "Year": 2018
         },
         {
          "Count": 581,
          "County Id": 41,
          "County Name": "MCCONE",
          "Type": "Poultry",
          "Year": 2018
         },
         {
          "Count": 392,
          "County Id": 42,
          "County Name": "CARTER",
          "Type": "Poultry",
          "Year": 2018
         },
         {
          "Count": 280,
          "County Id": 43,
          "County Name": "BROADWATER",
          "Type": "Poultry",
          "Year": 2018
         },
         {
          "Count": 27896,
          "County Id": 44,
          "County Name": "WHEATLAND",
          "Type": "Poultry",
          "Year": 2018
         },
         {
          "Count": 125,
          "County Id": 45,
          "County Name": "PRAIRIE",
          "Type": "Poultry",
          "Year": 2018
         },
         {
          "Count": 120,
          "County Id": 46,
          "County Name": "GRANITE",
          "Type": "Poultry",
          "Year": 2018
         },
         {
          "Count": 14368,
          "County Id": 47,
          "County Name": "MEAGHER",
          "Type": "Poultry",
          "Year": 2018
         },
         {
          "Count": 30837,
          "County Id": 48,
          "County Name": "LIBERTY",
          "Type": "Poultry",
          "Year": 2018
         },
         {
          "Count": 1545,
          "County Id": 49,
          "County Name": "PARK",
          "Type": "Poultry",
          "Year": 2018
         },
         {
          "Count": 203,
          "County Id": 50,
          "County Name": "GARFIELD",
          "Type": "Poultry",
          "Year": 2018
         },
         {
          "Count": 666,
          "County Id": 51,
          "County Name": "JEFFERSON",
          "Type": "Poultry",
          "Year": 2018
         },
         {
          "Count": 191,
          "County Id": 52,
          "County Name": "WIBAUX",
          "Type": "Poultry",
          "Year": 2018
         },
         {
          "Count": 24080,
          "County Id": 53,
          "County Name": "GOLDEN VALLEY",
          "Type": "Poultry",
          "Year": 2018
         },
         {
          "Count": 111,
          "County Id": 54,
          "County Name": "MINERAL",
          "Type": "Poultry",
          "Year": 2018
         },
         {
          "Count": 96,
          "County Id": 55,
          "County Name": "PETROLEUM",
          "Type": "Poultry",
          "Year": 2018
         },
         {
          "Count": 841,
          "County Id": 56,
          "County Name": "LINCOLN",
          "Type": "Poultry",
          "Year": 2018
         },
         {
          "Count": 0,
          "County Id": 1,
          "County Name": "SILVER BOW",
          "Type": "Honey Bees",
          "Year": 2018
         },
         {
          "Count": 17,
          "County Id": 2,
          "County Name": "CASCADE",
          "Type": "Honey Bees",
          "Year": 2018
         },
         {
          "Count": 5013,
          "County Id": 3,
          "County Name": "YELLOWSTONE",
          "Type": "Honey Bees",
          "Year": 2018
         },
         {
          "Count": 732,
          "County Id": 4,
          "County Name": "MISSOULA",
          "Type": "Honey Bees",
          "Year": 2018
         },
         {
          "Count": 1118,
          "County Id": 5,
          "County Name": "LEWIS AND CLARK",
          "Type": "Honey Bees",
          "Year": 2018
         },
         {
          "Count": 1628,
          "County Id": 6,
          "County Name": "GALLATIN",
          "Type": "Honey Bees",
          "Year": 2018
         },
         {
          "Count": 348,
          "County Id": 7,
          "County Name": "FLATHEAD",
          "Type": "Honey Bees",
          "Year": 2018
         },
         {
          "Count": 15,
          "County Id": 8,
          "County Name": "FERGUS",
          "Type": "Honey Bees",
          "Year": 2018
         },
         {
          "Count": 830,
          "County Id": 9,
          "County Name": "POWDER RIVER",
          "Type": "Honey Bees",
          "Year": 2018
         },
         {
          "Count": 3587,
          "County Id": 10,
          "County Name": "CARBON",
          "Type": "Honey Bees",
          "Year": 2018
         },
         {
          "Count": 0,
          "County Id": 11,
          "County Name": "PHILLIPS",
          "Type": "Honey Bees",
          "Year": 2018
         },
         {
          "Count": 5,
          "County Id": 12,
          "County Name": "HILL",
          "Type": "Honey Bees",
          "Year": 2018
         },
         {
          "Count": 35,
          "County Id": 13,
          "County Name": "RAVALLI",
          "Type": "Honey Bees",
          "Year": 2018
         },
         {
          "Count": 417,
          "County Id": 14,
          "County Name": "CUSTER",
          "Type": "Honey Bees",
          "Year": 2018
         },
         {
          "Count": 4565,
          "County Id": 15,
          "County Name": "LAKE",
          "Type": "Honey Bees",
          "Year": 2018
         },
         {
          "Count": 0,
          "County Id": 16,
          "County Name": "DAWSON",
          "Type": "Honey Bees",
          "Year": 2018
         },
         {
          "Count": 1962,
          "County Id": 17,
          "County Name": "ROOSEVELT",
          "Type": "Honey Bees",
          "Year": 2018
         },
         {
          "Count": 1,
          "County Id": 18,
          "County Name": "BEAVERHEAD",
          "Type": "Honey Bees",
          "Year": 2018
         },
         {
          "Count": 603,
          "County Id": 19,
          "County Name": "CHOUTEAU",
          "Type": "Honey Bees",
          "Year": 2018
         },
         {
          "Count": 0,
          "County Id": 20,
          "County Name": "VALLEY",
          "Type": "Honey Bees",
          "Year": 2018
         },
         {
          "Count": 0,
          "County Id": 21,
          "County Name": "TOOLE",
          "Type": "Honey Bees",
          "Year": 2018
         },
         {
          "Count": 4,
          "County Id": 22,
          "County Name": "BIG HORN",
          "Type": "Honey Bees",
          "Year": 2018
         },
         {
          "Count": 4,
          "County Id": 23,
          "County Name": "MUSSELSHELL",
          "Type": "Honey Bees",
          "Year": 2018
         },
         {
          "Count": 5317,
          "County Id": 24,
          "County Name": "BLAINE",
          "Type": "Honey Bees",
          "Year": 2018
         },
         {
          "Count": 2,
          "County Id": 25,
          "County Name": "MADISON",
          "Type": "Honey Bees",
          "Year": 2018
         },
         {
          "Count": 1502,
          "County Id": 26,
          "County Name": "PONDERA",
          "Type": "Honey Bees",
          "Year": 2018
         },
         {
          "Count": 0,
          "County Id": 27,
          "County Name": "RICHLAND",
          "Type": "Honey Bees",
          "Year": 2018
         },
         {
          "Count": 1,
          "County Id": 28,
          "County Name": "POWELL",
          "Type": "Honey Bees",
          "Year": 2018
         },
         {
          "Count": 0,
          "County Id": 29,
          "County Name": "ROSEBUD",
          "Type": "Honey Bees",
          "Year": 2018
         },
         {
          "Count": 0,
          "County Id": 30,
          "County Name": "DEER LODGE",
          "Type": "Honey Bees",
          "Year": 2018
         },
         {
          "Count": 650,
          "County Id": 31,
          "County Name": "TETON",
          "Type": "Honey Bees",
          "Year": 2018
         },
         {
          "Count": 2728,
          "County Id": 32,
          "County Name": "STILLWATER",
          "Type": "Honey Bees",
          "Year": 2018
         },
         {
          "Count": 0,
          "County Id": 33,
          "County Name": "TREASURE",
          "Type": "Honey Bees",
          "Year": 2018
         },
         {
          "Count": 0,
          "County Id": 34,
          "County Name": "SHERIDAN",
          "Type": "Honey Bees",
          "Year": 2018
         },
         {
          "Count": 3881,
          "County Id": 35,
          "County Name": "SANDERS",
          "Type": "Honey Bees",
          "Year": 2018
         },
         {
          "Count": 0,
          "County Id": 36,
          "County Name": "JUDITH BASIN",
          "Type": "Honey Bees",
          "Year": 2018
         },
         {
          "Count": 0,
          "County Id": 37,
          "County Name": "DANIELS",
          "Type": "Honey Bees",
          "Year": 2018
         },
         {
          "Count": 75,
          "County Id": 38,
          "County Name": "GLACIER",
          "Type": "Honey Bees",
          "Year": 2018
         },
         {
          "Count": 3564,
          "County Id": 39,
          "County Name": "FALLON",
          "Type": "Honey Bees",
          "Year": 2018
         },
         {
          "Count": 1119,
          "County Id": 40,
          "County Name": "SWEET GRASS",
          "Type": "Honey Bees",
          "Year": 2018
         },
         {
          "Count": 75,
          "County Id": 41,
          "County Name": "MCCONE",
          "Type": "Honey Bees",
          "Year": 2018
         },
         {
          "Count": 1934,
          "County Id": 42,
          "County Name": "CARTER",
          "Type": "Honey Bees",
          "Year": 2018
         },
         {
          "Count": 6,
          "County Id": 43,
          "County Name": "BROADWATER",
          "Type": "Honey Bees",
          "Year": 2018
         },
         {
          "Count": 1923,
          "County Id": 44,
          "County Name": "WHEATLAND",
          "Type": "Honey Bees",
          "Year": 2018
         },
         {
          "Count": 380,
          "County Id": 45,
          "County Name": "PRAIRIE",
          "Type": "Honey Bees",
          "Year": 2018
         },
         {
          "Count": 0,
          "County Id": 46,
          "County Name": "GRANITE",
          "Type": "Honey Bees",
          "Year": 2018
         },
         {
          "Count": 0,
          "County Id": 47,
          "County Name": "MEAGHER",
          "Type": "Honey Bees",
          "Year": 2018
         },
         {
          "Count": 0,
          "County Id": 48,
          "County Name": "LIBERTY",
          "Type": "Honey Bees",
          "Year": 2018
         },
         {
          "Count": 2243,
          "County Id": 49,
          "County Name": "PARK",
          "Type": "Honey Bees",
          "Year": 2018
         },
         {
          "Count": 0,
          "County Id": 50,
          "County Name": "GARFIELD",
          "Type": "Honey Bees",
          "Year": 2018
         },
         {
          "Count": 11,
          "County Id": 51,
          "County Name": "JEFFERSON",
          "Type": "Honey Bees",
          "Year": 2018
         },
         {
          "Count": 12,
          "County Id": 52,
          "County Name": "WIBAUX",
          "Type": "Honey Bees",
          "Year": 2018
         },
         {
          "Count": 1383,
          "County Id": 53,
          "County Name": "GOLDEN VALLEY",
          "Type": "Honey Bees",
          "Year": 2018
         },
         {
          "Count": 43,
          "County Id": 54,
          "County Name": "MINERAL",
          "Type": "Honey Bees",
          "Year": 2018
         },
         {
          "Count": 40,
          "County Id": 55,
          "County Name": "PETROLEUM",
          "Type": "Honey Bees",
          "Year": 2018
         },
         {
          "Count": 1512,
          "County Id": 56,
          "County Name": "LINCOLN",
          "Type": "Honey Bees",
          "Year": 2018
         },
         {
          "Count": 0,
          "County Id": 1,
          "County Name": "SILVER BOW",
          "Type": "Alternative Livestock",
          "Year": 2018
         },
         {
          "Count": 307,
          "County Id": 2,
          "County Name": "CASCADE",
          "Type": "Alternative Livestock",
          "Year": 2018
         },
         {
          "Count": 0,
          "County Id": 3,
          "County Name": "YELLOWSTONE",
          "Type": "Alternative Livestock",
          "Year": 2018
         },
         {
          "Count": 0,
          "County Id": 4,
          "County Name": "MISSOULA",
          "Type": "Alternative Livestock",
          "Year": 2018
         },
         {
          "Count": 0,
          "County Id": 5,
          "County Name": "LEWIS AND CLARK",
          "Type": "Alternative Livestock",
          "Year": 2018
         },
         {
          "Count": 0,
          "County Id": 6,
          "County Name": "GALLATIN",
          "Type": "Alternative Livestock",
          "Year": 2018
         },
         {
          "Count": 82,
          "County Id": 7,
          "County Name": "FLATHEAD",
          "Type": "Alternative Livestock",
          "Year": 2018
         },
         {
          "Count": 0,
          "County Id": 8,
          "County Name": "FERGUS",
          "Type": "Alternative Livestock",
          "Year": 2018
         },
         {
          "Count": 0,
          "County Id": 9,
          "County Name": "POWDER RIVER",
          "Type": "Alternative Livestock",
          "Year": 2018
         },
         {
          "Count": 3,
          "County Id": 10,
          "County Name": "CARBON",
          "Type": "Alternative Livestock",
          "Year": 2018
         },
         {
          "Count": 0,
          "County Id": 11,
          "County Name": "PHILLIPS",
          "Type": "Alternative Livestock",
          "Year": 2018
         },
         {
          "Count": 98,
          "County Id": 12,
          "County Name": "HILL",
          "Type": "Alternative Livestock",
          "Year": 2018
         },
         {
          "Count": 24,
          "County Id": 13,
          "County Name": "RAVALLI",
          "Type": "Alternative Livestock",
          "Year": 2018
         },
         {
          "Count": 0,
          "County Id": 14,
          "County Name": "CUSTER",
          "Type": "Alternative Livestock",
          "Year": 2018
         },
         {
          "Count": 0,
          "County Id": 15,
          "County Name": "LAKE",
          "Type": "Alternative Livestock",
          "Year": 2018
         },
         {
          "Count": 0,
          "County Id": 16,
          "County Name": "DAWSON",
          "Type": "Alternative Livestock",
          "Year": 2018
         },
         {
          "Count": 0,
          "County Id": 17,
          "County Name": "ROOSEVELT",
          "Type": "Alternative Livestock",
          "Year": 2018
         },
         {
          "Count": 0,
          "County Id": 18,
          "County Name": "BEAVERHEAD",
          "Type": "Alternative Livestock",
          "Year": 2018
         },
         {
          "Count": 0,
          "County Id": 19,
          "County Name": "CHOUTEAU",
          "Type": "Alternative Livestock",
          "Year": 2018
         },
         {
          "Count": 0,
          "County Id": 20,
          "County Name": "VALLEY",
          "Type": "Alternative Livestock",
          "Year": 2018
         },
         {
          "Count": 0,
          "County Id": 21,
          "County Name": "TOOLE",
          "Type": "Alternative Livestock",
          "Year": 2018
         },
         {
          "Count": 0,
          "County Id": 22,
          "County Name": "BIG HORN",
          "Type": "Alternative Livestock",
          "Year": 2018
         },
         {
          "Count": 7,
          "County Id": 23,
          "County Name": "MUSSELSHELL",
          "Type": "Alternative Livestock",
          "Year": 2018
         },
         {
          "Count": 0,
          "County Id": 24,
          "County Name": "BLAINE",
          "Type": "Alternative Livestock",
          "Year": 2018
         },
         {
          "Count": 0,
          "County Id": 25,
          "County Name": "MADISON",
          "Type": "Alternative Livestock",
          "Year": 2018
         },
         {
          "Count": 0,
          "County Id": 26,
          "County Name": "PONDERA",
          "Type": "Alternative Livestock",
          "Year": 2018
         },
         {
          "Count": 18,
          "County Id": 27,
          "County Name": "RICHLAND",
          "Type": "Alternative Livestock",
          "Year": 2018
         },
         {
          "Count": 0,
          "County Id": 28,
          "County Name": "POWELL",
          "Type": "Alternative Livestock",
          "Year": 2018
         },
         {
          "Count": 0,
          "County Id": 29,
          "County Name": "ROSEBUD",
          "Type": "Alternative Livestock",
          "Year": 2018
         },
         {
          "Count": 0,
          "County Id": 30,
          "County Name": "DEER LODGE",
          "Type": "Alternative Livestock",
          "Year": 2018
         },
         {
          "Count": 12,
          "County Id": 31,
          "County Name": "TETON",
          "Type": "Alternative Livestock",
          "Year": 2018
         },
         {
          "Count": 0,
          "County Id": 32,
          "County Name": "STILLWATER",
          "Type": "Alternative Livestock",
          "Year": 2018
         },
         {
          "Count": 0,
          "County Id": 33,
          "County Name": "TREASURE",
          "Type": "Alternative Livestock",
          "Year": 2018
         },
         {
          "Count": 0,
          "County Id": 34,
          "County Name": "SHERIDAN",
          "Type": "Alternative Livestock",
          "Year": 2018
         },
         {
          "Count": 0,
          "County Id": 35,
          "County Name": "SANDERS",
          "Type": "Alternative Livestock",
          "Year": 2018
         },
         {
          "Count": 0,
          "County Id": 36,
          "County Name": "JUDITH BASIN",
          "Type": "Alternative Livestock",
          "Year": 2018
         },
         {
          "Count": 0,
          "County Id": 37,
          "County Name": "DANIELS",
          "Type": "Alternative Livestock",
          "Year": 2018
         },
         {
          "Count": 0,
          "County Id": 38,
          "County Name": "GLACIER",
          "Type": "Alternative Livestock",
          "Year": 2018
         },
         {
          "Count": 0,
          "County Id": 39,
          "County Name": "FALLON",
          "Type": "Alternative Livestock",
          "Year": 2018
         },
         {
          "Count": 0,
          "County Id": 40,
          "County Name": "SWEET GRASS",
          "Type": "Alternative Livestock",
          "Year": 2018
         },
         {
          "Count": 0,
          "County Id": 41,
          "County Name": "MCCONE",
          "Type": "Alternative Livestock",
          "Year": 2018
         },
         {
          "Count": 0,
          "County Id": 42,
          "County Name": "CARTER",
          "Type": "Alternative Livestock",
          "Year": 2018
         },
         {
          "Count": 0,
          "County Id": 43,
          "County Name": "BROADWATER",
          "Type": "Alternative Livestock",
          "Year": 2018
         },
         {
          "Count": 0,
          "County Id": 44,
          "County Name": "WHEATLAND",
          "Type": "Alternative Livestock",
          "Year": 2018
         },
         {
          "Count": 5,
          "County Id": 45,
          "County Name": "PRAIRIE",
          "Type": "Alternative Livestock",
          "Year": 2018
         },
         {
          "Count": 0,
          "County Id": 46,
          "County Name": "GRANITE",
          "Type": "Alternative Livestock",
          "Year": 2018
         },
         {
          "Count": 0,
          "County Id": 47,
          "County Name": "MEAGHER",
          "Type": "Alternative Livestock",
          "Year": 2018
         },
         {
          "Count": 0,
          "County Id": 48,
          "County Name": "LIBERTY",
          "Type": "Alternative Livestock",
          "Year": 2018
         },
         {
          "Count": 0,
          "County Id": 49,
          "County Name": "PARK",
          "Type": "Alternative Livestock",
          "Year": 2018
         },
         {
          "Count": 0,
          "County Id": 50,
          "County Name": "GARFIELD",
          "Type": "Alternative Livestock",
          "Year": 2018
         },
         {
          "Count": 27,
          "County Id": 51,
          "County Name": "JEFFERSON",
          "Type": "Alternative Livestock",
          "Year": 2018
         },
         {
          "Count": 0,
          "County Id": 52,
          "County Name": "WIBAUX",
          "Type": "Alternative Livestock",
          "Year": 2018
         },
         {
          "Count": 0,
          "County Id": 53,
          "County Name": "GOLDEN VALLEY",
          "Type": "Alternative Livestock",
          "Year": 2018
         },
         {
          "Count": 0,
          "County Id": 54,
          "County Name": "MINERAL",
          "Type": "Alternative Livestock",
          "Year": 2018
         },
         {
          "Count": 0,
          "County Id": 55,
          "County Name": "PETROLEUM",
          "Type": "Alternative Livestock",
          "Year": 2018
         },
         {
          "Count": 0,
          "County Id": 56,
          "County Name": "LINCOLN",
          "Type": "Alternative Livestock",
          "Year": 2018
         },
         {
          "Count": 0,
          "County Id": 1,
          "County Name": "SILVER BOW",
          "Type": "Ratites",
          "Year": 2018
         },
         {
          "Count": 12,
          "County Id": 2,
          "County Name": "CASCADE",
          "Type": "Ratites",
          "Year": 2018
         },
         {
          "Count": 2,
          "County Id": 3,
          "County Name": "YELLOWSTONE",
          "Type": "Ratites",
          "Year": 2018
         },
         {
          "Count": 4,
          "County Id": 4,
          "County Name": "MISSOULA",
          "Type": "Ratites",
          "Year": 2018
         },
         {
          "Count": 1,
          "County Id": 5,
          "County Name": "LEWIS AND CLARK",
          "Type": "Ratites",
          "Year": 2018
         },
         {
          "Count": 0,
          "County Id": 6,
          "County Name": "GALLATIN",
          "Type": "Ratites",
          "Year": 2018
         },
         {
          "Count": 38,
          "County Id": 7,
          "County Name": "FLATHEAD",
          "Type": "Ratites",
          "Year": 2018
         },
         {
          "Count": 2,
          "County Id": 8,
          "County Name": "FERGUS",
          "Type": "Ratites",
          "Year": 2018
         },
         {
          "Count": 0,
          "County Id": 9,
          "County Name": "POWDER RIVER",
          "Type": "Ratites",
          "Year": 2018
         },
         {
          "Count": 0,
          "County Id": 10,
          "County Name": "CARBON",
          "Type": "Ratites",
          "Year": 2018
         },
         {
          "Count": 3,
          "County Id": 11,
          "County Name": "PHILLIPS",
          "Type": "Ratites",
          "Year": 2018
         },
         {
          "Count": 0,
          "County Id": 12,
          "County Name": "HILL",
          "Type": "Ratites",
          "Year": 2018
         },
         {
          "Count": 18,
          "County Id": 13,
          "County Name": "RAVALLI",
          "Type": "Ratites",
          "Year": 2018
         },
         {
          "Count": 0,
          "County Id": 14,
          "County Name": "CUSTER",
          "Type": "Ratites",
          "Year": 2018
         },
         {
          "Count": 0,
          "County Id": 15,
          "County Name": "LAKE",
          "Type": "Ratites",
          "Year": 2018
         },
         {
          "Count": 0,
          "County Id": 16,
          "County Name": "DAWSON",
          "Type": "Ratites",
          "Year": 2018
         },
         {
          "Count": 0,
          "County Id": 17,
          "County Name": "ROOSEVELT",
          "Type": "Ratites",
          "Year": 2018
         },
         {
          "Count": 4,
          "County Id": 18,
          "County Name": "BEAVERHEAD",
          "Type": "Ratites",
          "Year": 2018
         },
         {
          "Count": 0,
          "County Id": 19,
          "County Name": "CHOUTEAU",
          "Type": "Ratites",
          "Year": 2018
         },
         {
          "Count": 0,
          "County Id": 20,
          "County Name": "VALLEY",
          "Type": "Ratites",
          "Year": 2018
         },
         {
          "Count": 0,
          "County Id": 21,
          "County Name": "TOOLE",
          "Type": "Ratites",
          "Year": 2018
         },
         {
          "Count": 0,
          "County Id": 22,
          "County Name": "BIG HORN",
          "Type": "Ratites",
          "Year": 2018
         },
         {
          "Count": 0,
          "County Id": 23,
          "County Name": "MUSSELSHELL",
          "Type": "Ratites",
          "Year": 2018
         },
         {
          "Count": 0,
          "County Id": 24,
          "County Name": "BLAINE",
          "Type": "Ratites",
          "Year": 2018
         },
         {
          "Count": 0,
          "County Id": 25,
          "County Name": "MADISON",
          "Type": "Ratites",
          "Year": 2018
         },
         {
          "Count": 0,
          "County Id": 26,
          "County Name": "PONDERA",
          "Type": "Ratites",
          "Year": 2018
         },
         {
          "Count": 0,
          "County Id": 27,
          "County Name": "RICHLAND",
          "Type": "Ratites",
          "Year": 2018
         },
         {
          "Count": 0,
          "County Id": 28,
          "County Name": "POWELL",
          "Type": "Ratites",
          "Year": 2018
         },
         {
          "Count": 0,
          "County Id": 29,
          "County Name": "ROSEBUD",
          "Type": "Ratites",
          "Year": 2018
         },
         {
          "Count": 0,
          "County Id": 30,
          "County Name": "DEER LODGE",
          "Type": "Ratites",
          "Year": 2018
         },
         {
          "Count": 0,
          "County Id": 31,
          "County Name": "TETON",
          "Type": "Ratites",
          "Year": 2018
         },
         {
          "Count": 3,
          "County Id": 32,
          "County Name": "STILLWATER",
          "Type": "Ratites",
          "Year": 2018
         },
         {
          "Count": 0,
          "County Id": 33,
          "County Name": "TREASURE",
          "Type": "Ratites",
          "Year": 2018
         },
         {
          "Count": 0,
          "County Id": 34,
          "County Name": "SHERIDAN",
          "Type": "Ratites",
          "Year": 2018
         },
         {
          "Count": 1,
          "County Id": 35,
          "County Name": "SANDERS",
          "Type": "Ratites",
          "Year": 2018
         },
         {
          "Count": 0,
          "County Id": 36,
          "County Name": "JUDITH BASIN",
          "Type": "Ratites",
          "Year": 2018
         },
         {
          "Count": 0,
          "County Id": 37,
          "County Name": "DANIELS",
          "Type": "Ratites",
          "Year": 2018
         },
         {
          "Count": 0,
          "County Id": 38,
          "County Name": "GLACIER",
          "Type": "Ratites",
          "Year": 2018
         },
         {
          "Count": 0,
          "County Id": 39,
          "County Name": "FALLON",
          "Type": "Ratites",
          "Year": 2018
         },
         {
          "Count": 0,
          "County Id": 40,
          "County Name": "SWEET GRASS",
          "Type": "Ratites",
          "Year": 2018
         },
         {
          "Count": 0,
          "County Id": 41,
          "County Name": "MCCONE",
          "Type": "Ratites",
          "Year": 2018
         },
         {
          "Count": 2,
          "County Id": 42,
          "County Name": "CARTER",
          "Type": "Ratites",
          "Year": 2018
         },
         {
          "Count": 0,
          "County Id": 43,
          "County Name": "BROADWATER",
          "Type": "Ratites",
          "Year": 2018
         },
         {
          "Count": 0,
          "County Id": 44,
          "County Name": "WHEATLAND",
          "Type": "Ratites",
          "Year": 2018
         },
         {
          "Count": 0,
          "County Id": 45,
          "County Name": "PRAIRIE",
          "Type": "Ratites",
          "Year": 2018
         },
         {
          "Count": 0,
          "County Id": 46,
          "County Name": "GRANITE",
          "Type": "Ratites",
          "Year": 2018
         },
         {
          "Count": 0,
          "County Id": 47,
          "County Name": "MEAGHER",
          "Type": "Ratites",
          "Year": 2018
         },
         {
          "Count": 0,
          "County Id": 48,
          "County Name": "LIBERTY",
          "Type": "Ratites",
          "Year": 2018
         },
         {
          "Count": 2,
          "County Id": 49,
          "County Name": "PARK",
          "Type": "Ratites",
          "Year": 2018
         },
         {
          "Count": 0,
          "County Id": 50,
          "County Name": "GARFIELD",
          "Type": "Ratites",
          "Year": 2018
         },
         {
          "Count": 0,
          "County Id": 51,
          "County Name": "JEFFERSON",
          "Type": "Ratites",
          "Year": 2018
         },
         {
          "Count": 0,
          "County Id": 52,
          "County Name": "WIBAUX",
          "Type": "Ratites",
          "Year": 2018
         },
         {
          "Count": 0,
          "County Id": 53,
          "County Name": "GOLDEN VALLEY",
          "Type": "Ratites",
          "Year": 2018
         },
         {
          "Count": 0,
          "County Id": 54,
          "County Name": "MINERAL",
          "Type": "Ratites",
          "Year": 2018
         },
         {
          "Count": 0,
          "County Id": 55,
          "County Name": "PETROLEUM",
          "Type": "Ratites",
          "Year": 2018
         },
         {
          "Count": 2,
          "County Id": 56,
          "County Name": "LINCOLN",
          "Type": "Ratites",
          "Year": 2018
         },
         {
          "Count": 17,
          "County Id": 1,
          "County Name": "SILVER BOW",
          "Type": "Llamas and Alpacas",
          "Year": 2018
         },
         {
          "Count": 23,
          "County Id": 2,
          "County Name": "CASCADE",
          "Type": "Llamas and Alpacas",
          "Year": 2018
         },
         {
          "Count": 62,
          "County Id": 3,
          "County Name": "YELLOWSTONE",
          "Type": "Llamas and Alpacas",
          "Year": 2018
         },
         {
          "Count": 34,
          "County Id": 4,
          "County Name": "MISSOULA",
          "Type": "Llamas and Alpacas",
          "Year": 2018
         },
         {
          "Count": 43,
          "County Id": 5,
          "County Name": "LEWIS AND CLARK",
          "Type": "Llamas and Alpacas",
          "Year": 2018
         },
         {
          "Count": 173,
          "County Id": 6,
          "County Name": "GALLATIN",
          "Type": "Llamas and Alpacas",
          "Year": 2018
         },
         {
          "Count": 145,
          "County Id": 7,
          "County Name": "FLATHEAD",
          "Type": "Llamas and Alpacas",
          "Year": 2018
         },
         {
          "Count": 53,
          "County Id": 8,
          "County Name": "FERGUS",
          "Type": "Llamas and Alpacas",
          "Year": 2018
         },
         {
          "Count": 9,
          "County Id": 9,
          "County Name": "POWDER RIVER",
          "Type": "Llamas and Alpacas",
          "Year": 2018
         },
         {
          "Count": 56,
          "County Id": 10,
          "County Name": "CARBON",
          "Type": "Llamas and Alpacas",
          "Year": 2018
         },
         {
          "Count": 6,
          "County Id": 11,
          "County Name": "PHILLIPS",
          "Type": "Llamas and Alpacas",
          "Year": 2018
         },
         {
          "Count": 10,
          "County Id": 12,
          "County Name": "HILL",
          "Type": "Llamas and Alpacas",
          "Year": 2018
         },
         {
          "Count": 221,
          "County Id": 13,
          "County Name": "RAVALLI",
          "Type": "Llamas and Alpacas",
          "Year": 2018
         },
         {
          "Count": 43,
          "County Id": 14,
          "County Name": "CUSTER",
          "Type": "Llamas and Alpacas",
          "Year": 2018
         },
         {
          "Count": 36,
          "County Id": 15,
          "County Name": "LAKE",
          "Type": "Llamas and Alpacas",
          "Year": 2018
         },
         {
          "Count": 6,
          "County Id": 16,
          "County Name": "DAWSON",
          "Type": "Llamas and Alpacas",
          "Year": 2018
         },
         {
          "Count": 3,
          "County Id": 17,
          "County Name": "ROOSEVELT",
          "Type": "Llamas and Alpacas",
          "Year": 2018
         },
         {
          "Count": 16,
          "County Id": 18,
          "County Name": "BEAVERHEAD",
          "Type": "Llamas and Alpacas",
          "Year": 2018
         },
         {
          "Count": 4,
          "County Id": 19,
          "County Name": "CHOUTEAU",
          "Type": "Llamas and Alpacas",
          "Year": 2018
         },
         {
          "Count": 4,
          "County Id": 20,
          "County Name": "VALLEY",
          "Type": "Llamas and Alpacas",
          "Year": 2018
         },
         {
          "Count": 1,
          "County Id": 21,
          "County Name": "TOOLE",
          "Type": "Llamas and Alpacas",
          "Year": 2018
         },
         {
          "Count": 7,
          "County Id": 22,
          "County Name": "BIG HORN",
          "Type": "Llamas and Alpacas",
          "Year": 2018
         },
         {
          "Count": 17,
          "County Id": 23,
          "County Name": "MUSSELSHELL",
          "Type": "Llamas and Alpacas",
          "Year": 2018
         },
         {
          "Count": 12,
          "County Id": 24,
          "County Name": "BLAINE",
          "Type": "Llamas and Alpacas",
          "Year": 2018
         },
         {
          "Count": 3,
          "County Id": 25,
          "County Name": "MADISON",
          "Type": "Llamas and Alpacas",
          "Year": 2018
         },
         {
          "Count": 6,
          "County Id": 26,
          "County Name": "PONDERA",
          "Type": "Llamas and Alpacas",
          "Year": 2018
         },
         {
          "Count": 4,
          "County Id": 27,
          "County Name": "RICHLAND",
          "Type": "Llamas and Alpacas",
          "Year": 2018
         },
         {
          "Count": 5,
          "County Id": 28,
          "County Name": "POWELL",
          "Type": "Llamas and Alpacas",
          "Year": 2018
         },
         {
          "Count": 6,
          "County Id": 29,
          "County Name": "ROSEBUD",
          "Type": "Llamas and Alpacas",
          "Year": 2018
         },
         {
          "Count": 15,
          "County Id": 30,
          "County Name": "DEER LODGE",
          "Type": "Llamas and Alpacas",
          "Year": 2018
         },
         {
          "Count": 27,
          "County Id": 31,
          "County Name": "TETON",
          "Type": "Llamas and Alpacas",
          "Year": 2018
         },
         {
          "Count": 8,
          "County Id": 32,
          "County Name": "STILLWATER",
          "Type": "Llamas and Alpacas",
          "Year": 2018
         },
         {
          "Count": 3,
          "County Id": 33,
          "County Name": "TREASURE",
          "Type": "Llamas and Alpacas",
          "Year": 2018
         },
         {
          "Count": 8,
          "County Id": 34,
          "County Name": "SHERIDAN",
          "Type": "Llamas and Alpacas",
          "Year": 2018
         },
         {
          "Count": 10,
          "County Id": 35,
          "County Name": "SANDERS",
          "Type": "Llamas and Alpacas",
          "Year": 2018
         },
         {
          "Count": 4,
          "County Id": 36,
          "County Name": "JUDITH BASIN",
          "Type": "Llamas and Alpacas",
          "Year": 2018
         },
         {
          "Count": 2,
          "County Id": 37,
          "County Name": "DANIELS",
          "Type": "Llamas and Alpacas",
          "Year": 2018
         },
         {
          "Count": 6,
          "County Id": 38,
          "County Name": "GLACIER",
          "Type": "Llamas and Alpacas",
          "Year": 2018
         },
         {
          "Count": 3,
          "County Id": 39,
          "County Name": "FALLON",
          "Type": "Llamas and Alpacas",
          "Year": 2018
         },
         {
          "Count": 3,
          "County Id": 40,
          "County Name": "SWEET GRASS",
          "Type": "Llamas and Alpacas",
          "Year": 2018
         },
         {
          "Count": 10,
          "County Id": 41,
          "County Name": "MCCONE",
          "Type": "Llamas and Alpacas",
          "Year": 2018
         },
         {
          "Count": 9,
          "County Id": 42,
          "County Name": "CARTER",
          "Type": "Llamas and Alpacas",
          "Year": 2018
         },
         {
          "Count": 1,
          "County Id": 43,
          "County Name": "BROADWATER",
          "Type": "Llamas and Alpacas",
          "Year": 2018
         },
         {
          "Count": 7,
          "County Id": 44,
          "County Name": "WHEATLAND",
          "Type": "Llamas and Alpacas",
          "Year": 2018
         },
         {
          "Count": 4,
          "County Id": 45,
          "County Name": "PRAIRIE",
          "Type": "Llamas and Alpacas",
          "Year": 2018
         },
         {
          "Count": 3,
          "County Id": 46,
          "County Name": "GRANITE",
          "Type": "Llamas and Alpacas",
          "Year": 2018
         },
         {
          "Count": 1,
          "County Id": 47,
          "County Name": "MEAGHER",
          "Type": "Llamas and Alpacas",
          "Year": 2018
         },
         {
          "Count": 5,
          "County Id": 48,
          "County Name": "LIBERTY",
          "Type": "Llamas and Alpacas",
          "Year": 2018
         },
         {
          "Count": 102,
          "County Id": 49,
          "County Name": "PARK",
          "Type": "Llamas and Alpacas",
          "Year": 2018
         },
         {
          "Count": 0,
          "County Id": 50,
          "County Name": "GARFIELD",
          "Type": "Llamas and Alpacas",
          "Year": 2018
         },
         {
          "Count": 12,
          "County Id": 51,
          "County Name": "JEFFERSON",
          "Type": "Llamas and Alpacas",
          "Year": 2018
         },
         {
          "Count": 0,
          "County Id": 52,
          "County Name": "WIBAUX",
          "Type": "Llamas and Alpacas",
          "Year": 2018
         },
         {
          "Count": 4,
          "County Id": 53,
          "County Name": "GOLDEN VALLEY",
          "Type": "Llamas and Alpacas",
          "Year": 2018
         },
         {
          "Count": 2,
          "County Id": 54,
          "County Name": "MINERAL",
          "Type": "Llamas and Alpacas",
          "Year": 2018
         },
         {
          "Count": 0,
          "County Id": 55,
          "County Name": "PETROLEUM",
          "Type": "Llamas and Alpacas",
          "Year": 2018
         },
         {
          "Count": 13,
          "County Id": 56,
          "County Name": "LINCOLN",
          "Type": "Llamas and Alpacas",
          "Year": 2018
         }
        ]
       },
       "encoding": {
        "color": {
         "field": "Type",
         "type": "nominal"
        },
        "size": {
         "field": "Count",
         "type": "quantitative"
        },
        "x": {
         "field": "Type",
         "type": "nominal"
        },
        "y": {
         "field": "County Name",
         "type": "nominal"
        }
       },
       "mark": "circle"
      },
      "image/png": "[encoded data removed]",
      "text/plain": [
       "<VegaLite 3 object>\n",
       "\n",
       "If you see this message, it means the renderer has not been properly enabled\n",
       "for the frontend that you are using. For more information, see\n",
       "https://altair-viz.github.io/user_guide/troubleshooting.html\n"
      ]
     },
     "execution_count": 82,
     "metadata": {},
     "output_type": "execute_result"
    }
   ],
   "source": [
    "# Now with the full data set!\n",
    "\n",
    "alt.Chart(full[full['Year'] == 2018]).mark_circle().encode(\n",
    "    size='Count',\n",
    "    y='County Name',\n",
    "    x='Type',\n",
    "    color='Type', # No reason fields can't be encoded more than one way\n",
    ")"
   ]
  },
  {
   "cell_type": "code",
   "execution_count": 102,
   "metadata": {},
   "outputs": [
    {
     "data": {
      "application/vnd.vegalite.v3+json": {
       "$schema": "https://vega.github.io/schema/vega-lite/v3.4.0.json",
       "config": {
        "background": "white",
        "mark": {
         "tooltip": null
        },
        "view": {
         "height": 300,
         "width": 400
        }
       },
       "data": {
        "name": "data-fe95dfe726feb5adfd02d6aae6aa6c96"
       },
       "datasets": {
        "data-fe95dfe726feb5adfd02d6aae6aa6c96": [
         {
          "Count": 2881,
          "County Id": 1,
          "County Name": "SILVER BOW",
          "Type": "Cattle",
          "Year": 2018
         },
         {
          "Count": 47620,
          "County Id": 2,
          "County Name": "CASCADE",
          "Type": "Cattle",
          "Year": 2018
         },
         {
          "Count": 57520,
          "County Id": 3,
          "County Name": "YELLOWSTONE",
          "Type": "Cattle",
          "Year": 2018
         },
         {
          "Count": 25917,
          "County Id": 5,
          "County Name": "LEWIS AND CLARK",
          "Type": "Cattle",
          "Year": 2018
         },
         {
          "Count": 25584,
          "County Id": 6,
          "County Name": "GALLATIN",
          "Type": "Cattle",
          "Year": 2018
         },
         {
          "Count": 4713,
          "County Id": 7,
          "County Name": "FLATHEAD",
          "Type": "Cattle",
          "Year": 2018
         },
         {
          "Count": 219,
          "County Id": 1,
          "County Name": "SILVER BOW",
          "Type": "Sheep",
          "Year": 2018
         },
         {
          "Count": 4276,
          "County Id": 2,
          "County Name": "CASCADE",
          "Type": "Sheep",
          "Year": 2018
         },
         {
          "Count": 1679,
          "County Id": 3,
          "County Name": "YELLOWSTONE",
          "Type": "Sheep",
          "Year": 2018
         },
         {
          "Count": 2710,
          "County Id": 5,
          "County Name": "LEWIS AND CLARK",
          "Type": "Sheep",
          "Year": 2018
         },
         {
          "Count": 1429,
          "County Id": 6,
          "County Name": "GALLATIN",
          "Type": "Sheep",
          "Year": 2018
         },
         {
          "Count": 244,
          "County Id": 7,
          "County Name": "FLATHEAD",
          "Type": "Sheep",
          "Year": 2018
         },
         {
          "Count": 4,
          "County Id": 1,
          "County Name": "SILVER BOW",
          "Type": "Swine",
          "Year": 2018
         },
         {
          "Count": 14587,
          "County Id": 2,
          "County Name": "CASCADE",
          "Type": "Swine",
          "Year": 2018
         },
         {
          "Count": 1597,
          "County Id": 3,
          "County Name": "YELLOWSTONE",
          "Type": "Swine",
          "Year": 2018
         },
         {
          "Count": 1117,
          "County Id": 5,
          "County Name": "LEWIS AND CLARK",
          "Type": "Swine",
          "Year": 2018
         },
         {
          "Count": 118,
          "County Id": 6,
          "County Name": "GALLATIN",
          "Type": "Swine",
          "Year": 2018
         },
         {
          "Count": 523,
          "County Id": 7,
          "County Name": "FLATHEAD",
          "Type": "Swine",
          "Year": 2018
         },
         {
          "Count": 6,
          "County Id": 1,
          "County Name": "SILVER BOW",
          "Type": "Goats",
          "Year": 2018
         },
         {
          "Count": 267,
          "County Id": 2,
          "County Name": "CASCADE",
          "Type": "Goats",
          "Year": 2018
         },
         {
          "Count": 395,
          "County Id": 3,
          "County Name": "YELLOWSTONE",
          "Type": "Goats",
          "Year": 2018
         },
         {
          "Count": 403,
          "County Id": 5,
          "County Name": "LEWIS AND CLARK",
          "Type": "Goats",
          "Year": 2018
         },
         {
          "Count": 495,
          "County Id": 6,
          "County Name": "GALLATIN",
          "Type": "Goats",
          "Year": 2018
         },
         {
          "Count": 178,
          "County Id": 7,
          "County Name": "FLATHEAD",
          "Type": "Goats",
          "Year": 2018
         },
         {
          "Count": 221,
          "County Id": 1,
          "County Name": "SILVER BOW",
          "Type": "Poultry",
          "Year": 2018
         },
         {
          "Count": 76095,
          "County Id": 2,
          "County Name": "CASCADE",
          "Type": "Poultry",
          "Year": 2018
         },
         {
          "Count": 18250,
          "County Id": 3,
          "County Name": "YELLOWSTONE",
          "Type": "Poultry",
          "Year": 2018
         },
         {
          "Count": 39080,
          "County Id": 5,
          "County Name": "LEWIS AND CLARK",
          "Type": "Poultry",
          "Year": 2018
         },
         {
          "Count": 4573,
          "County Id": 6,
          "County Name": "GALLATIN",
          "Type": "Poultry",
          "Year": 2018
         },
         {
          "Count": 1408,
          "County Id": 7,
          "County Name": "FLATHEAD",
          "Type": "Poultry",
          "Year": 2018
         }
        ]
       },
       "encoding": {
        "color": {
         "field": "Type",
         "title": "",
         "type": "nominal"
        },
        "size": {
         "field": "Count",
         "title": "Head, 2018",
         "type": "quantitative"
        },
        "tooltip": [
         {
          "field": "County Name",
          "type": "nominal"
         },
         {
          "field": "Type",
          "type": "nominal"
         },
         {
          "field": "Count",
          "type": "quantitative"
         }
        ],
        "x": {
         "field": "Type",
         "title": "",
         "type": "nominal"
        },
        "y": {
         "field": "County Name",
         "title": "County",
         "type": "nominal"
        }
       },
       "mark": "circle"
      },
      "image/png": "[encoded data removed]",
      "text/plain": [
       "<VegaLite 3 object>\n",
       "\n",
       "If you see this message, it means the renderer has not been properly enabled\n",
       "for the frontend that you are using. For more information, see\n",
       "https://altair-viz.github.io/user_guide/troubleshooting.html\n"
      ]
     },
     "execution_count": 102,
     "metadata": {},
     "output_type": "execute_result"
    }
   ],
   "source": [
    "# How about ag near big cities. Which \"urban\" county in Montana has the most cows?\n",
    "\n",
    "include_counties_urban = ['YELLOWSTONE','MISSOULLA','CASCADE','GALLATIN','LEWIS AND CLARK','FLATHEAD','SILVER BOW']\n",
    "# Let's strip the tabel down some too\n",
    "include_types_urban = ['Cattle','Goats','Sheep','Poultry','Swine']\n",
    "# Let's look just at a few \n",
    "urban_counties = full[\n",
    "    full['County Name'].isin(include_counties_urban)\n",
    "    & full['Type'].isin(include_types_urban)\n",
    "    & (full['Year'] == 2018)\n",
    "]\n",
    "\n",
    "alt.Chart(urban_counties).mark_circle().encode(\n",
    "    size=alt.Size('Count', title='Head, 2018'),\n",
    "    y=alt.Y('County Name', title='County'),\n",
    "    x=alt.X('Type', title=''),\n",
    "    color=alt.Color('Type', title=''),\n",
    "    tooltip=['County Name', 'Type','Count'],\n",
    ")"
   ]
  },
  {
   "cell_type": "code",
   "execution_count": null,
   "metadata": {},
   "outputs": [],
   "source": []
  }
 ],
 "metadata": {
  "kernelspec": {
   "display_name": "Python 3",
   "language": "python",
   "name": "python3"
  },
  "language_info": {
   "codemirror_mode": {
    "name": "ipython",
    "version": 3
   },
   "file_extension": ".py",
   "mimetype": "text/x-python",
   "name": "python",
   "nbconvert_exporter": "python",
   "pygments_lexer": "ipython3",
   "version": "3.6.4"
  }
 },
 "nbformat": 4,
 "nbformat_minor": 4
}
